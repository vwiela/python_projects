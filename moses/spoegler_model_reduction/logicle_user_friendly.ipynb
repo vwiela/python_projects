{
 "cells": [
  {
   "cell_type": "markdown",
   "metadata": {},
   "source": [
    "# Other input parameters\n",
    "As a next step, we want to implement the logicle function in a way that the user does not need to specify the unintuitive parameters  $T, W, A, M$ on their own, but just give more intuitive and clear parameters.\n",
    "This are the top of the scale $T$ and the value, at which he wants the transition from linear to logarithm, $trans$.\n",
    "We implement the function for parameter spaces, that are starting at zero and have negative values only due to noise effects. That means that we set $A = -W$ by default, so that we are not including negative values, but $0$ is on scale.\n",
    "\n",
    "In order to complete the four parameters we fix the parameter $M=4.5$ (if not specified different) and calculate the last parameter $W$ corresponding to the specified parameter $trans$. It is recommended in the publication that the parameter that is varied should be $W$ rather than any other.\n",
    "\n",
    "Since $W$ is the linearization width (in positive direction) and $M$ the width of the logicle display, we know that on the display scaled to $[0,1]$ the transition occurs at\n",
    "$$\n",
    "transition.scaled = \\frac{W}{M-W},\n",
    "$$\n",
    "where $transition.scaled=logicle(trans)$.\n",
    "This means we can find the parameter $W$ by solving \n",
    "$$0=logicle(trans)-\\frac{W}{W-M}.$$\n",
    "(Note that the logicle function depends on $W$) \n",
    "We solve this equation numerically usingthe newton method from scipy.optimize."
   ]
  },
  {
   "cell_type": "code",
   "execution_count": 2,
   "metadata": {},
   "outputs": [],
   "source": [
    "import numpy as np\n",
    "import sys\n",
    "import scipy\n",
    "from scipy.optimize import fsolve\n",
    "import matplotlib.pyplot as plt"
   ]
  },
  {
   "cell_type": "code",
   "execution_count": 3,
   "metadata": {},
   "outputs": [],
   "source": [
    "def solve_d (w,b):\n",
    "    if w==0:\n",
    "        return b\n",
    "    def g(x):\n",
    "        g = w*(b+x)+2*(np.log(x)-np.log(b))\n",
    "        return g\n",
    "    d = fsolve(g, b)\n",
    "    return d\n",
    "\n",
    "# function to compute linear region width\n",
    "def compute_W(T, trans, M):\n",
    "    from scipy.optimize import newton\n",
    "    h = lambda W: (W/(M-W))-logicleTransform(trans, T=T, W=float(W), M=M)\n",
    "\n",
    "    W = newton(h,  0.5, tol=1e-10)\n",
    "    return W\n",
    "\n",
    "def function_parameters(T, trans=None, W=None, A=None, M=None):\n",
    "    if M is None:\n",
    "        M = 4.5\n",
    "\n",
    "    if W is None:\n",
    "        W = compute_W(T, trans, M)\n",
    "\n",
    "    if A is None:\n",
    "        A = -W\n",
    "\n",
    "    b = (M+A)*np.log(10)\n",
    "    w = W/(M+A)\n",
    "    x2 = A/(M+A)\n",
    "    x1 = x2 + w\n",
    "    x0 = x1 + w\n",
    "    d = solve_d(w,b)\n",
    "    c_a = np.exp(x0*(b+d))\n",
    "    mf_a = np.exp(b*x1)- (c_a/np.exp(d*x1)) \n",
    "    a = T / ((np.exp(b) - mf_a) - (c_a / np.exp(d)))\n",
    "    c = c_a * a \n",
    "    f = -mf_a * a \n",
    "\n",
    "    return [x0, x1, x2, a, b, c, d, f, w, T, W, A, M]\n",
    "\n",
    "def biexponentialTaylorSeries(scaled, T, W, A, M):\n",
    "\n",
    "    b = (M+A)*np.log(10)\n",
    "    w = W/(M+A)\n",
    "    x2 = A/(M+A)\n",
    "    x1 = x2 + w\n",
    "    x0 = x1 + w\n",
    "    d = solve_d(w,b)\n",
    "    c_a = np.exp(x0*(b+d))\n",
    "    mf_a = np.exp(b*x1)- (c_a/np.exp(d*x1)) \n",
    "    a = T / ((np.exp(b) - mf_a) - (c_a / np.exp(d)))\n",
    "    c = c_a * a \n",
    "    f = -mf_a * a\n",
    "    \n",
    "    order = 16 # order of taylor series is 16\n",
    "\n",
    "    posCoef = a*np.exp(b*x1)\n",
    "    negCoef = -c*np.exp(-d*x1)\n",
    "    taylorCoef = np.zeros(order)\n",
    "\n",
    "    for i in range(order):\n",
    "        posCoef = posCoef*(b/(i+1))\n",
    "        negCoef = negCoef*(-d/(i+1))\n",
    "        taylorCoef[i] = posCoef + negCoef\n",
    "    taylorCoef[1]=0 # ensuring that the second derivative is 0 (logicle condition)    \n",
    "\n",
    "    x = scaled - x1\n",
    "    sum = 0\n",
    "\n",
    "    for i in range(order): \n",
    "        sum = (sum + taylorCoef[order-1-i])*x \n",
    "        \n",
    "    return sum"
   ]
  },
  {
   "cell_type": "code",
   "execution_count": 4,
   "metadata": {},
   "outputs": [],
   "source": [
    "def logicleTransform(par, T, trans=None, W=None, A=None, M=None):\n",
    "    # set missing parameters\n",
    "    if M is None:\n",
    "        M = 4.5\n",
    "\n",
    "    if W is None:\n",
    "        W = compute_W(T, trans, M)\n",
    "\n",
    "    if A is None:\n",
    "        A = -W\n",
    "\n",
    "    # check parameter conditions\n",
    "    if T <= 0:\n",
    "    \tsys.exit(\"T is not positive\")\n",
    "\n",
    "    if W < 0:\n",
    "\t    sys.exit(\"W is negative\")\n",
    "\n",
    "    if M <= 0:\n",
    "\t    sys.exit(\"M is not positive\")\n",
    "\n",
    "    if 2 * W > M:\n",
    "\t    sys.exit(\"W is too large\")\n",
    "\n",
    "    if -A > W or A + W > M - W:\n",
    "\t    sys.exit(\"A is too large\")\n",
    "\n",
    "    # compute parameters for biexponential function\n",
    "    b = (M+A)*np.log(10)\n",
    "    w = W/(M+A)\n",
    "    x2 = A/(M+A)\n",
    "    x1 = x2 + w\n",
    "    x0 = x1 + w\n",
    "    d = solve_d(w,b)\n",
    "    c_a = np.exp(x0*(b+d))\n",
    "    mf_a = np.exp(b*x1)- (c_a/np.exp(d*x1)) \n",
    "    a = T / ((np.exp(b) - mf_a) - (c_a / np.exp(d)))\n",
    "    c = c_a * a \n",
    "    f = -mf_a * a \n",
    "\n",
    "\n",
    "\n",
    "    def logicleTransform1d(value):\n",
    "        if value==0: # exclude exact zero value\n",
    "            return x1\n",
    "\n",
    "        negative = value<0\n",
    "        if negative:\n",
    "            value = -value\n",
    "    \n",
    "        if value < f:\n",
    "          x = x1+(value/(a*b*np.exp(b*x1)+c*d*np.exp(-d*x1))) # later use taylorCoef[0]?!\n",
    "    \n",
    "        if value >= f:\n",
    "          x = np.log(value/a)/b # in original implementation other condition, why?\n",
    "    \n",
    "        tolerance = 1e-10 # set tolerance for convergence\n",
    "        n_steps = 50 # set maximal number of steps for Halley's method\n",
    "        taylor_treshold = x1 + w/4 # threshold for neighbourhood of x1 in which we apply taylor series\n",
    "\n",
    "        for i in range(n_steps):\n",
    "            step = i\n",
    "            first_term = a*np.exp(b*x)\n",
    "            second_term = c*np.exp(-d*x)\n",
    "\n",
    "            if x < taylor_treshold:\n",
    "                y = biexponentialTaylorSeries(x,  T, W, A, M) - value\n",
    "            else:\n",
    "                y = first_term-second_term+f - value\n",
    "            dy = b*first_term + d*second_term\n",
    "            ddy = b*b*first_term - d*d*second_term\n",
    "\n",
    "            delta = y/(dy-((y*ddy)/(2*dy)))\n",
    "            x = x - delta\n",
    "\n",
    "            if np.absolute(delta) < tolerance:\n",
    "                if negative:\n",
    "                    return 2*x1-x\n",
    "                else:\n",
    "                    return x\n",
    "                \n",
    "        sys.exit(\"Scale did not converge!\")\n",
    "   \n",
    "    if np.ndim(par)==0:\n",
    "        logicle_par = logicleTransform1d(par)\n",
    "    else:\n",
    "        length = len(par)\n",
    "        logicle_par = np.zeros(length)\n",
    "\n",
    "        for i in range(length):\n",
    "            logicle_par[i] = logicleTransform1d(par[i])\n",
    "    \n",
    "    return logicle_par"
   ]
  },
  {
   "cell_type": "code",
   "execution_count": 5,
   "metadata": {},
   "outputs": [],
   "source": [
    "def logicleInverseTransform(scaled, T, trans=None, W=None, A=None, M=None):\n",
    "    # set missing parameters\n",
    "    if M is None:\n",
    "        M = 4.5\n",
    "\n",
    "    if W is None:\n",
    "        W = compute_W(T, trans, M)\n",
    "\n",
    "    if A is None:\n",
    "        A = -W\n",
    "\n",
    "    # check parameter conditions\n",
    "    if T <= 0:\n",
    "    \tsys.exit(\"T is not positive\")\n",
    "\n",
    "    if W < 0:\n",
    "\t    sys.exit(\"W is negative\")\n",
    "\n",
    "    if M <= 0:\n",
    "\t    sys.exit(\"M is not positive\")\n",
    "\n",
    "    if 2 * W > M:\n",
    "\t    sys.exit(\"W is too large\")\n",
    "\n",
    "    if -A > W or A + W > M - W:\n",
    "\t    sys.exit(\"A is too large\")\n",
    "\n",
    "    # compute parameters for biexponential function\n",
    "    b = (M+A)*np.log(10)\n",
    "    w = W/(M+A)\n",
    "    x2 = A/(M+A)\n",
    "    x1 = x2 + w\n",
    "    x0 = x1 + w\n",
    "    d = solve_d(w,b)\n",
    "    c_a = np.exp(x0*(b+d))\n",
    "    mf_a = np.exp(b*x1)- (c_a/np.exp(d*x1)) \n",
    "    a = T / ((np.exp(b) - mf_a) - (c_a / np.exp(d)))\n",
    "    c = c_a * a \n",
    "    f = -mf_a * a\n",
    "\n",
    "\n",
    "    def logicleInverseTransform1d(scaled):\n",
    "        negative = scaled < x1\n",
    "\n",
    "        if negative:\n",
    "            scaled = 2*x1-scaled   # reflect negative region\n",
    "    \n",
    "        taylor_treshold = x1 + w/4 # threshold for neighbourhood of x1 in which we apply taylor series (include in logicle object?)\n",
    "\n",
    "        if scaled < taylor_treshold:\n",
    "            inverse = biexponentialTaylorSeries(scaled, T, W, A, M)\n",
    "        else:\n",
    "            inverse = a*np.exp(b*scaled)-c*np.exp(-d*scaled)+f\n",
    "\n",
    "        if negative:\n",
    "            return - inverse\n",
    "        else:\n",
    "            return inverse\n",
    "\n",
    "\n",
    "    if np.ndim(scaled)==0:\n",
    "        inverse = logicleInverseTransform1d(scaled)\n",
    "    else:\n",
    "        length = len(scaled)\n",
    "        inverse = np.zeros(length)\n",
    "\n",
    "        for i in range(length):\n",
    "            inverse[i] = logicleInverseTransform1d(scaled[i])\n",
    "\n",
    "    \n",
    "    return inverse"
   ]
  },
  {
   "cell_type": "code",
   "execution_count": 6,
   "metadata": {},
   "outputs": [],
   "source": [
    "par = np.linspace(0,1e3,10**5)\n",
    "T = 1000\n",
    "trans = 1e-3\n",
    "logicle_par = logicleTransform(par, T=T, trans=trans) \n"
   ]
  },
  {
   "cell_type": "code",
   "execution_count": 7,
   "metadata": {},
   "outputs": [
    {
     "data": {
      "text/plain": [
       "array([0.001])"
      ]
     },
     "execution_count": 7,
     "metadata": {},
     "output_type": "execute_result"
    }
   ],
   "source": [
    "# getting the transition point\n",
    "x0 = function_parameters(T=1000, trans=trans)[0]\n",
    "transition = logicleInverseTransform(x0, T=1000, trans=trans)\n",
    "transition"
   ]
  },
  {
   "cell_type": "code",
   "execution_count": 8,
   "metadata": {},
   "outputs": [
    {
     "data": {
      "image/png": "[encoded data removed]",
      "text/plain": [
       "<Figure size 432x288 with 1 Axes>"
      ]
     },
     "metadata": {
      "needs_background": "light"
     },
     "output_type": "display_data"
    }
   ],
   "source": [
    "plt.plot(par, logicle_par)\n",
    "plt.vlines(transition, 0, 1, color='red', label='transition')\n",
    "plt.xlabel(\"parameter\")\n",
    "plt.ylabel(\"logicle parameter\")\n",
    "plt.xscale('log')\n",
    "plt.xlim(1e-9,1e3)\n",
    "plt.legend()\n",
    "plt.show()"
   ]
  },
  {
   "cell_type": "code",
   "execution_count": 9,
   "metadata": {},
   "outputs": [
    {
     "data": {
      "image/png": "[encoded data removed]",
      "text/plain": [
       "<Figure size 432x288 with 1 Axes>"
      ]
     },
     "metadata": {
      "needs_background": "light"
     },
     "output_type": "display_data"
    }
   ],
   "source": [
    "# compute inverse and differences\n",
    "\n",
    "inv_par_logicle = logicleInverseTransform(scaled=logicle_par, T=T, trans= trans)\n",
    "\n",
    "diff = np.abs(inv_par_logicle - par)\n",
    "\n",
    "plt.plot(diff)\n",
    "plt.xlabel('parameter')\n",
    "plt.ylabel('difference')\n",
    "plt.show()"
   ]
  },
  {
   "cell_type": "markdown",
   "metadata": {},
   "source": [
    "Next step is to compute the gradient of the logicle function in order to pass it to the `create objective` function in pypesto later.>\n",
    "For the inverse of the logicle function this is easy since we can just differentiate the biexponential function. \n",
    "For the Logicle function this is not as easy, so we calculate it with centered finite differences."
   ]
  },
  {
   "cell_type": "code",
   "execution_count": 10,
   "metadata": {},
   "outputs": [],
   "source": [
    "def logicleInverseGradient(scaled, T, trans=None, W=None, A=None, M=None):\n",
    "    # set missing parameters\n",
    "    if M is None:\n",
    "        M = 4.5\n",
    "\n",
    "    if W is None:\n",
    "        W = compute_W(T, trans, M)\n",
    "\n",
    "    if A is None:\n",
    "        A = -W\n",
    "\n",
    "    fun_param = function_parameters(T, trans, W, A, M)\n",
    "    a = fun_param[3]\n",
    "    b = fun_param[4]\n",
    "    c = fun_param[5]\n",
    "    d = fun_param[6]\n",
    "    if isinstance(scaled, list):\n",
    "        scaled = np.array(scaled)\n",
    "    \n",
    "    return a * b * np.exp(b * scaled) + c * d * np.exp(-d * scaled)\n",
    "\n",
    "def logicleGradient(par, T, trans=None, W=None, A=None, M=None):\n",
    "    # set missing parameters\n",
    "    if M is None:\n",
    "        M = 4.5\n",
    "\n",
    "    if W is None:\n",
    "        W = compute_W(T, trans, M)\n",
    "\n",
    "    if A is None:\n",
    "        A = -W\n",
    "\n",
    "    stepsize = 1e-5\n",
    "\n",
    "    grad = np.zeros(len(par))\n",
    "\n",
    "    for i in range(0, len(par)):\n",
    "\n",
    "        upper = logicleTransform(np.array([par[i]]) + stepsize, trans=trans, T=T, W=W, A=A, M=M)\n",
    "        lower = logicleTransform(np.array([par[i]]) - stepsize, trans=trans, T=T, W=W, A=A, M=M)\n",
    "        grad[i] = (upper - lower) / (2 * stepsize)\n",
    "    \n",
    "    return grad"
   ]
  },
  {
   "cell_type": "code",
   "execution_count": 11,
   "metadata": {},
   "outputs": [],
   "source": [
    "# compute gradient\n",
    "logicle_gradient = logicleGradient(par, T=1000, trans = trans)"
   ]
  },
  {
   "cell_type": "code",
   "execution_count": 12,
   "metadata": {},
   "outputs": [
    {
     "name": "stdout",
     "output_type": "stream",
     "text": [
      "1.4932717295001197\n"
     ]
    },
    {
     "data": {
      "image/png": "[encoded data removed]",
      "text/plain": [
       "<Figure size 432x288 with 1 Axes>"
      ]
     },
     "metadata": {
      "needs_background": "light"
     },
     "output_type": "display_data"
    }
   ],
   "source": [
    "print(logicle_gradient[0])\n",
    "\n",
    "# display logicle gradient\n",
    "plt.plot(par, logicle_gradient)\n",
    "plt.show()"
   ]
  },
  {
   "cell_type": "markdown",
   "metadata": {},
   "source": [
    "Next we plot it against a linear and a logarithmic function, to see how it approximates them in for small respectively for large parameter values."
   ]
  },
  {
   "cell_type": "code",
   "execution_count": 16,
   "metadata": {},
   "outputs": [
    {
     "name": "stderr",
     "output_type": "stream",
     "text": [
      "/tmp/ipykernel_1504/1881545037.py:2: RuntimeWarning: divide by zero encountered in log10\n",
      "  plt.plot(par, np.log10(par)-2, 0, 1, color='red', label='logarithm')\n"
     ]
    },
    {
     "data": {
      "image/png": "[encoded data removed]",
      "text/plain": [
       "<Figure size 432x288 with 1 Axes>"
      ]
     },
     "metadata": {
      "needs_background": "light"
     },
     "output_type": "display_data"
    }
   ],
   "source": [
    "plt.plot(par, logicle_par)\n",
    "plt.plot()\n",
    "plt.xlabel(\"parameter\")\n",
    "plt.ylabel(\"logicle parameter\")\n",
    "plt.xscale('log')\n",
    "plt.xlim(1e-9,1e3)\n",
    "plt.legend()\n",
    "plt.show()"
   ]
  },
  {
   "cell_type": "markdown",
   "metadata": {},
   "source": [
    "Maybe try it later sometime..."
   ]
  }
 ],
 "metadata": {
  "interpreter": {
   "hash": "916dbcbb3f70747c44a77c7bcd40155683ae19c65e1c03b4aa3499c5328201f1"
  },
  "kernelspec": {
   "display_name": "Python 3.8.10 64-bit",
   "language": "python",
   "name": "python3"
  },
  "language_info": {
   "codemirror_mode": {
    "name": "ipython",
    "version": 3
   },
   "file_extension": ".py",
   "mimetype": "text/x-python",
   "name": "python",
   "nbconvert_exporter": "python",
   "pygments_lexer": "ipython3",
   "version": "3.8.10"
  },
  "orig_nbformat": 4
 },
 "nbformat": 4,
 "nbformat_minor": 2
}
