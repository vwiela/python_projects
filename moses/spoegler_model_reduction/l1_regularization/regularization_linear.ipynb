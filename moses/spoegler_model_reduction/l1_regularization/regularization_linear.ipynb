{
 "cells": [
  {
   "cell_type": "markdown",
   "metadata": {},
   "source": [
    "## L1 regularization on linear scale"
   ]
  },
  {
   "cell_type": "markdown",
   "metadata": {},
   "source": [
    "For the linear scale it should be enough to just specify the priors in the parameters table of the petab problem. For the `log10` scale this should also suffice, but we need to think whether we want to have priors on the linear scale or on the original parameter scale (`log10`).\n",
    "\n",
    "For the `log10_shift` and the `logicle` scale this is a little bit more involved, since we cannot specify those scales in the parameters table."
   ]
  },
  {
   "cell_type": "code",
   "execution_count": 101,
   "metadata": {},
   "outputs": [],
   "source": [
    "import libsbml\n",
    "import importlib\n",
    "import os\n",
    "import sys\n",
    "import shutil\n",
    "import pandas as pd\n",
    "\n",
    "\n",
    "\n",
    "import amici\n",
    "import matplotlib.pyplot as plt\n",
    "import numpy as np \n",
    "import petab \n",
    "from petab.C import *\n",
    "\n",
    "import pypesto\n",
    "import pypesto.optimize as optimize\n",
    "import pypesto.petab\n",
    "import pypesto.visualize as visualize\n",
    "import pypesto.objective"
   ]
  },
  {
   "cell_type": "code",
   "execution_count": 102,
   "metadata": {},
   "outputs": [],
   "source": [
    "# create parameter table with priors\n",
    "\n",
    "param_scale = 'lin'\n",
    "\n",
    "parameter_df = pd.DataFrame(\n",
    "    data={\n",
    "        PARAMETER_ID: ['k1', 'k2', 'k3', 'sd_observed_B'],\n",
    "        PARAMETER_SCALE: [param_scale] * 4,\n",
    "        LOWER_BOUND: [0] * 4,\n",
    "        UPPER_BOUND: [1000] * 4,\n",
    "        NOMINAL_VALUE: [0.2, 0.1, 0.0, 0.15],\n",
    "        ESTIMATE: [1, 1, 1, 0],\n",
    "        'initializationPriorType': ['laplace', 'laplace', 'laplace', None],\n",
    "        'initializationPriorParameters': ['0; 1', '0; 1', '0; 1', None],\n",
    "        'objectivePriorType': ['laplace', 'laplace', 'laplace', None],\n",
    "        'objectivePriorParameters': ['0; 1', '0; 1', '0; 1', None]\n",
    "\n",
    "    }\n",
    ").set_index(PARAMETER_ID)\n",
    "\n",
    "petab.write_parameter_df(parameter_df, \"petab/\"+param_scale+\"/parameters.tsv\")"
   ]
  },
  {
   "cell_type": "markdown",
   "metadata": {},
   "source": [
    "Maybe modifications by hand are needed afterwards to get the `PriorParameters` of the form `location;scale`."
   ]
  },
  {
   "cell_type": "code",
   "execution_count": null,
   "metadata": {},
   "outputs": [],
   "source": [
    "model_name= \"Spoegler_conversionReaction\"\n",
    "\n",
    "\n",
    "# the yaml file includes all important links to other files\n",
    "yaml_config =\"petab/\"+param_scale+\"/\"+model_name+\".yaml\"\n",
    "# create a petab problem\n",
    "petab_problem = petab.Problem.from_yaml(yaml_config)\n",
    "\n",
    "# or create from folder (did not work)\n",
    "# petab_problem = petab.Problem.from_folder(\"petab/\"+param_scale)\n",
    "\n",
    "# import to amici\n",
    "importer = pypesto.petab.PetabImporter(petab_problem)\n",
    "importer.compile_model()\n",
    "\n",
    "model = importer.create_model()"
   ]
  },
  {
   "cell_type": "code",
   "execution_count": 74,
   "metadata": {},
   "outputs": [],
   "source": [
    "# initialize solver and options\n",
    "solver = importer.create_solver(model)\n",
    "\n",
    "# enable sensitivities\n",
    "solver.setSensitivityOrder(amici.SensitivityOrder_first)       \n",
    "solver.setSensitivityMethod(amici.SensitivityMethod_forward)  \n",
    "model.requireSensitivitiesForAllParameters()     "
   ]
  },
  {
   "cell_type": "code",
   "execution_count": 75,
   "metadata": {},
   "outputs": [
    {
     "name": "stderr",
     "output_type": "stream",
     "text": [
      "Using existing amici model in folder /home/vinc777/python_projects/moses/spoegler_model_reduction/l1_regularization/amici_models/Sp_gler_ConversionReaction.\n"
     ]
    }
   ],
   "source": [
    "# objective function\n",
    "obj = importer.create_objective()"
   ]
  },
  {
   "cell_type": "code",
   "execution_count": 130,
   "metadata": {},
   "outputs": [
    {
     "name": "stdout",
     "output_type": "stream",
     "text": [
      "optimal x =  [0.2, 0.1, 0.0, 0.15]\n",
      "optimal lh value -1.0389690351046932\n"
     ]
    }
   ],
   "source": [
    "print('optimal x = ', petab_problem.x_nominal)\n",
    "print('optimal lh value', problem.objective(petab_problem.x_nominal[0:3]))"
   ]
  },
  {
   "cell_type": "code",
   "execution_count": 151,
   "metadata": {},
   "outputs": [
    {
     "ename": "ValueError",
     "evalue": "shape mismatch: value array of shape (4,) could not be broadcast to indexing result of shape (3,)",
     "output_type": "error",
     "traceback": [
      "\u001b[0;31m---------------------------------------------------------------------------\u001b[0m",
      "\u001b[0;31mValueError\u001b[0m                                Traceback (most recent call last)",
      "\u001b[1;32m/home/vinc777/python_projects/moses/spoegler_model_reduction/l1_regularization/regularization_linear.ipynb Cell 10'\u001b[0m in \u001b[0;36m<module>\u001b[0;34m\u001b[0m\n\u001b[0;32m----> <a href='vscode-notebook-cell://wsl%2Bubuntu/home/vinc777/python_projects/moses/spoegler_model_reduction/l1_regularization/regularization_linear.ipynb#ch0000043vscode-remote?line=0'>1</a>\u001b[0m problem\u001b[39m.\u001b[39;49mobjective([\u001b[39m0.1\u001b[39;49m,\u001b[39m0.1\u001b[39;49m,\u001b[39m0.1\u001b[39;49m, \u001b[39m0.1\u001b[39;49m])\n",
      "File \u001b[0;32m~/.local/lib/python3.8/site-packages/pypesto/objective/base.py:180\u001b[0m, in \u001b[0;36mObjectiveBase.__call__\u001b[0;34m(self, x, sensi_orders, mode, return_dict, **kwargs)\u001b[0m\n\u001b[1;32m    <a href='file:///home/vinc777/.local/lib/python3.8/site-packages/pypesto/objective/base.py?line=173'>174</a>\u001b[0m     \u001b[39mraise\u001b[39;00m \u001b[39mValueError\u001b[39;00m(\n\u001b[1;32m    <a href='file:///home/vinc777/.local/lib/python3.8/site-packages/pypesto/objective/base.py?line=174'>175</a>\u001b[0m         \u001b[39mf\u001b[39m\u001b[39m\"\u001b[39m\u001b[39mThis Objective cannot be called with \u001b[39m\u001b[39m\"\u001b[39m\n\u001b[1;32m    <a href='file:///home/vinc777/.local/lib/python3.8/site-packages/pypesto/objective/base.py?line=175'>176</a>\u001b[0m         \u001b[39mf\u001b[39m\u001b[39m\"\u001b[39m\u001b[39msensi_orders= \u001b[39m\u001b[39m{\u001b[39;00msensi_orders\u001b[39m}\u001b[39;00m\u001b[39m and mode=\u001b[39m\u001b[39m{\u001b[39;00mmode\u001b[39m}\u001b[39;00m\u001b[39m.\u001b[39m\u001b[39m\"\u001b[39m\n\u001b[1;32m    <a href='file:///home/vinc777/.local/lib/python3.8/site-packages/pypesto/objective/base.py?line=176'>177</a>\u001b[0m     )\n\u001b[1;32m    <a href='file:///home/vinc777/.local/lib/python3.8/site-packages/pypesto/objective/base.py?line=178'>179</a>\u001b[0m \u001b[39m# pre-process\u001b[39;00m\n\u001b[0;32m--> <a href='file:///home/vinc777/.local/lib/python3.8/site-packages/pypesto/objective/base.py?line=179'>180</a>\u001b[0m x_full \u001b[39m=\u001b[39m \u001b[39mself\u001b[39;49m\u001b[39m.\u001b[39;49mpre_post_processor\u001b[39m.\u001b[39;49mpreprocess(x\u001b[39m=\u001b[39;49mx)\n\u001b[1;32m    <a href='file:///home/vinc777/.local/lib/python3.8/site-packages/pypesto/objective/base.py?line=181'>182</a>\u001b[0m \u001b[39m# compute result\u001b[39;00m\n\u001b[1;32m    <a href='file:///home/vinc777/.local/lib/python3.8/site-packages/pypesto/objective/base.py?line=182'>183</a>\u001b[0m result \u001b[39m=\u001b[39m \u001b[39mself\u001b[39m\u001b[39m.\u001b[39mcall_unprocessed(\n\u001b[1;32m    <a href='file:///home/vinc777/.local/lib/python3.8/site-packages/pypesto/objective/base.py?line=183'>184</a>\u001b[0m     x\u001b[39m=\u001b[39mx_full, sensi_orders\u001b[39m=\u001b[39msensi_orders, mode\u001b[39m=\u001b[39mmode, \u001b[39m*\u001b[39m\u001b[39m*\u001b[39mkwargs\n\u001b[1;32m    <a href='file:///home/vinc777/.local/lib/python3.8/site-packages/pypesto/objective/base.py?line=184'>185</a>\u001b[0m )\n",
      "File \u001b[0;32m~/.local/lib/python3.8/site-packages/pypesto/objective/pre_post_process.py:105\u001b[0m, in \u001b[0;36mFixedParametersProcessor.preprocess\u001b[0;34m(self, x)\u001b[0m\n\u001b[1;32m    <a href='file:///home/vinc777/.local/lib/python3.8/site-packages/pypesto/objective/pre_post_process.py?line=101'>102</a>\u001b[0m x \u001b[39m=\u001b[39m \u001b[39msuper\u001b[39m()\u001b[39m.\u001b[39mpreprocess(x)\n\u001b[1;32m    <a href='file:///home/vinc777/.local/lib/python3.8/site-packages/pypesto/objective/pre_post_process.py?line=103'>104</a>\u001b[0m x_full \u001b[39m=\u001b[39m np\u001b[39m.\u001b[39mzeros(\u001b[39mself\u001b[39m\u001b[39m.\u001b[39mdim_full)\n\u001b[0;32m--> <a href='file:///home/vinc777/.local/lib/python3.8/site-packages/pypesto/objective/pre_post_process.py?line=104'>105</a>\u001b[0m x_full[\u001b[39mself\u001b[39m\u001b[39m.\u001b[39mx_free_indices] \u001b[39m=\u001b[39m x\n\u001b[1;32m    <a href='file:///home/vinc777/.local/lib/python3.8/site-packages/pypesto/objective/pre_post_process.py?line=105'>106</a>\u001b[0m x_full[\u001b[39mself\u001b[39m\u001b[39m.\u001b[39mx_fixed_indices] \u001b[39m=\u001b[39m \u001b[39mself\u001b[39m\u001b[39m.\u001b[39mx_fixed_vals\n\u001b[1;32m    <a href='file:///home/vinc777/.local/lib/python3.8/site-packages/pypesto/objective/pre_post_process.py?line=107'>108</a>\u001b[0m \u001b[39mreturn\u001b[39;00m x_full\n",
      "\u001b[0;31mValueError\u001b[0m: shape mismatch: value array of shape (4,) could not be broadcast to indexing result of shape (3,)"
     ]
    }
   ],
   "source": [
    "problem.objective([0.1,0.1,0.1, 0.1])"
   ]
  },
  {
   "cell_type": "code",
   "execution_count": null,
   "metadata": {},
   "outputs": [],
   "source": [
    "# create optimizer object\n",
    "optimizer = optimize.ScipyOptimizer()\n",
    "\n",
    "# create problem object\n",
    "problem = importer.create_problem(obj)\n",
    "\n",
    "# do the optimization\n",
    "n_starts = 100\n",
    "\n",
    "result = optimize.minimize(problem=problem, optimizer=optimizer, n_starts=n_starts, filename=None)"
   ]
  },
  {
   "cell_type": "code",
   "execution_count": 80,
   "metadata": {},
   "outputs": [
    {
     "name": "stdout",
     "output_type": "stream",
     "text": [
      "best parameter:  [0.26581756 0.06621187 0.00162104 0.15      ]\n",
      "best likelihood value:  -2.2992910548081764\n"
     ]
    }
   ],
   "source": [
    "# print results\n",
    "best_result=result.optimize_result.as_list(\"x\")[0][\"x\"]\n",
    "print('best parameter: ', best_result)\n",
    "print('best likelihood value: ', problem.objective(best_result[0:3]))"
   ]
  },
  {
   "cell_type": "code",
   "execution_count": 81,
   "metadata": {},
   "outputs": [
    {
     "data": {
      "text/plain": [
       "<AxesSubplot:title={'center':'Waterfall plot'}, xlabel='Ordered optimizer run', ylabel='Function value'>"
      ]
     },
     "execution_count": 81,
     "metadata": {},
     "output_type": "execute_result"
    },
    {
     "data": {
      "image/png": "[encoded data removed]",
      "text/plain": [
       "<Figure size 1332x756 with 1 Axes>"
      ]
     },
     "metadata": {
      "needs_background": "light"
     },
     "output_type": "display_data"
    }
   ],
   "source": [
    "# waterfall plot\n",
    "fvals = result.optimize_result.get_for_key(\"fval\")\n",
    "fval = np.array(fvals)\n",
    "fval=fval[fval < 1e2]\n",
    "visualize.waterfall_lowlevel(fval, scale_y='lin')"
   ]
  },
  {
   "cell_type": "markdown",
   "metadata": {},
   "source": [
    "THis approach with specifying the prior using the parameter table is not realy feasible if we want to compute a regularization path for different values of the prior parameters, so for different regularization strengths. Because we would need a new parameter table every time. \n",
    "A better approach can be to get the normal objecitve function, which is the log-likelihood (negative?) and then add the regularization term, which was computed manually, by the `AggregatedObjective` function from pypesto."
   ]
  },
  {
   "cell_type": "markdown",
   "metadata": {},
   "source": [
    "Or another approach could be to create a prior dictionary using pypesto `get_parameter_prior_dict` and then `objective.NegLogParameterPriors`. --> This is the same I guess"
   ]
  },
  {
   "cell_type": "code",
   "execution_count": 124,
   "metadata": {},
   "outputs": [],
   "source": [
    "def make_prior(model, strength, scale='lin'): \n",
    "  prior_list = []\n",
    "\n",
    "  for i in range(len(model.getParameters())-1):\n",
    "    priorType = 'laplace'\n",
    "    priorParameters = [0, 1/strength]\n",
    "    priorScale = scale\n",
    "    prior = pypesto.objective.get_parameter_prior_dict(i, priorType, priorParameters, priorScale)\n",
    "    prior_list.append(prior)\n",
    "\n",
    "  return pypesto.objective.NegLogParameterPriors(prior_list)"
   ]
  },
  {
   "cell_type": "code",
   "execution_count": 152,
   "metadata": {},
   "outputs": [
    {
     "name": "stderr",
     "output_type": "stream",
     "text": [
      "2022-05-09 13:10:52.582 - amici.petab_import - INFO - Importing model ...\n",
      "2022-05-09 13:10:52.585 - amici.petab_import - INFO - Model name is 'Sp_gler_ConversionReaction'.\n",
      "Writing model code to '/home/vinc777/python_projects/moses/spoegler_model_reduction/l1_regularization/amici_models/Sp_gler_ConversionReaction'.\n",
      "2022-05-09 13:10:52.586 - amici.petab_import - INFO - Species: 2\n",
      "2022-05-09 13:10:52.587 - amici.petab_import - INFO - Global parameters: 3\n",
      "2022-05-09 13:10:52.588 - amici.petab_import - INFO - Reactions: 0\n",
      "2022-05-09 13:10:52.593 - amici.petab_import - INFO - Observables: 1\n",
      "2022-05-09 13:10:52.595 - amici.petab_import - INFO - Sigmas: 1\n",
      "2022-05-09 13:10:52.598 - amici.petab_import - DEBUG - Adding output parameters to model: OrderedDict([('noiseParameter1_observed_B', None)])\n",
      "2022-05-09 13:10:52.599 - amici.petab_import - DEBUG - Adding initial assignments for []\n",
      "2022-05-09 13:10:52.600 - amici.petab_import - DEBUG - Condition table: (1, 0)\n",
      "2022-05-09 13:10:52.601 - amici.petab_import - DEBUG - Fixed parameters are []\n",
      "2022-05-09 13:10:52.602 - amici.petab_import - INFO - Overall fixed parameters: 0\n",
      "2022-05-09 13:10:52.602 - amici.petab_import - INFO - Variable parameters: 4\n",
      "2022-05-09 13:10:52.617 - amici.sbml_import - INFO - Finished gathering local SBML symbols       ++ (8.23E-04s)\n",
      "2022-05-09 13:10:52.624 - amici.sbml_import - INFO - Finished processing SBML parameters         ++ (2.44E-04s)\n",
      "2022-05-09 13:10:52.630 - amici.sbml_import - INFO - Finished processing SBML compartments       ++ (3.07E-04s)\n",
      "2022-05-09 13:10:52.641 - amici.sbml_import - INFO - Finished processing SBML species initials  +++ (6.34E-04s)\n",
      "2022-05-09 13:10:52.650 - amici.sbml_import - INFO - Finished processing SBML rate rules        +++ (2.58E-03s)\n",
      "2022-05-09 13:10:52.650 - amici.sbml_import - INFO - Finished processing SBML species            ++ (1.54E-02s)\n",
      "2022-05-09 13:10:52.657 - amici.sbml_import - INFO - Finished processing SBML reactions          ++ (4.42E-04s)\n",
      "2022-05-09 13:10:52.663 - amici.sbml_import - INFO - Finished processing SBML rules              ++ (3.10E-04s)\n",
      "2022-05-09 13:10:52.669 - amici.sbml_import - INFO - Finished processing SBML initial assignments++ (4.86E-05s)\n",
      "2022-05-09 13:10:52.676 - amici.sbml_import - INFO - Finished processing SBML species references ++ (1.66E-04s)\n",
      "2022-05-09 13:10:52.681 - amici.sbml_import - INFO - Finished processing SBML events             ++ (1.01E-04s)\n",
      "2022-05-09 13:10:52.682 - amici.sbml_import - INFO - Finished importing SBML                      + (7.05E-02s)\n",
      "2022-05-09 13:10:52.693 - amici.sbml_import - INFO - Finished processing SBML observables         + (3.98E-03s)\n",
      "2022-05-09 13:10:52.708 - amici.ode_export - INFO - Finished running smart_multiply              ++ (1.08E-04s)\n",
      "2022-05-09 13:10:52.711 - amici.ode_export - INFO - Finished importing SbmlImporter               + (7.61E-03s)\n",
      "2022-05-09 13:10:52.732 - amici.ode_export - INFO - Finished simplifying Jy                    ++++ (3.62E-03s)\n",
      "2022-05-09 13:10:52.733 - amici.ode_export - INFO - Finished computing Jy                       +++ (7.81E-03s)\n",
      "2022-05-09 13:10:52.744 - amici.ode_export - INFO - Finished simplifying y                     ++++ (2.01E-04s)\n",
      "2022-05-09 13:10:52.745 - amici.ode_export - INFO - Finished computing y                        +++ (6.61E-03s)\n",
      "2022-05-09 13:10:52.755 - amici.ode_export - INFO - Finished simplifying sigmay                ++++ (1.34E-04s)\n",
      "2022-05-09 13:10:52.756 - amici.ode_export - INFO - Finished computing sigmay                   +++ (5.00E-03s)\n",
      "2022-05-09 13:10:52.761 - amici.ode_export - INFO - Finished writing Jy.cpp                      ++ (3.94E-02s)\n",
      "2022-05-09 13:10:52.777 - amici.ode_export - INFO - Finished running smart_jacobian            ++++ (7.51E-04s)\n",
      "2022-05-09 13:10:52.785 - amici.ode_export - INFO - Finished simplifying dJydsigma             ++++ (2.65E-03s)\n",
      "2022-05-09 13:10:52.786 - amici.ode_export - INFO - Finished computing dJydsigma                +++ (1.48E-02s)\n",
      "2022-05-09 13:10:52.792 - amici.ode_export - INFO - Finished writing dJydsigma.cpp               ++ (2.48E-02s)\n",
      "2022-05-09 13:10:52.809 - amici.ode_export - INFO - Finished running smart_jacobian            ++++ (5.71E-04s)\n",
      "2022-05-09 13:10:52.817 - amici.ode_export - INFO - Finished simplifying dJydy                 ++++ (1.96E-03s)\n",
      "2022-05-09 13:10:52.818 - amici.ode_export - INFO - Finished computing dJydy                    +++ (1.57E-02s)\n",
      "2022-05-09 13:10:52.824 - amici.ode_export - INFO - Finished writing dJydy.cpp                   ++ (2.51E-02s)\n",
      "2022-05-09 13:10:52.839 - amici.ode_export - INFO - Finished simplifying root                  ++++ (1.47E-04s)\n",
      "2022-05-09 13:10:52.840 - amici.ode_export - INFO - Finished computing root                     +++ (5.68E-03s)\n",
      "2022-05-09 13:10:52.841 - amici.ode_export - INFO - Finished writing root.cpp                    ++ (1.09E-02s)\n",
      "2022-05-09 13:10:52.863 - amici.ode_export - INFO - Finished simplifying w                    +++++ (1.51E-04s)\n",
      "2022-05-09 13:10:52.864 - amici.ode_export - INFO - Finished computing w                       ++++ (4.91E-03s)\n",
      "2022-05-09 13:10:52.871 - amici.ode_export - INFO - Finished running smart_jacobian            ++++ (1.02E-04s)\n",
      "2022-05-09 13:10:52.879 - amici.ode_export - INFO - Finished simplifying dwdp                  ++++ (2.09E-04s)\n",
      "2022-05-09 13:10:52.880 - amici.ode_export - INFO - Finished computing dwdp                     +++ (2.61E-02s)\n",
      "2022-05-09 13:10:52.882 - amici.ode_export - INFO - Finished writing dwdp.cpp                    ++ (3.25E-02s)\n",
      "2022-05-09 13:10:52.900 - amici.ode_export - INFO - Finished running smart_jacobian            ++++ (1.03E-04s)\n",
      "2022-05-09 13:10:52.906 - amici.ode_export - INFO - Finished simplifying dwdx                  ++++ (2.32E-04s)\n",
      "2022-05-09 13:10:52.907 - amici.ode_export - INFO - Finished computing dwdx                     +++ (1.16E-02s)\n",
      "2022-05-09 13:10:52.909 - amici.ode_export - INFO - Finished writing dwdx.cpp                    ++ (1.76E-02s)\n",
      "2022-05-09 13:10:52.923 - amici.ode_export - INFO - Finished running smart_jacobian            ++++ (8.84E-05s)\n",
      "2022-05-09 13:10:52.930 - amici.ode_export - INFO - Finished simplifying dwdw                  ++++ (1.62E-04s)\n",
      "2022-05-09 13:10:52.931 - amici.ode_export - INFO - Finished computing dwdw                     +++ (1.21E-02s)\n",
      "2022-05-09 13:10:52.932 - amici.ode_export - INFO - Finished writing dwdw.cpp                    ++ (1.64E-02s)\n",
      "2022-05-09 13:10:52.956 - amici.ode_export - INFO - Finished simplifying xdot                 +++++ (2.25E-03s)\n",
      "2022-05-09 13:10:52.958 - amici.ode_export - INFO - Finished computing xdot                    ++++ (8.02E-03s)\n",
      "2022-05-09 13:10:52.965 - amici.ode_export - INFO - Finished running smart_jacobian            ++++ (2.10E-04s)\n",
      "2022-05-09 13:10:52.974 - amici.ode_export - INFO - Finished simplifying dxdotdw               ++++ (1.85E-04s)\n",
      "2022-05-09 13:10:52.975 - amici.ode_export - INFO - Finished computing dxdotdw                  +++ (2.95E-02s)\n",
      "2022-05-09 13:10:52.976 - amici.ode_export - INFO - Finished writing dxdotdw.cpp                 ++ (3.66E-02s)\n",
      "2022-05-09 13:10:53.002 - amici.ode_export - INFO - Finished running smart_jacobian            ++++ (8.27E-04s)\n",
      "2022-05-09 13:10:53.012 - amici.ode_export - INFO - Finished simplifying dxdotdx_explicit      ++++ (2.40E-03s)\n",
      "2022-05-09 13:10:53.014 - amici.ode_export - INFO - Finished computing dxdotdx_explicit         +++ (1.85E-02s)\n",
      "2022-05-09 13:10:53.021 - amici.ode_export - INFO - Finished writing dxdotdx_explicit.cpp        ++ (3.18E-02s)\n",
      "2022-05-09 13:10:53.039 - amici.ode_export - INFO - Finished running smart_jacobian            ++++ (1.41E-03s)\n",
      "2022-05-09 13:10:53.047 - amici.ode_export - INFO - Finished simplifying dxdotdp_explicit      ++++ (1.16E-03s)\n",
      "2022-05-09 13:10:53.047 - amici.ode_export - INFO - Finished computing dxdotdp_explicit         +++ (1.44E-02s)\n",
      "2022-05-09 13:10:53.051 - amici.ode_export - INFO - Finished writing dxdotdp_explicit.cpp        ++ (2.28E-02s)\n",
      "2022-05-09 13:10:53.072 - amici.ode_export - INFO - Finished running smart_jacobian           +++++ (7.23E-04s)\n",
      "2022-05-09 13:10:53.079 - amici.ode_export - INFO - Finished simplifying dydx                 +++++ (2.94E-04s)\n",
      "2022-05-09 13:10:53.081 - amici.ode_export - INFO - Finished computing dydx                    ++++ (1.40E-02s)\n",
      "2022-05-09 13:10:53.095 - amici.ode_export - INFO - Finished running smart_jacobian           +++++ (1.88E-04s)\n",
      "2022-05-09 13:10:53.102 - amici.ode_export - INFO - Finished simplifying dydw                 +++++ (1.68E-04s)\n",
      "2022-05-09 13:10:53.104 - amici.ode_export - INFO - Finished computing dydw                    ++++ (1.51E-02s)\n",
      "2022-05-09 13:10:53.113 - amici.ode_export - INFO - Finished simplifying dydx                  ++++ (2.11E-04s)\n",
      "2022-05-09 13:10:53.114 - amici.ode_export - INFO - Finished computing dydx                     +++ (5.19E-02s)\n",
      "2022-05-09 13:10:53.117 - amici.ode_export - INFO - Finished writing dydx.cpp                    ++ (5.80E-02s)\n",
      "2022-05-09 13:10:53.146 - amici.ode_export - INFO - Finished running smart_jacobian           +++++ (1.62E-04s)\n",
      "2022-05-09 13:10:53.151 - amici.ode_export - INFO - Finished simplifying dydp                 +++++ (1.83E-04s)\n",
      "2022-05-09 13:10:53.152 - amici.ode_export - INFO - Finished computing dydp                    ++++ (1.42E-02s)\n",
      "2022-05-09 13:10:53.162 - amici.ode_export - INFO - Finished simplifying dydp                  ++++ (2.00E-04s)\n",
      "2022-05-09 13:10:53.163 - amici.ode_export - INFO - Finished computing dydp                     +++ (3.05E-02s)\n",
      "2022-05-09 13:10:53.164 - amici.ode_export - INFO - Finished writing dydp.cpp                    ++ (3.79E-02s)\n",
      "2022-05-09 13:10:53.182 - amici.ode_export - INFO - Finished running smart_jacobian            ++++ (6.35E-04s)\n",
      "2022-05-09 13:10:53.190 - amici.ode_export - INFO - Finished simplifying dsigmaydp             ++++ (2.24E-04s)\n",
      "2022-05-09 13:10:53.191 - amici.ode_export - INFO - Finished computing dsigmaydp                +++ (1.58E-02s)\n",
      "2022-05-09 13:10:53.195 - amici.ode_export - INFO - Finished writing dsigmaydp.cpp               ++ (2.41E-02s)\n",
      "2022-05-09 13:10:53.201 - amici.ode_export - INFO - Finished writing sigmay.cpp                  ++ (4.82E-04s)\n",
      "2022-05-09 13:10:53.215 - amici.ode_export - INFO - Finished computing stau                     +++ (3.17E-04s)\n",
      "2022-05-09 13:10:53.218 - amici.ode_export - INFO - Finished writing stau.cpp                    ++ (9.25E-03s)\n",
      "2022-05-09 13:10:53.229 - amici.ode_export - INFO - Finished computing deltax                   +++ (2.13E-04s)\n",
      "2022-05-09 13:10:53.231 - amici.ode_export - INFO - Finished writing deltax.cpp                  ++ (6.23E-03s)\n",
      "2022-05-09 13:10:53.244 - amici.ode_export - INFO - Finished computing deltasx                  +++ (1.93E-04s)\n",
      "2022-05-09 13:10:53.245 - amici.ode_export - INFO - Finished writing deltasx.cpp                 ++ (8.13E-03s)\n",
      "2022-05-09 13:10:53.252 - amici.ode_export - INFO - Finished writing w.cpp                       ++ (1.21E-04s)\n",
      "2022-05-09 13:10:53.267 - amici.ode_export - INFO - Finished simplifying x0                    ++++ (1.42E-04s)\n",
      "2022-05-09 13:10:53.268 - amici.ode_export - INFO - Finished computing x0                       +++ (4.44E-03s)\n",
      "2022-05-09 13:10:53.269 - amici.ode_export - INFO - Finished writing x0.cpp                      ++ (9.69E-03s)\n",
      "2022-05-09 13:10:53.287 - amici.ode_export - INFO - Finished simplifying x0_fixedParameters    ++++ (1.15E-04s)\n",
      "2022-05-09 13:10:53.289 - amici.ode_export - INFO - Finished computing x0_fixedParameters       +++ (7.95E-03s)\n",
      "2022-05-09 13:10:53.291 - amici.ode_export - INFO - Finished writing x0_fixedParameters.cpp      ++ (1.35E-02s)\n",
      "2022-05-09 13:10:53.310 - amici.ode_export - INFO - Finished running smart_jacobian            ++++ (1.49E-04s)\n",
      "2022-05-09 13:10:53.317 - amici.ode_export - INFO - Finished simplifying sx0                   ++++ (2.18E-04s)\n",
      "2022-05-09 13:10:53.317 - amici.ode_export - INFO - Finished computing sx0                      +++ (1.43E-02s)\n",
      "2022-05-09 13:10:53.318 - amici.ode_export - INFO - Finished writing sx0.cpp                     ++ (2.06E-02s)\n",
      "2022-05-09 13:10:53.336 - amici.ode_export - INFO - Finished running smart_jacobian            ++++ (4.80E-05s)\n",
      "2022-05-09 13:10:53.344 - amici.ode_export - INFO - Finished running smart_jacobian            ++++ (5.58E-05s)\n",
      "2022-05-09 13:10:53.351 - amici.ode_export - INFO - Finished simplifying sx0_fixedParameters   ++++ (1.06E-04s)\n",
      "2022-05-09 13:10:53.352 - amici.ode_export - INFO - Finished computing sx0_fixedParameters      +++ (1.97E-02s)\n",
      "2022-05-09 13:10:53.354 - amici.ode_export - INFO - Finished writing sx0_fixedParameters.cpp     ++ (2.84E-02s)\n",
      "2022-05-09 13:10:53.365 - amici.ode_export - INFO - Finished writing xdot.cpp                    ++ (2.31E-03s)\n",
      "2022-05-09 13:10:53.375 - amici.ode_export - INFO - Finished writing y.cpp                       ++ (7.29E-04s)\n",
      "2022-05-09 13:10:53.394 - amici.ode_export - INFO - Finished simplifying x_rdata               ++++ (2.32E-04s)\n",
      "2022-05-09 13:10:53.396 - amici.ode_export - INFO - Finished computing x_rdata                  +++ (8.36E-03s)\n",
      "2022-05-09 13:10:53.398 - amici.ode_export - INFO - Finished writing x_rdata.cpp                 ++ (1.69E-02s)\n",
      "2022-05-09 13:10:53.418 - amici.ode_export - INFO - Finished simplifying total_cl              ++++ (1.10E-04s)\n",
      "2022-05-09 13:10:53.419 - amici.ode_export - INFO - Finished computing total_cl                 +++ (7.91E-03s)\n",
      "2022-05-09 13:10:53.420 - amici.ode_export - INFO - Finished writing total_cl.cpp                ++ (1.52E-02s)\n",
      "2022-05-09 13:10:53.442 - amici.ode_export - INFO - Finished simplifying x_solver              ++++ (1.57E-04s)\n",
      "2022-05-09 13:10:53.443 - amici.ode_export - INFO - Finished computing x_solver                 +++ (7.74E-03s)\n",
      "2022-05-09 13:10:53.446 - amici.ode_export - INFO - Finished writing x_solver.cpp                ++ (1.60E-02s)\n",
      "2022-05-09 13:10:53.459 - amici.ode_export - INFO - Finished generating cpp code                  + (7.42E-01s)\n",
      "2022-05-09 13:11:11.805 - amici.ode_export - INFO - Finished compiling cpp code                   + (1.83E+01s)\n",
      "2022-05-09 13:11:11.807 - amici.petab_import - INFO - Finished Importing PEtab model                (1.92E+01s)\n",
      "Using existing amici model in folder /home/vinc777/python_projects/moses/spoegler_model_reduction/l1_regularization/amici_models/Sp_gler_ConversionReaction.\n"
     ]
    },
    {
     "name": "stdout",
     "output_type": "stream",
     "text": [
      "running AmiciInstall\n",
      "Adding OpenMP flags...\n",
      "hdf5.h found in /usr/include/hdf5/serial\n",
      "libhdf5.a found in /usr/lib/x86_64-linux-gnu/hdf5/serial\n",
      "running build_ext\n",
      "Changed extra_compile_args for unix to ['-fopenmp', '-std=c++14']\n",
      "building 'Sp_gler_ConversionReaction._Sp_gler_ConversionReaction' extension\n",
      "Testing SWIG executable swig4.0... SUCCEEDED.\n",
      "swigging swig/Sp_gler_ConversionReaction.i to swig/Sp_gler_ConversionReaction_wrap.cpp\n",
      "swig4.0 -python -c++ -modern -outdir Sp_gler_ConversionReaction -I/home/vinc777/.local/lib/python3.8/site-packages/amici/swig -I/home/vinc777/.local/lib/python3.8/site-packages/amici/include -o swig/Sp_gler_ConversionReaction_wrap.cpp swig/Sp_gler_ConversionReaction.i\n",
      "Deprecated command line option: -modern. This option is now always on.\n",
      "creating build\n",
      "creating build/temp.linux-x86_64-3.8\n",
      "creating build/temp.linux-x86_64-3.8/swig\n",
      "x86_64-linux-gnu-gcc -pthread -Wno-unused-result -Wsign-compare -DNDEBUG -g -fwrapv -O2 -Wall -g -fstack-protector-strong -Wformat -Werror=format-security -g -fwrapv -O2 -fPIC -I/home/vinc777/python_projects/moses/spoegler_model_reduction/l1_regularization/amici_models/Sp_gler_ConversionReaction -I/home/vinc777/.local/lib/python3.8/site-packages/amici/include -I/home/vinc777/.local/lib/python3.8/site-packages/amici/ThirdParty/gsl -I/home/vinc777/.local/lib/python3.8/site-packages/amici/ThirdParty/sundials/include -I/home/vinc777/.local/lib/python3.8/site-packages/amici/ThirdParty/SuiteSparse/include -I/usr/include/hdf5/serial -I/usr/include/python3.8 -c Sp_gler_ConversionReaction.cpp -o build/temp.linux-x86_64-3.8/Sp_gler_ConversionReaction.o -fopenmp -std=c++14\n",
      "x86_64-linux-gnu-gcc -pthread -Wno-unused-result -Wsign-compare -DNDEBUG -g -fwrapv -O2 -Wall -g -fstack-protector-strong -Wformat -Werror=format-security -g -fwrapv -O2 -fPIC -I/home/vinc777/python_projects/moses/spoegler_model_reduction/l1_regularization/amici_models/Sp_gler_ConversionReaction -I/home/vinc777/.local/lib/python3.8/site-packages/amici/include -I/home/vinc777/.local/lib/python3.8/site-packages/amici/ThirdParty/gsl -I/home/vinc777/.local/lib/python3.8/site-packages/amici/ThirdParty/sundials/include -I/home/vinc777/.local/lib/python3.8/site-packages/amici/ThirdParty/SuiteSparse/include -I/usr/include/hdf5/serial -I/usr/include/python3.8 -c Sp_gler_ConversionReaction_Jy.cpp -o build/temp.linux-x86_64-3.8/Sp_gler_ConversionReaction_Jy.o -fopenmp -std=c++14\n",
      "x86_64-linux-gnu-gcc -pthread -Wno-unused-result -Wsign-compare -DNDEBUG -g -fwrapv -O2 -Wall -g -fstack-protector-strong -Wformat -Werror=format-security -g -fwrapv -O2 -fPIC -I/home/vinc777/python_projects/moses/spoegler_model_reduction/l1_regularization/amici_models/Sp_gler_ConversionReaction -I/home/vinc777/.local/lib/python3.8/site-packages/amici/include -I/home/vinc777/.local/lib/python3.8/site-packages/amici/ThirdParty/gsl -I/home/vinc777/.local/lib/python3.8/site-packages/amici/ThirdParty/sundials/include -I/home/vinc777/.local/lib/python3.8/site-packages/amici/ThirdParty/SuiteSparse/include -I/usr/include/hdf5/serial -I/usr/include/python3.8 -c Sp_gler_ConversionReaction_dJydsigma.cpp -o build/temp.linux-x86_64-3.8/Sp_gler_ConversionReaction_dJydsigma.o -fopenmp -std=c++14\n",
      "x86_64-linux-gnu-gcc -pthread -Wno-unused-result -Wsign-compare -DNDEBUG -g -fwrapv -O2 -Wall -g -fstack-protector-strong -Wformat -Werror=format-security -g -fwrapv -O2 -fPIC -I/home/vinc777/python_projects/moses/spoegler_model_reduction/l1_regularization/amici_models/Sp_gler_ConversionReaction -I/home/vinc777/.local/lib/python3.8/site-packages/amici/include -I/home/vinc777/.local/lib/python3.8/site-packages/amici/ThirdParty/gsl -I/home/vinc777/.local/lib/python3.8/site-packages/amici/ThirdParty/sundials/include -I/home/vinc777/.local/lib/python3.8/site-packages/amici/ThirdParty/SuiteSparse/include -I/usr/include/hdf5/serial -I/usr/include/python3.8 -c Sp_gler_ConversionReaction_dJydy.cpp -o build/temp.linux-x86_64-3.8/Sp_gler_ConversionReaction_dJydy.o -fopenmp -std=c++14\n",
      "x86_64-linux-gnu-gcc -pthread -Wno-unused-result -Wsign-compare -DNDEBUG -g -fwrapv -O2 -Wall -g -fstack-protector-strong -Wformat -Werror=format-security -g -fwrapv -O2 -fPIC -I/home/vinc777/python_projects/moses/spoegler_model_reduction/l1_regularization/amici_models/Sp_gler_ConversionReaction -I/home/vinc777/.local/lib/python3.8/site-packages/amici/include -I/home/vinc777/.local/lib/python3.8/site-packages/amici/ThirdParty/gsl -I/home/vinc777/.local/lib/python3.8/site-packages/amici/ThirdParty/sundials/include -I/home/vinc777/.local/lib/python3.8/site-packages/amici/ThirdParty/SuiteSparse/include -I/usr/include/hdf5/serial -I/usr/include/python3.8 -c Sp_gler_ConversionReaction_dJydy_colptrs.cpp -o build/temp.linux-x86_64-3.8/Sp_gler_ConversionReaction_dJydy_colptrs.o -fopenmp -std=c++14\n",
      "x86_64-linux-gnu-gcc -pthread -Wno-unused-result -Wsign-compare -DNDEBUG -g -fwrapv -O2 -Wall -g -fstack-protector-strong -Wformat -Werror=format-security -g -fwrapv -O2 -fPIC -I/home/vinc777/python_projects/moses/spoegler_model_reduction/l1_regularization/amici_models/Sp_gler_ConversionReaction -I/home/vinc777/.local/lib/python3.8/site-packages/amici/include -I/home/vinc777/.local/lib/python3.8/site-packages/amici/ThirdParty/gsl -I/home/vinc777/.local/lib/python3.8/site-packages/amici/ThirdParty/sundials/include -I/home/vinc777/.local/lib/python3.8/site-packages/amici/ThirdParty/SuiteSparse/include -I/usr/include/hdf5/serial -I/usr/include/python3.8 -c Sp_gler_ConversionReaction_dJydy_rowvals.cpp -o build/temp.linux-x86_64-3.8/Sp_gler_ConversionReaction_dJydy_rowvals.o -fopenmp -std=c++14\n",
      "x86_64-linux-gnu-gcc -pthread -Wno-unused-result -Wsign-compare -DNDEBUG -g -fwrapv -O2 -Wall -g -fstack-protector-strong -Wformat -Werror=format-security -g -fwrapv -O2 -fPIC -I/home/vinc777/python_projects/moses/spoegler_model_reduction/l1_regularization/amici_models/Sp_gler_ConversionReaction -I/home/vinc777/.local/lib/python3.8/site-packages/amici/include -I/home/vinc777/.local/lib/python3.8/site-packages/amici/ThirdParty/gsl -I/home/vinc777/.local/lib/python3.8/site-packages/amici/ThirdParty/sundials/include -I/home/vinc777/.local/lib/python3.8/site-packages/amici/ThirdParty/SuiteSparse/include -I/usr/include/hdf5/serial -I/usr/include/python3.8 -c Sp_gler_ConversionReaction_dsigmaydp.cpp -o build/temp.linux-x86_64-3.8/Sp_gler_ConversionReaction_dsigmaydp.o -fopenmp -std=c++14\n",
      "x86_64-linux-gnu-gcc -pthread -Wno-unused-result -Wsign-compare -DNDEBUG -g -fwrapv -O2 -Wall -g -fstack-protector-strong -Wformat -Werror=format-security -g -fwrapv -O2 -fPIC -I/home/vinc777/python_projects/moses/spoegler_model_reduction/l1_regularization/amici_models/Sp_gler_ConversionReaction -I/home/vinc777/.local/lib/python3.8/site-packages/amici/include -I/home/vinc777/.local/lib/python3.8/site-packages/amici/ThirdParty/gsl -I/home/vinc777/.local/lib/python3.8/site-packages/amici/ThirdParty/sundials/include -I/home/vinc777/.local/lib/python3.8/site-packages/amici/ThirdParty/SuiteSparse/include -I/usr/include/hdf5/serial -I/usr/include/python3.8 -c Sp_gler_ConversionReaction_dxdotdp_explicit.cpp -o build/temp.linux-x86_64-3.8/Sp_gler_ConversionReaction_dxdotdp_explicit.o -fopenmp -std=c++14\n",
      "x86_64-linux-gnu-gcc -pthread -Wno-unused-result -Wsign-compare -DNDEBUG -g -fwrapv -O2 -Wall -g -fstack-protector-strong -Wformat -Werror=format-security -g -fwrapv -O2 -fPIC -I/home/vinc777/python_projects/moses/spoegler_model_reduction/l1_regularization/amici_models/Sp_gler_ConversionReaction -I/home/vinc777/.local/lib/python3.8/site-packages/amici/include -I/home/vinc777/.local/lib/python3.8/site-packages/amici/ThirdParty/gsl -I/home/vinc777/.local/lib/python3.8/site-packages/amici/ThirdParty/sundials/include -I/home/vinc777/.local/lib/python3.8/site-packages/amici/ThirdParty/SuiteSparse/include -I/usr/include/hdf5/serial -I/usr/include/python3.8 -c Sp_gler_ConversionReaction_dxdotdp_explicit_colptrs.cpp -o build/temp.linux-x86_64-3.8/Sp_gler_ConversionReaction_dxdotdp_explicit_colptrs.o -fopenmp -std=c++14\n",
      "x86_64-linux-gnu-gcc -pthread -Wno-unused-result -Wsign-compare -DNDEBUG -g -fwrapv -O2 -Wall -g -fstack-protector-strong -Wformat -Werror=format-security -g -fwrapv -O2 -fPIC -I/home/vinc777/python_projects/moses/spoegler_model_reduction/l1_regularization/amici_models/Sp_gler_ConversionReaction -I/home/vinc777/.local/lib/python3.8/site-packages/amici/include -I/home/vinc777/.local/lib/python3.8/site-packages/amici/ThirdParty/gsl -I/home/vinc777/.local/lib/python3.8/site-packages/amici/ThirdParty/sundials/include -I/home/vinc777/.local/lib/python3.8/site-packages/amici/ThirdParty/SuiteSparse/include -I/usr/include/hdf5/serial -I/usr/include/python3.8 -c Sp_gler_ConversionReaction_dxdotdp_explicit_rowvals.cpp -o build/temp.linux-x86_64-3.8/Sp_gler_ConversionReaction_dxdotdp_explicit_rowvals.o -fopenmp -std=c++14\n",
      "x86_64-linux-gnu-gcc -pthread -Wno-unused-result -Wsign-compare -DNDEBUG -g -fwrapv -O2 -Wall -g -fstack-protector-strong -Wformat -Werror=format-security -g -fwrapv -O2 -fPIC -I/home/vinc777/python_projects/moses/spoegler_model_reduction/l1_regularization/amici_models/Sp_gler_ConversionReaction -I/home/vinc777/.local/lib/python3.8/site-packages/amici/include -I/home/vinc777/.local/lib/python3.8/site-packages/amici/ThirdParty/gsl -I/home/vinc777/.local/lib/python3.8/site-packages/amici/ThirdParty/sundials/include -I/home/vinc777/.local/lib/python3.8/site-packages/amici/ThirdParty/SuiteSparse/include -I/usr/include/hdf5/serial -I/usr/include/python3.8 -c Sp_gler_ConversionReaction_dxdotdx_explicit.cpp -o build/temp.linux-x86_64-3.8/Sp_gler_ConversionReaction_dxdotdx_explicit.o -fopenmp -std=c++14\n",
      "x86_64-linux-gnu-gcc -pthread -Wno-unused-result -Wsign-compare -DNDEBUG -g -fwrapv -O2 -Wall -g -fstack-protector-strong -Wformat -Werror=format-security -g -fwrapv -O2 -fPIC -I/home/vinc777/python_projects/moses/spoegler_model_reduction/l1_regularization/amici_models/Sp_gler_ConversionReaction -I/home/vinc777/.local/lib/python3.8/site-packages/amici/include -I/home/vinc777/.local/lib/python3.8/site-packages/amici/ThirdParty/gsl -I/home/vinc777/.local/lib/python3.8/site-packages/amici/ThirdParty/sundials/include -I/home/vinc777/.local/lib/python3.8/site-packages/amici/ThirdParty/SuiteSparse/include -I/usr/include/hdf5/serial -I/usr/include/python3.8 -c Sp_gler_ConversionReaction_dxdotdx_explicit_colptrs.cpp -o build/temp.linux-x86_64-3.8/Sp_gler_ConversionReaction_dxdotdx_explicit_colptrs.o -fopenmp -std=c++14\n",
      "x86_64-linux-gnu-gcc -pthread -Wno-unused-result -Wsign-compare -DNDEBUG -g -fwrapv -O2 -Wall -g -fstack-protector-strong -Wformat -Werror=format-security -g -fwrapv -O2 -fPIC -I/home/vinc777/python_projects/moses/spoegler_model_reduction/l1_regularization/amici_models/Sp_gler_ConversionReaction -I/home/vinc777/.local/lib/python3.8/site-packages/amici/include -I/home/vinc777/.local/lib/python3.8/site-packages/amici/ThirdParty/gsl -I/home/vinc777/.local/lib/python3.8/site-packages/amici/ThirdParty/sundials/include -I/home/vinc777/.local/lib/python3.8/site-packages/amici/ThirdParty/SuiteSparse/include -I/usr/include/hdf5/serial -I/usr/include/python3.8 -c Sp_gler_ConversionReaction_dxdotdx_explicit_rowvals.cpp -o build/temp.linux-x86_64-3.8/Sp_gler_ConversionReaction_dxdotdx_explicit_rowvals.o -fopenmp -std=c++14\n",
      "x86_64-linux-gnu-gcc -pthread -Wno-unused-result -Wsign-compare -DNDEBUG -g -fwrapv -O2 -Wall -g -fstack-protector-strong -Wformat -Werror=format-security -g -fwrapv -O2 -fPIC -I/home/vinc777/python_projects/moses/spoegler_model_reduction/l1_regularization/amici_models/Sp_gler_ConversionReaction -I/home/vinc777/.local/lib/python3.8/site-packages/amici/include -I/home/vinc777/.local/lib/python3.8/site-packages/amici/ThirdParty/gsl -I/home/vinc777/.local/lib/python3.8/site-packages/amici/ThirdParty/sundials/include -I/home/vinc777/.local/lib/python3.8/site-packages/amici/ThirdParty/SuiteSparse/include -I/usr/include/hdf5/serial -I/usr/include/python3.8 -c Sp_gler_ConversionReaction_dydx.cpp -o build/temp.linux-x86_64-3.8/Sp_gler_ConversionReaction_dydx.o -fopenmp -std=c++14\n",
      "x86_64-linux-gnu-gcc -pthread -Wno-unused-result -Wsign-compare -DNDEBUG -g -fwrapv -O2 -Wall -g -fstack-protector-strong -Wformat -Werror=format-security -g -fwrapv -O2 -fPIC -I/home/vinc777/python_projects/moses/spoegler_model_reduction/l1_regularization/amici_models/Sp_gler_ConversionReaction -I/home/vinc777/.local/lib/python3.8/site-packages/amici/include -I/home/vinc777/.local/lib/python3.8/site-packages/amici/ThirdParty/gsl -I/home/vinc777/.local/lib/python3.8/site-packages/amici/ThirdParty/sundials/include -I/home/vinc777/.local/lib/python3.8/site-packages/amici/ThirdParty/SuiteSparse/include -I/usr/include/hdf5/serial -I/usr/include/python3.8 -c Sp_gler_ConversionReaction_sigmay.cpp -o build/temp.linux-x86_64-3.8/Sp_gler_ConversionReaction_sigmay.o -fopenmp -std=c++14\n",
      "x86_64-linux-gnu-gcc -pthread -Wno-unused-result -Wsign-compare -DNDEBUG -g -fwrapv -O2 -Wall -g -fstack-protector-strong -Wformat -Werror=format-security -g -fwrapv -O2 -fPIC -I/home/vinc777/python_projects/moses/spoegler_model_reduction/l1_regularization/amici_models/Sp_gler_ConversionReaction -I/home/vinc777/.local/lib/python3.8/site-packages/amici/include -I/home/vinc777/.local/lib/python3.8/site-packages/amici/ThirdParty/gsl -I/home/vinc777/.local/lib/python3.8/site-packages/amici/ThirdParty/sundials/include -I/home/vinc777/.local/lib/python3.8/site-packages/amici/ThirdParty/SuiteSparse/include -I/usr/include/hdf5/serial -I/usr/include/python3.8 -c Sp_gler_ConversionReaction_x_rdata.cpp -o build/temp.linux-x86_64-3.8/Sp_gler_ConversionReaction_x_rdata.o -fopenmp -std=c++14\n",
      "x86_64-linux-gnu-gcc -pthread -Wno-unused-result -Wsign-compare -DNDEBUG -g -fwrapv -O2 -Wall -g -fstack-protector-strong -Wformat -Werror=format-security -g -fwrapv -O2 -fPIC -I/home/vinc777/python_projects/moses/spoegler_model_reduction/l1_regularization/amici_models/Sp_gler_ConversionReaction -I/home/vinc777/.local/lib/python3.8/site-packages/amici/include -I/home/vinc777/.local/lib/python3.8/site-packages/amici/ThirdParty/gsl -I/home/vinc777/.local/lib/python3.8/site-packages/amici/ThirdParty/sundials/include -I/home/vinc777/.local/lib/python3.8/site-packages/amici/ThirdParty/SuiteSparse/include -I/usr/include/hdf5/serial -I/usr/include/python3.8 -c Sp_gler_ConversionReaction_x_solver.cpp -o build/temp.linux-x86_64-3.8/Sp_gler_ConversionReaction_x_solver.o -fopenmp -std=c++14\n",
      "x86_64-linux-gnu-gcc -pthread -Wno-unused-result -Wsign-compare -DNDEBUG -g -fwrapv -O2 -Wall -g -fstack-protector-strong -Wformat -Werror=format-security -g -fwrapv -O2 -fPIC -I/home/vinc777/python_projects/moses/spoegler_model_reduction/l1_regularization/amici_models/Sp_gler_ConversionReaction -I/home/vinc777/.local/lib/python3.8/site-packages/amici/include -I/home/vinc777/.local/lib/python3.8/site-packages/amici/ThirdParty/gsl -I/home/vinc777/.local/lib/python3.8/site-packages/amici/ThirdParty/sundials/include -I/home/vinc777/.local/lib/python3.8/site-packages/amici/ThirdParty/SuiteSparse/include -I/usr/include/hdf5/serial -I/usr/include/python3.8 -c Sp_gler_ConversionReaction_xdot.cpp -o build/temp.linux-x86_64-3.8/Sp_gler_ConversionReaction_xdot.o -fopenmp -std=c++14\n",
      "x86_64-linux-gnu-gcc -pthread -Wno-unused-result -Wsign-compare -DNDEBUG -g -fwrapv -O2 -Wall -g -fstack-protector-strong -Wformat -Werror=format-security -g -fwrapv -O2 -fPIC -I/home/vinc777/python_projects/moses/spoegler_model_reduction/l1_regularization/amici_models/Sp_gler_ConversionReaction -I/home/vinc777/.local/lib/python3.8/site-packages/amici/include -I/home/vinc777/.local/lib/python3.8/site-packages/amici/ThirdParty/gsl -I/home/vinc777/.local/lib/python3.8/site-packages/amici/ThirdParty/sundials/include -I/home/vinc777/.local/lib/python3.8/site-packages/amici/ThirdParty/SuiteSparse/include -I/usr/include/hdf5/serial -I/usr/include/python3.8 -c Sp_gler_ConversionReaction_y.cpp -o build/temp.linux-x86_64-3.8/Sp_gler_ConversionReaction_y.o -fopenmp -std=c++14\n",
      "x86_64-linux-gnu-gcc -pthread -Wno-unused-result -Wsign-compare -DNDEBUG -g -fwrapv -O2 -Wall -g -fstack-protector-strong -Wformat -Werror=format-security -g -fwrapv -O2 -fPIC -I/home/vinc777/python_projects/moses/spoegler_model_reduction/l1_regularization/amici_models/Sp_gler_ConversionReaction -I/home/vinc777/.local/lib/python3.8/site-packages/amici/include -I/home/vinc777/.local/lib/python3.8/site-packages/amici/ThirdParty/gsl -I/home/vinc777/.local/lib/python3.8/site-packages/amici/ThirdParty/sundials/include -I/home/vinc777/.local/lib/python3.8/site-packages/amici/ThirdParty/SuiteSparse/include -I/usr/include/hdf5/serial -I/usr/include/python3.8 -c swig/Sp_gler_ConversionReaction_wrap.cpp -o build/temp.linux-x86_64-3.8/swig/Sp_gler_ConversionReaction_wrap.o -fopenmp -std=c++14\n",
      "x86_64-linux-gnu-gcc -pthread -Wno-unused-result -Wsign-compare -DNDEBUG -g -fwrapv -O2 -Wall -g -fstack-protector-strong -Wformat -Werror=format-security -g -fwrapv -O2 -fPIC -I/home/vinc777/python_projects/moses/spoegler_model_reduction/l1_regularization/amici_models/Sp_gler_ConversionReaction -I/home/vinc777/.local/lib/python3.8/site-packages/amici/include -I/home/vinc777/.local/lib/python3.8/site-packages/amici/ThirdParty/gsl -I/home/vinc777/.local/lib/python3.8/site-packages/amici/ThirdParty/sundials/include -I/home/vinc777/.local/lib/python3.8/site-packages/amici/ThirdParty/SuiteSparse/include -I/usr/include/hdf5/serial -I/usr/include/python3.8 -c wrapfunctions.cpp -o build/temp.linux-x86_64-3.8/wrapfunctions.o -fopenmp -std=c++14\n",
      "x86_64-linux-gnu-g++ -pthread -shared -Wl,-O1 -Wl,-Bsymbolic-functions -Wl,-Bsymbolic-functions -Wl,-z,relro -g -fwrapv -O2 build/temp.linux-x86_64-3.8/Sp_gler_ConversionReaction.o build/temp.linux-x86_64-3.8/Sp_gler_ConversionReaction_Jy.o build/temp.linux-x86_64-3.8/Sp_gler_ConversionReaction_dJydsigma.o build/temp.linux-x86_64-3.8/Sp_gler_ConversionReaction_dJydy.o build/temp.linux-x86_64-3.8/Sp_gler_ConversionReaction_dJydy_colptrs.o build/temp.linux-x86_64-3.8/Sp_gler_ConversionReaction_dJydy_rowvals.o build/temp.linux-x86_64-3.8/Sp_gler_ConversionReaction_dsigmaydp.o build/temp.linux-x86_64-3.8/Sp_gler_ConversionReaction_dxdotdp_explicit.o build/temp.linux-x86_64-3.8/Sp_gler_ConversionReaction_dxdotdp_explicit_colptrs.o build/temp.linux-x86_64-3.8/Sp_gler_ConversionReaction_dxdotdp_explicit_rowvals.o build/temp.linux-x86_64-3.8/Sp_gler_ConversionReaction_dxdotdx_explicit.o build/temp.linux-x86_64-3.8/Sp_gler_ConversionReaction_dxdotdx_explicit_colptrs.o build/temp.linux-x86_64-3.8/Sp_gler_ConversionReaction_dxdotdx_explicit_rowvals.o build/temp.linux-x86_64-3.8/Sp_gler_ConversionReaction_dydx.o build/temp.linux-x86_64-3.8/Sp_gler_ConversionReaction_sigmay.o build/temp.linux-x86_64-3.8/Sp_gler_ConversionReaction_x_rdata.o build/temp.linux-x86_64-3.8/Sp_gler_ConversionReaction_x_solver.o build/temp.linux-x86_64-3.8/Sp_gler_ConversionReaction_xdot.o build/temp.linux-x86_64-3.8/Sp_gler_ConversionReaction_y.o build/temp.linux-x86_64-3.8/swig/Sp_gler_ConversionReaction_wrap.o build/temp.linux-x86_64-3.8/wrapfunctions.o -L/usr/lib/x86_64-linux-gnu/hdf5/serial -L/home/vinc777/.local/lib/python3.8/site-packages/amici/libs -L/usr/lib -lamici -lsundials -lsuitesparse -lcblas -lhdf5_hl_cpp -lhdf5_hl -lhdf5_cpp -lhdf5 -o /home/vinc777/python_projects/moses/spoegler_model_reduction/l1_regularization/amici_models/Sp_gler_ConversionReaction/Sp_gler_ConversionReaction/_Sp_gler_ConversionReaction.cpython-38-x86_64-linux-gnu.so -fopenmp\n",
      "\n"
     ]
    }
   ],
   "source": [
    "model_name= \"Spoegler_conversionReaction\"\n",
    "param_scale= 'lin'\n",
    "\n",
    "# the yaml file includes all important links to other files\n",
    "yaml_config =\"petab/\"+'lin2'+\"/\"+model_name+\".yaml\"\n",
    "# create a petab problem\n",
    "petab_problem2 = petab.Problem.from_yaml(yaml_config)\n",
    "\n",
    "# or create from folder (did not work)\n",
    "# petab_problem = petab.Problem.from_folder(\"petab/\"+param_scale)\n",
    "\n",
    "# import to amici\n",
    "importer = pypesto.petab.PetabImporter(petab_problem)\n",
    "#importer.compile_model()\n",
    "\n",
    "model2 = importer.create_model()"
   ]
  },
  {
   "cell_type": "code",
   "execution_count": 126,
   "metadata": {},
   "outputs": [],
   "source": [
    "# initialize solver and options\n",
    "solver = importer.create_solver(model2)\n",
    "\n",
    "# enable sensitivities\n",
    "solver.setSensitivityOrder(amici.SensitivityOrder_first)       \n",
    "solver.setSensitivityMethod(amici.SensitivityMethod_forward)  \n",
    "model2.requireSensitivitiesForAllParameters()  "
   ]
  },
  {
   "cell_type": "code",
   "execution_count": 127,
   "metadata": {},
   "outputs": [
    {
     "name": "stderr",
     "output_type": "stream",
     "text": [
      "Using existing amici model in folder /home/vinc777/python_projects/moses/spoegler_model_reduction/l1_regularization/amici_models/Sp_gler_ConversionReaction.\n"
     ]
    }
   ],
   "source": [
    "# objective function\n",
    "obj2 = importer.create_objective()\n",
    "\n",
    "neg_log_likelihood = obj2"
   ]
  },
  {
   "cell_type": "code",
   "execution_count": 138,
   "metadata": {},
   "outputs": [
    {
     "data": {
      "text/plain": [
       "['k1', 'k2', 'k3', 'sd_observed_B']"
      ]
     },
     "execution_count": 138,
     "metadata": {},
     "output_type": "execute_result"
    }
   ],
   "source": [
    "obj.x_names"
   ]
  },
  {
   "cell_type": "code",
   "execution_count": 128,
   "metadata": {},
   "outputs": [
    {
     "name": "stdout",
     "output_type": "stream",
     "text": [
      "optimal x =  [0.2, 0.1, 0.0, 0.15]\n",
      "optimal lh value -1.0389690351046932\n"
     ]
    }
   ],
   "source": [
    "strength = 1\n",
    "\n",
    "neg_log_prior = make_prior(model, strength)\n",
    "\n",
    "neg_log_posterior = pypesto.objective.AggregatedObjective([neg_log_likelihood, neg_log_prior])\n",
    "\n",
    "print('optimal x = ', petab_problem2.x_nominal)\n",
    "print('optimal lh value', neg_log_posterior(petab_problem2.x_nominal))"
   ]
  },
  {
   "cell_type": "code",
   "execution_count": 153,
   "metadata": {},
   "outputs": [],
   "source": [
    "problem3 = importer.create_problem(neg_log_posterior)"
   ]
  },
  {
   "cell_type": "code",
   "execution_count": 156,
   "metadata": {},
   "outputs": [
    {
     "data": {
      "text/plain": [
       "1995.026015307652"
      ]
     },
     "execution_count": 156,
     "metadata": {},
     "output_type": "execute_result"
    }
   ],
   "source": [
    "problem3.objective([0.1]*3)"
   ]
  },
  {
   "cell_type": "code",
   "execution_count": 157,
   "metadata": {},
   "outputs": [
    {
     "name": "stderr",
     "output_type": "stream",
     "text": [
      " 43%|████▎     | 43/100 [04:20<03:52,  4.07s/it][Warning] AMICI:CVODES:CVode:TOO_MUCH_WORK: AMICI ERROR: in module CVODES in function CVode : At t = 59.2548, mxstep steps taken before reaching tout. \n",
      "[Warning] AMICI:simulation: AMICI forward simulation failed at t = 59.254778:\n",
      "AMICI failed to integrate the forward problem\n",
      "\n",
      "[Warning] AMICI:CVODES:CVode:TOO_MUCH_WORK: AMICI ERROR: in module CVODES in function CVode : At t = 59.2548, mxstep steps taken before reaching tout. \n",
      "[Warning] AMICI:simulation: AMICI forward simulation failed at t = 59.254778:\n",
      "AMICI failed to integrate the forward problem\n",
      "\n",
      " 54%|█████▍    | 54/100 [05:25<05:16,  6.88s/it][Warning] AMICI:CVODES:CVode:TOO_MUCH_WORK: AMICI ERROR: in module CVODES in function CVode : At t = 45.0345, mxstep steps taken before reaching tout. \n",
      "[Warning] AMICI:simulation: AMICI forward simulation failed at t = 45.034543:\n",
      "AMICI failed to integrate the forward problem\n",
      "\n",
      "[Warning] AMICI:CVODES:CVode:TOO_MUCH_WORK: AMICI ERROR: in module CVODES in function CVode : At t = 45.0345, mxstep steps taken before reaching tout. \n",
      "[Warning] AMICI:simulation: AMICI forward simulation failed at t = 45.034543:\n",
      "AMICI failed to integrate the forward problem\n",
      "\n",
      " 71%|███████   | 71/100 [07:00<02:38,  5.45s/it][Warning] AMICI:CVODES:CVode:TOO_MUCH_WORK: AMICI ERROR: in module CVODES in function CVode : At t = 40.2577, mxstep steps taken before reaching tout. \n",
      "[Warning] AMICI:simulation: AMICI forward simulation failed at t = 40.257737:\n",
      "AMICI failed to integrate the forward problem\n",
      "\n",
      " 94%|█████████▍| 94/100 [09:03<00:37,  6.20s/it][Warning] AMICI:CVODES:CVode:TOO_MUCH_WORK: AMICI ERROR: in module CVODES in function CVode : At t = 15.4885, mxstep steps taken before reaching tout. \n",
      "[Warning] AMICI:simulation: AMICI forward simulation failed at t = 15.488456:\n",
      "AMICI failed to integrate the forward problem\n",
      "\n",
      "100%|██████████| 100/100 [09:19<00:00,  5.59s/it]\n"
     ]
    }
   ],
   "source": [
    "lb = np.array(petab_problem2.parameter_df['lowerBound'][0:3])\n",
    "ub = np.array(petab_problem2.parameter_df['upperBound'][0:3])\n",
    "\n",
    "# create optimizer object\n",
    "optimizer = optimize.ScipyOptimizer()\n",
    "\n",
    "# create problem object\n",
    "problem2 = pypesto.Problem(objective=neg_log_posterior, lb=lb, ub=ub)\n",
    "\n",
    "# do the optimization\n",
    "n_starts = 100\n",
    "\n",
    "result3 = optimize.minimize(problem=problem3, optimizer=optimizer, n_starts=n_starts, filename=None)"
   ]
  },
  {
   "cell_type": "code",
   "execution_count": 160,
   "metadata": {},
   "outputs": [
    {
     "name": "stdout",
     "output_type": "stream",
     "text": [
      "result <pypesto.objective.amici.AmiciObjective object at 0x7f257677f4f0> = <pypesto.result.result.Result object at 0x7f259ae137f0>\n",
      "best result =  [0.25322131 0.07136649 0.00151638 0.15      ]\n",
      "best parameter:  [0.25322131 0.07136649 0.00151638 0.15      ]\n",
      "best likelihood value:  0.10960767962968099\n"
     ]
    }
   ],
   "source": [
    "print('result', obj, '=', result3)\n",
    "print('best result = ', result3.optimize_result.as_list('x')[0]['x'])\n",
    "\n",
    "# print results\n",
    "best_result3=result3.optimize_result.as_list(\"x\")[0][\"x\"]\n",
    "print('best parameter: ', best_result3)\n",
    "print('best likelihood value: ', problem3.objective(best_result3[0:3]))"
   ]
  },
  {
   "cell_type": "code",
   "execution_count": 135,
   "metadata": {},
   "outputs": [
    {
     "name": "stdout",
     "output_type": "stream",
     "text": [
      "[0, 1, 2, 3]\n"
     ]
    }
   ],
   "source": [
    "print(problem2.x_free_indices)"
   ]
  },
  {
   "cell_type": "code",
   "execution_count": null,
   "metadata": {},
   "outputs": [
    {
     "data": {
      "text/plain": [
       "<AxesSubplot:title={'center':'Waterfall plot'}, xlabel='Ordered optimizer run', ylabel='Function value'>"
      ]
     },
     "execution_count": 47,
     "metadata": {},
     "output_type": "execute_result"
    },
    {
     "data": {
      "image/png": "[encoded data removed]",
      "text/plain": [
       "<Figure size 1332x756 with 1 Axes>"
      ]
     },
     "metadata": {
      "needs_background": "light"
     },
     "output_type": "display_data"
    }
   ],
   "source": [
    "# waterfall plot\n",
    "fvals = result2.optimize_result.get_for_key(\"fval\")\n",
    "fval = np.array(fvals)\n",
    "fval=fval[fval < 1e2]\n",
    "visualize.waterfall_lowlevel(fval, scale_y='lin')"
   ]
  },
  {
   "cell_type": "code",
   "execution_count": 113,
   "metadata": {},
   "outputs": [
    {
     "data": {
      "text/plain": [
       "pypesto.objective.aggregated.AggregatedObjective"
      ]
     },
     "execution_count": 113,
     "metadata": {},
     "output_type": "execute_result"
    }
   ],
   "source": [
    "type(problem.objective)"
   ]
  },
  {
   "cell_type": "code",
   "execution_count": 111,
   "metadata": {},
   "outputs": [
    {
     "data": {
      "text/plain": [
       "pypesto.objective.aggregated.AggregatedObjective"
      ]
     },
     "execution_count": 111,
     "metadata": {},
     "output_type": "execute_result"
    }
   ],
   "source": [
    "type(neg_log_posterior)"
   ]
  },
  {
   "cell_type": "code",
   "execution_count": 114,
   "metadata": {},
   "outputs": [],
   "source": [
    "o0 = problem.objective\n",
    "o1 = neg_log_posterior\n"
   ]
  },
  {
   "cell_type": "code",
   "execution_count": 115,
   "metadata": {},
   "outputs": [
    {
     "data": {
      "text/plain": [
       "['__abstractmethods__',\n",
       " '__call__',\n",
       " '__class__',\n",
       " '__deepcopy__',\n",
       " '__delattr__',\n",
       " '__dict__',\n",
       " '__dir__',\n",
       " '__doc__',\n",
       " '__eq__',\n",
       " '__format__',\n",
       " '__ge__',\n",
       " '__getattribute__',\n",
       " '__gt__',\n",
       " '__hash__',\n",
       " '__init__',\n",
       " '__init_subclass__',\n",
       " '__le__',\n",
       " '__lt__',\n",
       " '__module__',\n",
       " '__ne__',\n",
       " '__new__',\n",
       " '__reduce__',\n",
       " '__reduce_ex__',\n",
       " '__repr__',\n",
       " '__setattr__',\n",
       " '__sizeof__',\n",
       " '__slots__',\n",
       " '__str__',\n",
       " '__subclasshook__',\n",
       " '__weakref__',\n",
       " '_abc_impl',\n",
       " '_objectives',\n",
       " '_x_names',\n",
       " 'call_unprocessed',\n",
       " 'check_grad',\n",
       " 'check_grad_multi_eps',\n",
       " 'check_gradients_match_finite_differences',\n",
       " 'check_mode',\n",
       " 'check_sensi_orders',\n",
       " 'get_config',\n",
       " 'get_fval',\n",
       " 'get_grad',\n",
       " 'get_hess',\n",
       " 'get_res',\n",
       " 'get_sres',\n",
       " 'has_fun',\n",
       " 'has_grad',\n",
       " 'has_hess',\n",
       " 'has_hessp',\n",
       " 'has_res',\n",
       " 'has_sres',\n",
       " 'history',\n",
       " 'initialize',\n",
       " 'output_to_tuple',\n",
       " 'pre_post_processor',\n",
       " 'update_from_problem',\n",
       " 'x_names']"
      ]
     },
     "execution_count": 115,
     "metadata": {},
     "output_type": "execute_result"
    }
   ],
   "source": [
    "dir(o0)"
   ]
  },
  {
   "cell_type": "code",
   "execution_count": 117,
   "metadata": {},
   "outputs": [],
   "source": [
    "p0 = o0._objectives[1]"
   ]
  },
  {
   "cell_type": "code",
   "execution_count": 118,
   "metadata": {},
   "outputs": [],
   "source": [
    "p1 = o1._objectives[1]"
   ]
  },
  {
   "cell_type": "code",
   "execution_count": 121,
   "metadata": {},
   "outputs": [
    {
     "data": {
      "text/plain": [
       "['__abstractmethods__',\n",
       " '__call__',\n",
       " '__class__',\n",
       " '__deepcopy__',\n",
       " '__delattr__',\n",
       " '__dict__',\n",
       " '__dir__',\n",
       " '__doc__',\n",
       " '__eq__',\n",
       " '__format__',\n",
       " '__ge__',\n",
       " '__getattribute__',\n",
       " '__gt__',\n",
       " '__hash__',\n",
       " '__init__',\n",
       " '__init_subclass__',\n",
       " '__le__',\n",
       " '__lt__',\n",
       " '__module__',\n",
       " '__ne__',\n",
       " '__new__',\n",
       " '__reduce__',\n",
       " '__reduce_ex__',\n",
       " '__repr__',\n",
       " '__setattr__',\n",
       " '__sizeof__',\n",
       " '__slots__',\n",
       " '__str__',\n",
       " '__subclasshook__',\n",
       " '__weakref__',\n",
       " '_abc_impl',\n",
       " '_x_names',\n",
       " 'call_unprocessed',\n",
       " 'check_grad',\n",
       " 'check_grad_multi_eps',\n",
       " 'check_gradients_match_finite_differences',\n",
       " 'check_mode',\n",
       " 'check_sensi_orders',\n",
       " 'get_config',\n",
       " 'get_fval',\n",
       " 'get_grad',\n",
       " 'get_hess',\n",
       " 'get_res',\n",
       " 'get_sres',\n",
       " 'gradient_neg_log_density',\n",
       " 'has_fun',\n",
       " 'has_grad',\n",
       " 'has_hess',\n",
       " 'has_hessp',\n",
       " 'has_res',\n",
       " 'has_sres',\n",
       " 'hessian_neg_log_density',\n",
       " 'hessian_vp_neg_log_density',\n",
       " 'history',\n",
       " 'initialize',\n",
       " 'neg_log_density',\n",
       " 'output_to_tuple',\n",
       " 'pre_post_processor',\n",
       " 'prior_list',\n",
       " 'residual',\n",
       " 'residual_jacobian',\n",
       " 'update_from_problem',\n",
       " 'x_names']"
      ]
     },
     "execution_count": 121,
     "metadata": {},
     "output_type": "execute_result"
    }
   ],
   "source": [
    "dir(p0)"
   ]
  },
  {
   "cell_type": "code",
   "execution_count": 122,
   "metadata": {},
   "outputs": [
    {
     "data": {
      "text/plain": [
       "[{'index': 0,\n",
       "  'density_fun': <function pypesto.objective.priors._prior_densities.<locals>.log_f(x)>,\n",
       "  'density_dx': <function pypesto.objective.priors._prior_densities.<locals>.d_log_f_dx(x)>,\n",
       "  'density_ddx': <function pypesto.objective.priors._get_constant_function.<locals>.function(x)>,\n",
       "  'residual': <function pypesto.objective.priors._prior_densities.<locals>.res(x)>,\n",
       "  'residual_dx': <function pypesto.objective.priors._prior_densities.<locals>.d_res_dx(x)>},\n",
       " {'index': 1,\n",
       "  'density_fun': <function pypesto.objective.priors._prior_densities.<locals>.log_f(x)>,\n",
       "  'density_dx': <function pypesto.objective.priors._prior_densities.<locals>.d_log_f_dx(x)>,\n",
       "  'density_ddx': <function pypesto.objective.priors._get_constant_function.<locals>.function(x)>,\n",
       "  'residual': <function pypesto.objective.priors._prior_densities.<locals>.res(x)>,\n",
       "  'residual_dx': <function pypesto.objective.priors._prior_densities.<locals>.d_res_dx(x)>},\n",
       " {'index': 2,\n",
       "  'density_fun': <function pypesto.objective.priors._prior_densities.<locals>.log_f(x)>,\n",
       "  'density_dx': <function pypesto.objective.priors._prior_densities.<locals>.d_log_f_dx(x)>,\n",
       "  'density_ddx': <function pypesto.objective.priors._get_constant_function.<locals>.function(x)>,\n",
       "  'residual': <function pypesto.objective.priors._prior_densities.<locals>.res(x)>,\n",
       "  'residual_dx': <function pypesto.objective.priors._prior_densities.<locals>.d_res_dx(x)>}]"
      ]
     },
     "execution_count": 122,
     "metadata": {},
     "output_type": "execute_result"
    }
   ],
   "source": [
    "p0.prior_list"
   ]
  },
  {
   "cell_type": "code",
   "execution_count": 123,
   "metadata": {},
   "outputs": [
    {
     "data": {
      "text/plain": [
       "[{'index': 0,\n",
       "  'density_fun': <function pypesto.objective.priors._prior_densities.<locals>.log_f(x)>,\n",
       "  'density_dx': <function pypesto.objective.priors._prior_densities.<locals>.d_log_f_dx(x)>,\n",
       "  'density_ddx': <function pypesto.objective.priors._get_constant_function.<locals>.function(x)>,\n",
       "  'residual': <function pypesto.objective.priors._prior_densities.<locals>.res(x)>,\n",
       "  'residual_dx': <function pypesto.objective.priors._prior_densities.<locals>.d_res_dx(x)>},\n",
       " {'index': 1,\n",
       "  'density_fun': <function pypesto.objective.priors._prior_densities.<locals>.log_f(x)>,\n",
       "  'density_dx': <function pypesto.objective.priors._prior_densities.<locals>.d_log_f_dx(x)>,\n",
       "  'density_ddx': <function pypesto.objective.priors._get_constant_function.<locals>.function(x)>,\n",
       "  'residual': <function pypesto.objective.priors._prior_densities.<locals>.res(x)>,\n",
       "  'residual_dx': <function pypesto.objective.priors._prior_densities.<locals>.d_res_dx(x)>},\n",
       " {'index': 2,\n",
       "  'density_fun': <function pypesto.objective.priors._prior_densities.<locals>.log_f(x)>,\n",
       "  'density_dx': <function pypesto.objective.priors._prior_densities.<locals>.d_log_f_dx(x)>,\n",
       "  'density_ddx': <function pypesto.objective.priors._get_constant_function.<locals>.function(x)>,\n",
       "  'residual': <function pypesto.objective.priors._prior_densities.<locals>.res(x)>,\n",
       "  'residual_dx': <function pypesto.objective.priors._prior_densities.<locals>.d_res_dx(x)>},\n",
       " {'index': 3,\n",
       "  'density_fun': <function pypesto.objective.priors._prior_densities.<locals>.log_f(x)>,\n",
       "  'density_dx': <function pypesto.objective.priors._prior_densities.<locals>.d_log_f_dx(x)>,\n",
       "  'density_ddx': <function pypesto.objective.priors._get_constant_function.<locals>.function(x)>,\n",
       "  'residual': <function pypesto.objective.priors._prior_densities.<locals>.res(x)>,\n",
       "  'residual_dx': <function pypesto.objective.priors._prior_densities.<locals>.d_res_dx(x)>}]"
      ]
     },
     "execution_count": 123,
     "metadata": {},
     "output_type": "execute_result"
    }
   ],
   "source": [
    "p1.prior_list"
   ]
  },
  {
   "cell_type": "code",
   "execution_count": null,
   "metadata": {},
   "outputs": [],
   "source": []
  }
 ],
 "metadata": {
  "interpreter": {
   "hash": "916dbcbb3f70747c44a77c7bcd40155683ae19c65e1c03b4aa3499c5328201f1"
  },
  "kernelspec": {
   "display_name": "Python 3.8.10 64-bit",
   "language": "python",
   "name": "python3"
  },
  "language_info": {
   "codemirror_mode": {
    "name": "ipython",
    "version": 3
   },
   "file_extension": ".py",
   "mimetype": "text/x-python",
   "name": "python",
   "nbconvert_exporter": "python",
   "pygments_lexer": "ipython3",
   "version": "3.8.10"
  },
  "orig_nbformat": 4
 },
 "nbformat": 4,
 "nbformat_minor": 2
}
