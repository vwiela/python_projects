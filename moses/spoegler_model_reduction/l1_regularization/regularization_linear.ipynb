{
 "cells": [
  {
   "cell_type": "markdown",
   "metadata": {},
   "source": [
    "## L1 regularization on linear scale"
   ]
  },
  {
   "cell_type": "markdown",
   "metadata": {},
   "source": [
    "For the linear scale it should be enough to just specify the priors in the parameters table of the petab problem. For the `log10` scale this should also suffice, but we need to think whether we want to have priors on the linear scale or on the original parameter scale (`log10`).\n",
    "\n",
    "For the `log10_shift` and the `logicle` scale this is a little bit more involved, since we cannot specify those scales in the parameters table."
   ]
  },
  {
   "cell_type": "code",
   "execution_count": 1,
   "metadata": {},
   "outputs": [],
   "source": [
    "import libsbml\n",
    "import importlib\n",
    "import os\n",
    "import sys\n",
    "import shutil\n",
    "import pandas as pd\n",
    "\n",
    "\n",
    "\n",
    "import amici\n",
    "import matplotlib.pyplot as plt\n",
    "import numpy as np \n",
    "import petab \n",
    "from petab.C import *\n",
    "\n",
    "import pypesto\n",
    "import pypesto.optimize as optimize\n",
    "import pypesto.petab\n",
    "import pypesto.visualize as visualize\n",
    "import pypesto.objective"
   ]
  },
  {
   "cell_type": "code",
   "execution_count": 2,
   "metadata": {},
   "outputs": [],
   "source": [
    "# create parameter table with priors\n",
    "\n",
    "param_scale = 'lin'\n",
    "\n",
    "parameter_df = pd.DataFrame(\n",
    "    data={\n",
    "        PARAMETER_ID: ['k1', 'k2', 'k3', 'sd_observed_B'],\n",
    "        PARAMETER_SCALE: [param_scale] * 4,\n",
    "        LOWER_BOUND: [0] * 4,\n",
    "        UPPER_BOUND: [1000] * 4,\n",
    "        NOMINAL_VALUE: [0.2, 0.1, 0.0, 0.15],\n",
    "        ESTIMATE: [1, 1, 1, 0],\n",
    "        'initializationPriorType': ['laplace', 'laplace', 'laplace', None],\n",
    "        'initializationPriorParameters': ['0; 1', '0; 1', '0; 1', None],\n",
    "        'objectivePriorType': ['laplace', 'laplace', 'laplace', None],\n",
    "        'objectivePriorParameters': ['0; 1', '0; 1', '0; 1', None]\n",
    "\n",
    "    }\n",
    ").set_index(PARAMETER_ID)\n",
    "\n",
    "petab.write_parameter_df(parameter_df, \"petab/\"+param_scale+\"/parameters.tsv\")"
   ]
  },
  {
   "cell_type": "markdown",
   "metadata": {},
   "source": [
    "Maybe modifications by hand are needed afterwards to get the `PriorParameters` of the form `location;scale`."
   ]
  },
  {
   "cell_type": "code",
   "execution_count": 4,
   "metadata": {},
   "outputs": [
    {
     "name": "stderr",
     "output_type": "stream",
     "text": [
      "2022-05-16 09:43:09.026 - amici.petab_import - INFO - Importing model ...\n",
      "2022-05-16 09:43:09.028 - amici.petab_import - INFO - Model name is 'Sp_gler_ConversionReaction'.\n",
      "Writing model code to '/home/vinc777/python_projects/moses/spoegler_model_reduction/l1_regularization/amici_models/Sp_gler_ConversionReaction'.\n",
      "2022-05-16 09:43:09.029 - amici.petab_import - INFO - Species: 2\n",
      "2022-05-16 09:43:09.030 - amici.petab_import - INFO - Global parameters: 3\n",
      "2022-05-16 09:43:09.031 - amici.petab_import - INFO - Reactions: 0\n",
      "2022-05-16 09:43:09.034 - amici.petab_import - INFO - Observables: 1\n",
      "2022-05-16 09:43:09.035 - amici.petab_import - INFO - Sigmas: 1\n",
      "2022-05-16 09:43:09.037 - amici.petab_import - DEBUG - Adding output parameters to model: OrderedDict([('noiseParameter1_observed_B', None)])\n",
      "2022-05-16 09:43:09.039 - amici.petab_import - DEBUG - Adding initial assignments for []\n",
      "2022-05-16 09:43:09.040 - amici.petab_import - DEBUG - Condition table: (1, 0)\n",
      "2022-05-16 09:43:09.041 - amici.petab_import - DEBUG - Fixed parameters are []\n",
      "2022-05-16 09:43:09.043 - amici.petab_import - INFO - Overall fixed parameters: 0\n",
      "2022-05-16 09:43:09.044 - amici.petab_import - INFO - Variable parameters: 4\n",
      "2022-05-16 09:43:09.059 - amici.sbml_import - INFO - Finished gathering local SBML symbols       ++ (5.47E-04s)\n",
      "2022-05-16 09:43:09.072 - amici.sbml_import - INFO - Finished processing SBML parameters         ++ (2.25E-04s)\n",
      "2022-05-16 09:43:09.079 - amici.sbml_import - INFO - Finished processing SBML compartments       ++ (4.59E-04s)\n",
      "2022-05-16 09:43:09.093 - amici.sbml_import - INFO - Finished processing SBML species initials  +++ (3.99E-04s)\n",
      "2022-05-16 09:43:09.101 - amici.sbml_import - INFO - Finished processing SBML rate rules        +++ (2.88E-03s)\n",
      "2022-05-16 09:43:09.102 - amici.sbml_import - INFO - Finished processing SBML species            ++ (1.62E-02s)\n",
      "2022-05-16 09:43:09.107 - amici.sbml_import - INFO - Finished processing SBML reactions          ++ (1.96E-04s)\n",
      "2022-05-16 09:43:09.113 - amici.sbml_import - INFO - Finished processing SBML rules              ++ (3.01E-04s)\n",
      "2022-05-16 09:43:09.118 - amici.sbml_import - INFO - Finished processing SBML initial assignments++ (3.90E-05s)\n",
      "2022-05-16 09:43:09.125 - amici.sbml_import - INFO - Finished processing SBML species references ++ (1.70E-04s)\n",
      "2022-05-16 09:43:09.131 - amici.sbml_import - INFO - Finished processing SBML events             ++ (1.05E-04s)\n",
      "2022-05-16 09:43:09.132 - amici.sbml_import - INFO - Finished importing SBML                      + (8.16E-02s)\n",
      "2022-05-16 09:43:09.140 - amici.sbml_import - INFO - Finished processing SBML observables         + (2.80E-03s)\n",
      "2022-05-16 09:43:09.153 - amici.ode_export - INFO - Finished running smart_multiply              ++ (3.57E-05s)\n",
      "2022-05-16 09:43:09.154 - amici.ode_export - INFO - Finished importing SbmlImporter               + (5.78E-03s)\n",
      "2022-05-16 09:43:09.181 - amici.ode_export - INFO - Finished simplifying Jy                    ++++ (5.74E-03s)\n",
      "2022-05-16 09:43:09.182 - amici.ode_export - INFO - Finished computing Jy                       +++ (1.10E-02s)\n",
      "2022-05-16 09:43:09.190 - amici.ode_export - INFO - Finished simplifying y                     ++++ (6.33E-05s)\n",
      "2022-05-16 09:43:09.191 - amici.ode_export - INFO - Finished computing y                        +++ (4.05E-03s)\n"
     ]
    },
    {
     "ename": "AttributeError",
     "evalue": "'MutableDenseMatrix' object has no attribute 'flat'",
     "output_type": "error",
     "traceback": [
      "\u001b[0;31m---------------------------------------------------------------------------\u001b[0m",
      "\u001b[0;31mAttributeError\u001b[0m                            Traceback (most recent call last)",
      "\u001b[1;32m/home/vinc777/python_projects/moses/spoegler_model_reduction/l1_regularization/regularization_linear.ipynb Cell 6'\u001b[0m in \u001b[0;36m<module>\u001b[0;34m\u001b[0m\n\u001b[1;32m      <a href='vscode-notebook-cell://wsl%2Bubuntu/home/vinc777/python_projects/moses/spoegler_model_reduction/l1_regularization/regularization_linear.ipynb#ch0000005vscode-remote?line=8'>9</a>\u001b[0m \u001b[39m# or create from folder (did not work)\u001b[39;00m\n\u001b[1;32m     <a href='vscode-notebook-cell://wsl%2Bubuntu/home/vinc777/python_projects/moses/spoegler_model_reduction/l1_regularization/regularization_linear.ipynb#ch0000005vscode-remote?line=9'>10</a>\u001b[0m \u001b[39m# petab_problem = petab.Problem.from_folder(\"petab/\"+param_scale)\u001b[39;00m\n\u001b[1;32m     <a href='vscode-notebook-cell://wsl%2Bubuntu/home/vinc777/python_projects/moses/spoegler_model_reduction/l1_regularization/regularization_linear.ipynb#ch0000005vscode-remote?line=10'>11</a>\u001b[0m \n\u001b[1;32m     <a href='vscode-notebook-cell://wsl%2Bubuntu/home/vinc777/python_projects/moses/spoegler_model_reduction/l1_regularization/regularization_linear.ipynb#ch0000005vscode-remote?line=11'>12</a>\u001b[0m \u001b[39m# import to amici\u001b[39;00m\n\u001b[1;32m     <a href='vscode-notebook-cell://wsl%2Bubuntu/home/vinc777/python_projects/moses/spoegler_model_reduction/l1_regularization/regularization_linear.ipynb#ch0000005vscode-remote?line=12'>13</a>\u001b[0m importer \u001b[39m=\u001b[39m pypesto\u001b[39m.\u001b[39mpetab\u001b[39m.\u001b[39mPetabImporter(petab_problem)\n\u001b[0;32m---> <a href='vscode-notebook-cell://wsl%2Bubuntu/home/vinc777/python_projects/moses/spoegler_model_reduction/l1_regularization/regularization_linear.ipynb#ch0000005vscode-remote?line=13'>14</a>\u001b[0m importer\u001b[39m.\u001b[39;49mcompile_model()\n\u001b[1;32m     <a href='vscode-notebook-cell://wsl%2Bubuntu/home/vinc777/python_projects/moses/spoegler_model_reduction/l1_regularization/regularization_linear.ipynb#ch0000005vscode-remote?line=15'>16</a>\u001b[0m model \u001b[39m=\u001b[39m importer\u001b[39m.\u001b[39mcreate_model()\n",
      "File \u001b[0;32m~/.local/lib/python3.8/site-packages/pypesto/petab/importer.py:263\u001b[0m, in \u001b[0;36mPetabImporter.compile_model\u001b[0;34m(self, **kwargs)\u001b[0m\n\u001b[1;32m    <a href='file:///home/vinc777/.local/lib/python3.8/site-packages/pypesto/petab/importer.py?line=259'>260</a>\u001b[0m \u001b[39mif\u001b[39;00m os\u001b[39m.\u001b[39mpath\u001b[39m.\u001b[39mexists(\u001b[39mself\u001b[39m\u001b[39m.\u001b[39moutput_folder):\n\u001b[1;32m    <a href='file:///home/vinc777/.local/lib/python3.8/site-packages/pypesto/petab/importer.py?line=260'>261</a>\u001b[0m     shutil\u001b[39m.\u001b[39mrmtree(\u001b[39mself\u001b[39m\u001b[39m.\u001b[39moutput_folder)\n\u001b[0;32m--> <a href='file:///home/vinc777/.local/lib/python3.8/site-packages/pypesto/petab/importer.py?line=262'>263</a>\u001b[0m amici\u001b[39m.\u001b[39;49mpetab_import\u001b[39m.\u001b[39;49mimport_model(\n\u001b[1;32m    <a href='file:///home/vinc777/.local/lib/python3.8/site-packages/pypesto/petab/importer.py?line=263'>264</a>\u001b[0m     sbml_model\u001b[39m=\u001b[39;49m\u001b[39mself\u001b[39;49m\u001b[39m.\u001b[39;49mpetab_problem\u001b[39m.\u001b[39;49msbml_model,\n\u001b[1;32m    <a href='file:///home/vinc777/.local/lib/python3.8/site-packages/pypesto/petab/importer.py?line=264'>265</a>\u001b[0m     condition_table\u001b[39m=\u001b[39;49m\u001b[39mself\u001b[39;49m\u001b[39m.\u001b[39;49mpetab_problem\u001b[39m.\u001b[39;49mcondition_df,\n\u001b[1;32m    <a href='file:///home/vinc777/.local/lib/python3.8/site-packages/pypesto/petab/importer.py?line=265'>266</a>\u001b[0m     observable_table\u001b[39m=\u001b[39;49m\u001b[39mself\u001b[39;49m\u001b[39m.\u001b[39;49mpetab_problem\u001b[39m.\u001b[39;49mobservable_df,\n\u001b[1;32m    <a href='file:///home/vinc777/.local/lib/python3.8/site-packages/pypesto/petab/importer.py?line=266'>267</a>\u001b[0m     model_name\u001b[39m=\u001b[39;49m\u001b[39mself\u001b[39;49m\u001b[39m.\u001b[39;49mmodel_name,\n\u001b[1;32m    <a href='file:///home/vinc777/.local/lib/python3.8/site-packages/pypesto/petab/importer.py?line=267'>268</a>\u001b[0m     model_output_dir\u001b[39m=\u001b[39;49m\u001b[39mself\u001b[39;49m\u001b[39m.\u001b[39;49moutput_folder,\n\u001b[1;32m    <a href='file:///home/vinc777/.local/lib/python3.8/site-packages/pypesto/petab/importer.py?line=268'>269</a>\u001b[0m     \u001b[39m*\u001b[39;49m\u001b[39m*\u001b[39;49mkwargs,\n\u001b[1;32m    <a href='file:///home/vinc777/.local/lib/python3.8/site-packages/pypesto/petab/importer.py?line=269'>270</a>\u001b[0m )\n",
      "File \u001b[0;32m~/.local/lib/python3.8/site-packages/amici/logging.py:194\u001b[0m, in \u001b[0;36mlog_execution_time.<locals>.decorator_timer.<locals>.wrapper_timer\u001b[0;34m(*args, **kwargs)\u001b[0m\n\u001b[1;32m    <a href='file:///home/vinc777/.local/lib/python3.8/site-packages/amici/logging.py?line=190'>191</a>\u001b[0m     recursion \u001b[39m=\u001b[39m \u001b[39m'\u001b[39m\u001b[39m+\u001b[39m\u001b[39m'\u001b[39m \u001b[39m*\u001b[39m (recursion_level \u001b[39m-\u001b[39m \u001b[39m1\u001b[39m)\n\u001b[1;32m    <a href='file:///home/vinc777/.local/lib/python3.8/site-packages/amici/logging.py?line=192'>193</a>\u001b[0m tstart \u001b[39m=\u001b[39m time\u001b[39m.\u001b[39mperf_counter()\n\u001b[0;32m--> <a href='file:///home/vinc777/.local/lib/python3.8/site-packages/amici/logging.py?line=193'>194</a>\u001b[0m rval \u001b[39m=\u001b[39m func(\u001b[39m*\u001b[39;49margs, \u001b[39m*\u001b[39;49m\u001b[39m*\u001b[39;49mkwargs)\n\u001b[1;32m    <a href='file:///home/vinc777/.local/lib/python3.8/site-packages/amici/logging.py?line=194'>195</a>\u001b[0m tend \u001b[39m=\u001b[39m time\u001b[39m.\u001b[39mperf_counter()\n\u001b[1;32m    <a href='file:///home/vinc777/.local/lib/python3.8/site-packages/amici/logging.py?line=195'>196</a>\u001b[0m spacers \u001b[39m=\u001b[39m \u001b[39m'\u001b[39m\u001b[39m \u001b[39m\u001b[39m'\u001b[39m \u001b[39m*\u001b[39m \u001b[39mmax\u001b[39m(\u001b[39m54\u001b[39m \u001b[39m-\u001b[39m \u001b[39mlen\u001b[39m(description) \u001b[39m-\u001b[39m \u001b[39mlen\u001b[39m(logger\u001b[39m.\u001b[39mname) \u001b[39m-\u001b[39m\n\u001b[1;32m    <a href='file:///home/vinc777/.local/lib/python3.8/site-packages/amici/logging.py?line=196'>197</a>\u001b[0m                     \u001b[39mlen\u001b[39m(recursion), \u001b[39m0\u001b[39m)\n",
      "File \u001b[0;32m~/.local/lib/python3.8/site-packages/amici/petab_import.py:579\u001b[0m, in \u001b[0;36mimport_model_sbml\u001b[0;34m(sbml_model, condition_table, observable_table, measurement_table, model_name, model_output_dir, verbose, allow_reinit_fixpar_initcond, **kwargs)\u001b[0m\n\u001b[1;32m    <a href='file:///home/vinc777/.local/lib/python3.8/site-packages/amici/petab_import.py?line=573'>574</a>\u001b[0m logger\u001b[39m.\u001b[39minfo(\u001b[39m\"\u001b[39m\u001b[39mVariable parameters: \u001b[39m\u001b[39m\"\u001b[39m\n\u001b[1;32m    <a href='file:///home/vinc777/.local/lib/python3.8/site-packages/amici/petab_import.py?line=574'>575</a>\u001b[0m             \u001b[39m+\u001b[39m \u001b[39mstr\u001b[39m(\u001b[39mlen\u001b[39m(sbml_model\u001b[39m.\u001b[39mgetListOfParameters())\n\u001b[1;32m    <a href='file:///home/vinc777/.local/lib/python3.8/site-packages/amici/petab_import.py?line=575'>576</a>\u001b[0m                   \u001b[39m-\u001b[39m \u001b[39mlen\u001b[39m(fixed_parameters)))\n\u001b[1;32m    <a href='file:///home/vinc777/.local/lib/python3.8/site-packages/amici/petab_import.py?line=577'>578</a>\u001b[0m \u001b[39m# Create Python module from SBML model\u001b[39;00m\n\u001b[0;32m--> <a href='file:///home/vinc777/.local/lib/python3.8/site-packages/amici/petab_import.py?line=578'>579</a>\u001b[0m sbml_importer\u001b[39m.\u001b[39;49msbml2amici(\n\u001b[1;32m    <a href='file:///home/vinc777/.local/lib/python3.8/site-packages/amici/petab_import.py?line=579'>580</a>\u001b[0m     model_name\u001b[39m=\u001b[39;49mmodel_name,\n\u001b[1;32m    <a href='file:///home/vinc777/.local/lib/python3.8/site-packages/amici/petab_import.py?line=580'>581</a>\u001b[0m     output_dir\u001b[39m=\u001b[39;49mmodel_output_dir,\n\u001b[1;32m    <a href='file:///home/vinc777/.local/lib/python3.8/site-packages/amici/petab_import.py?line=581'>582</a>\u001b[0m     observables\u001b[39m=\u001b[39;49mobservables,\n\u001b[1;32m    <a href='file:///home/vinc777/.local/lib/python3.8/site-packages/amici/petab_import.py?line=582'>583</a>\u001b[0m     constant_parameters\u001b[39m=\u001b[39;49mfixed_parameters,\n\u001b[1;32m    <a href='file:///home/vinc777/.local/lib/python3.8/site-packages/amici/petab_import.py?line=583'>584</a>\u001b[0m     sigmas\u001b[39m=\u001b[39;49msigmas,\n\u001b[1;32m    <a href='file:///home/vinc777/.local/lib/python3.8/site-packages/amici/petab_import.py?line=584'>585</a>\u001b[0m     allow_reinit_fixpar_initcond\u001b[39m=\u001b[39;49mallow_reinit_fixpar_initcond,\n\u001b[1;32m    <a href='file:///home/vinc777/.local/lib/python3.8/site-packages/amici/petab_import.py?line=585'>586</a>\u001b[0m     noise_distributions\u001b[39m=\u001b[39;49mnoise_distrs,\n\u001b[1;32m    <a href='file:///home/vinc777/.local/lib/python3.8/site-packages/amici/petab_import.py?line=586'>587</a>\u001b[0m     verbose\u001b[39m=\u001b[39;49mverbose,\n\u001b[1;32m    <a href='file:///home/vinc777/.local/lib/python3.8/site-packages/amici/petab_import.py?line=587'>588</a>\u001b[0m     \u001b[39m*\u001b[39;49m\u001b[39m*\u001b[39;49mkwargs)\n\u001b[1;32m    <a href='file:///home/vinc777/.local/lib/python3.8/site-packages/amici/petab_import.py?line=589'>590</a>\u001b[0m \u001b[39mreturn\u001b[39;00m sbml_importer\n",
      "File \u001b[0;32m~/.local/lib/python3.8/site-packages/amici/sbml_import.py:377\u001b[0m, in \u001b[0;36mSbmlImporter.sbml2amici\u001b[0;34m(self, model_name, output_dir, observables, constant_parameters, sigmas, noise_distributions, verbose, assume_pow_positivity, compiler, allow_reinit_fixpar_initcond, compile, compute_conservation_laws, simplify, log_as_log10, generate_sensitivity_code, **kwargs)\u001b[0m\n\u001b[1;32m    <a href='file:///home/vinc777/.local/lib/python3.8/site-packages/amici/sbml_import.py?line=364'>365</a>\u001b[0m ode_model\u001b[39m.\u001b[39mimport_from_sbml_importer(\n\u001b[1;32m    <a href='file:///home/vinc777/.local/lib/python3.8/site-packages/amici/sbml_import.py?line=365'>366</a>\u001b[0m     \u001b[39mself\u001b[39m, compute_cls\u001b[39m=\u001b[39mcompute_conservation_laws)\n\u001b[1;32m    <a href='file:///home/vinc777/.local/lib/python3.8/site-packages/amici/sbml_import.py?line=366'>367</a>\u001b[0m exporter \u001b[39m=\u001b[39m ODEExporter(\n\u001b[1;32m    <a href='file:///home/vinc777/.local/lib/python3.8/site-packages/amici/sbml_import.py?line=367'>368</a>\u001b[0m     ode_model,\n\u001b[1;32m    <a href='file:///home/vinc777/.local/lib/python3.8/site-packages/amici/sbml_import.py?line=368'>369</a>\u001b[0m     model_name\u001b[39m=\u001b[39mmodel_name,\n\u001b[0;32m   (...)\u001b[0m\n\u001b[1;32m    <a href='file:///home/vinc777/.local/lib/python3.8/site-packages/amici/sbml_import.py?line=374'>375</a>\u001b[0m     generate_sensitivity_code\u001b[39m=\u001b[39mgenerate_sensitivity_code\n\u001b[1;32m    <a href='file:///home/vinc777/.local/lib/python3.8/site-packages/amici/sbml_import.py?line=375'>376</a>\u001b[0m )\n\u001b[0;32m--> <a href='file:///home/vinc777/.local/lib/python3.8/site-packages/amici/sbml_import.py?line=376'>377</a>\u001b[0m exporter\u001b[39m.\u001b[39;49mgenerate_model_code()\n\u001b[1;32m    <a href='file:///home/vinc777/.local/lib/python3.8/site-packages/amici/sbml_import.py?line=378'>379</a>\u001b[0m \u001b[39mif\u001b[39;00m \u001b[39mcompile\u001b[39m:\n\u001b[1;32m    <a href='file:///home/vinc777/.local/lib/python3.8/site-packages/amici/sbml_import.py?line=379'>380</a>\u001b[0m     \u001b[39mif\u001b[39;00m \u001b[39mnot\u001b[39;00m has_clibs:\n",
      "File \u001b[0;32m~/.local/lib/python3.8/site-packages/amici/logging.py:194\u001b[0m, in \u001b[0;36mlog_execution_time.<locals>.decorator_timer.<locals>.wrapper_timer\u001b[0;34m(*args, **kwargs)\u001b[0m\n\u001b[1;32m    <a href='file:///home/vinc777/.local/lib/python3.8/site-packages/amici/logging.py?line=190'>191</a>\u001b[0m     recursion \u001b[39m=\u001b[39m \u001b[39m'\u001b[39m\u001b[39m+\u001b[39m\u001b[39m'\u001b[39m \u001b[39m*\u001b[39m (recursion_level \u001b[39m-\u001b[39m \u001b[39m1\u001b[39m)\n\u001b[1;32m    <a href='file:///home/vinc777/.local/lib/python3.8/site-packages/amici/logging.py?line=192'>193</a>\u001b[0m tstart \u001b[39m=\u001b[39m time\u001b[39m.\u001b[39mperf_counter()\n\u001b[0;32m--> <a href='file:///home/vinc777/.local/lib/python3.8/site-packages/amici/logging.py?line=193'>194</a>\u001b[0m rval \u001b[39m=\u001b[39m func(\u001b[39m*\u001b[39;49margs, \u001b[39m*\u001b[39;49m\u001b[39m*\u001b[39;49mkwargs)\n\u001b[1;32m    <a href='file:///home/vinc777/.local/lib/python3.8/site-packages/amici/logging.py?line=194'>195</a>\u001b[0m tend \u001b[39m=\u001b[39m time\u001b[39m.\u001b[39mperf_counter()\n\u001b[1;32m    <a href='file:///home/vinc777/.local/lib/python3.8/site-packages/amici/logging.py?line=195'>196</a>\u001b[0m spacers \u001b[39m=\u001b[39m \u001b[39m'\u001b[39m\u001b[39m \u001b[39m\u001b[39m'\u001b[39m \u001b[39m*\u001b[39m \u001b[39mmax\u001b[39m(\u001b[39m54\u001b[39m \u001b[39m-\u001b[39m \u001b[39mlen\u001b[39m(description) \u001b[39m-\u001b[39m \u001b[39mlen\u001b[39m(logger\u001b[39m.\u001b[39mname) \u001b[39m-\u001b[39m\n\u001b[1;32m    <a href='file:///home/vinc777/.local/lib/python3.8/site-packages/amici/logging.py?line=196'>197</a>\u001b[0m                     \u001b[39mlen\u001b[39m(recursion), \u001b[39m0\u001b[39m)\n",
      "File \u001b[0;32m~/.local/lib/python3.8/site-packages/amici/ode_export.py:2541\u001b[0m, in \u001b[0;36mODEExporter.generate_model_code\u001b[0;34m(self)\u001b[0m\n\u001b[1;32m   <a href='file:///home/vinc777/.local/lib/python3.8/site-packages/amici/ode_export.py?line=2536'>2537</a>\u001b[0m \u001b[39mwith\u001b[39;00m _monkeypatched(sp\u001b[39m.\u001b[39mPow, \u001b[39m'\u001b[39m\u001b[39m_eval_derivative\u001b[39m\u001b[39m'\u001b[39m,\n\u001b[1;32m   <a href='file:///home/vinc777/.local/lib/python3.8/site-packages/amici/ode_export.py?line=2537'>2538</a>\u001b[0m                     _custom_pow_eval_derivative):\n\u001b[1;32m   <a href='file:///home/vinc777/.local/lib/python3.8/site-packages/amici/ode_export.py?line=2539'>2540</a>\u001b[0m     \u001b[39mself\u001b[39m\u001b[39m.\u001b[39m_prepare_model_folder()\n\u001b[0;32m-> <a href='file:///home/vinc777/.local/lib/python3.8/site-packages/amici/ode_export.py?line=2540'>2541</a>\u001b[0m     \u001b[39mself\u001b[39;49m\u001b[39m.\u001b[39;49m_generate_c_code()\n\u001b[1;32m   <a href='file:///home/vinc777/.local/lib/python3.8/site-packages/amici/ode_export.py?line=2541'>2542</a>\u001b[0m     \u001b[39mself\u001b[39m\u001b[39m.\u001b[39m_generate_m_code()\n",
      "File \u001b[0;32m~/.local/lib/python3.8/site-packages/amici/ode_export.py:2576\u001b[0m, in \u001b[0;36mODEExporter._generate_c_code\u001b[0;34m(self)\u001b[0m\n\u001b[1;32m   <a href='file:///home/vinc777/.local/lib/python3.8/site-packages/amici/ode_export.py?line=2573'>2574</a>\u001b[0m \u001b[39mif\u001b[39;00m func_info\u001b[39m.\u001b[39mgenerate_body:\n\u001b[1;32m   <a href='file:///home/vinc777/.local/lib/python3.8/site-packages/amici/ode_export.py?line=2574'>2575</a>\u001b[0m     dec \u001b[39m=\u001b[39m log_execution_time(\u001b[39mf\u001b[39m\u001b[39m'\u001b[39m\u001b[39mwriting \u001b[39m\u001b[39m{\u001b[39;00mfunc_name\u001b[39m}\u001b[39;00m\u001b[39m.cpp\u001b[39m\u001b[39m'\u001b[39m, logger)\n\u001b[0;32m-> <a href='file:///home/vinc777/.local/lib/python3.8/site-packages/amici/ode_export.py?line=2575'>2576</a>\u001b[0m     dec(\u001b[39mself\u001b[39;49m\u001b[39m.\u001b[39;49m_write_function_file)(func_name)\n\u001b[1;32m   <a href='file:///home/vinc777/.local/lib/python3.8/site-packages/amici/ode_export.py?line=2576'>2577</a>\u001b[0m \u001b[39mif\u001b[39;00m func_name \u001b[39min\u001b[39;00m sparse_functions \u001b[39mand\u001b[39;00m func_info\u001b[39m.\u001b[39mbody:\n\u001b[1;32m   <a href='file:///home/vinc777/.local/lib/python3.8/site-packages/amici/ode_export.py?line=2577'>2578</a>\u001b[0m     \u001b[39mself\u001b[39m\u001b[39m.\u001b[39m_write_function_index(func_name, \u001b[39m'\u001b[39m\u001b[39mcolptrs\u001b[39m\u001b[39m'\u001b[39m)\n",
      "File \u001b[0;32m~/.local/lib/python3.8/site-packages/amici/logging.py:194\u001b[0m, in \u001b[0;36mlog_execution_time.<locals>.decorator_timer.<locals>.wrapper_timer\u001b[0;34m(*args, **kwargs)\u001b[0m\n\u001b[1;32m    <a href='file:///home/vinc777/.local/lib/python3.8/site-packages/amici/logging.py?line=190'>191</a>\u001b[0m     recursion \u001b[39m=\u001b[39m \u001b[39m'\u001b[39m\u001b[39m+\u001b[39m\u001b[39m'\u001b[39m \u001b[39m*\u001b[39m (recursion_level \u001b[39m-\u001b[39m \u001b[39m1\u001b[39m)\n\u001b[1;32m    <a href='file:///home/vinc777/.local/lib/python3.8/site-packages/amici/logging.py?line=192'>193</a>\u001b[0m tstart \u001b[39m=\u001b[39m time\u001b[39m.\u001b[39mperf_counter()\n\u001b[0;32m--> <a href='file:///home/vinc777/.local/lib/python3.8/site-packages/amici/logging.py?line=193'>194</a>\u001b[0m rval \u001b[39m=\u001b[39m func(\u001b[39m*\u001b[39;49margs, \u001b[39m*\u001b[39;49m\u001b[39m*\u001b[39;49mkwargs)\n\u001b[1;32m    <a href='file:///home/vinc777/.local/lib/python3.8/site-packages/amici/logging.py?line=194'>195</a>\u001b[0m tend \u001b[39m=\u001b[39m time\u001b[39m.\u001b[39mperf_counter()\n\u001b[1;32m    <a href='file:///home/vinc777/.local/lib/python3.8/site-packages/amici/logging.py?line=195'>196</a>\u001b[0m spacers \u001b[39m=\u001b[39m \u001b[39m'\u001b[39m\u001b[39m \u001b[39m\u001b[39m'\u001b[39m \u001b[39m*\u001b[39m \u001b[39mmax\u001b[39m(\u001b[39m54\u001b[39m \u001b[39m-\u001b[39m \u001b[39mlen\u001b[39m(description) \u001b[39m-\u001b[39m \u001b[39mlen\u001b[39m(logger\u001b[39m.\u001b[39mname) \u001b[39m-\u001b[39m\n\u001b[1;32m    <a href='file:///home/vinc777/.local/lib/python3.8/site-packages/amici/logging.py?line=196'>197</a>\u001b[0m                     \u001b[39mlen\u001b[39m(recursion), \u001b[39m0\u001b[39m)\n",
      "File \u001b[0;32m~/.local/lib/python3.8/site-packages/amici/ode_export.py:2766\u001b[0m, in \u001b[0;36mODEExporter._write_function_file\u001b[0;34m(self, function)\u001b[0m\n\u001b[1;32m   <a href='file:///home/vinc777/.local/lib/python3.8/site-packages/amici/ode_export.py?line=2763'>2764</a>\u001b[0m     iszero \u001b[39m=\u001b[39m smart_is_zero_matrix(\u001b[39mself\u001b[39m\u001b[39m.\u001b[39mmodel\u001b[39m.\u001b[39msparseeq(sym))\n\u001b[1;32m   <a href='file:///home/vinc777/.local/lib/python3.8/site-packages/amici/ode_export.py?line=2764'>2765</a>\u001b[0m \u001b[39melif\u001b[39;00m sym \u001b[39min\u001b[39;00m \u001b[39mself\u001b[39m\u001b[39m.\u001b[39mfunctions:\n\u001b[0;32m-> <a href='file:///home/vinc777/.local/lib/python3.8/site-packages/amici/ode_export.py?line=2765'>2766</a>\u001b[0m     iszero \u001b[39m=\u001b[39m smart_is_zero_matrix(\u001b[39mself\u001b[39;49m\u001b[39m.\u001b[39;49mmodel\u001b[39m.\u001b[39;49meq(sym))\n\u001b[1;32m   <a href='file:///home/vinc777/.local/lib/python3.8/site-packages/amici/ode_export.py?line=2766'>2767</a>\u001b[0m \u001b[39melse\u001b[39;00m:\n\u001b[1;32m   <a href='file:///home/vinc777/.local/lib/python3.8/site-packages/amici/ode_export.py?line=2767'>2768</a>\u001b[0m     iszero \u001b[39m=\u001b[39m \u001b[39mlen\u001b[39m(\u001b[39mself\u001b[39m\u001b[39m.\u001b[39mmodel\u001b[39m.\u001b[39msym(sym)) \u001b[39m==\u001b[39m \u001b[39m0\u001b[39m\n",
      "File \u001b[0;32m~/.local/lib/python3.8/site-packages/amici/ode_export.py:846\u001b[0m, in \u001b[0;36msmart_is_zero_matrix\u001b[0;34m(x)\u001b[0m\n\u001b[1;32m    <a href='file:///home/vinc777/.local/lib/python3.8/site-packages/amici/ode_export.py?line=836'>837</a>\u001b[0m \u001b[39m\"\"\"A faster implementation of sympy's is_zero_matrix\u001b[39;00m\n\u001b[1;32m    <a href='file:///home/vinc777/.local/lib/python3.8/site-packages/amici/ode_export.py?line=837'>838</a>\u001b[0m \n\u001b[1;32m    <a href='file:///home/vinc777/.local/lib/python3.8/site-packages/amici/ode_export.py?line=838'>839</a>\u001b[0m \u001b[39mAvoids repeated indexer type checks and double iteration to distinguish\u001b[39;00m\n\u001b[0;32m   (...)\u001b[0m\n\u001b[1;32m    <a href='file:///home/vinc777/.local/lib/python3.8/site-packages/amici/ode_export.py?line=841'>842</a>\u001b[0m \u001b[39m:param x: Matrix to check\u001b[39;00m\n\u001b[1;32m    <a href='file:///home/vinc777/.local/lib/python3.8/site-packages/amici/ode_export.py?line=842'>843</a>\u001b[0m \u001b[39m\"\"\"\u001b[39;00m\n\u001b[1;32m    <a href='file:///home/vinc777/.local/lib/python3.8/site-packages/amici/ode_export.py?line=844'>845</a>\u001b[0m \u001b[39mif\u001b[39;00m \u001b[39misinstance\u001b[39m(x, sp\u001b[39m.\u001b[39mMutableDenseMatrix):\n\u001b[0;32m--> <a href='file:///home/vinc777/.local/lib/python3.8/site-packages/amici/ode_export.py?line=845'>846</a>\u001b[0m     \u001b[39mreturn\u001b[39;00m \u001b[39mall\u001b[39m(xx\u001b[39m.\u001b[39mis_zero \u001b[39mis\u001b[39;00m \u001b[39mTrue\u001b[39;00m \u001b[39mfor\u001b[39;00m xx \u001b[39min\u001b[39;00m x\u001b[39m.\u001b[39;49mflat())\n\u001b[1;32m    <a href='file:///home/vinc777/.local/lib/python3.8/site-packages/amici/ode_export.py?line=847'>848</a>\u001b[0m \u001b[39mreturn\u001b[39;00m x\u001b[39m.\u001b[39mnnz() \u001b[39m==\u001b[39m \u001b[39m0\u001b[39m\n",
      "\u001b[0;31mAttributeError\u001b[0m: 'MutableDenseMatrix' object has no attribute 'flat'"
     ]
    }
   ],
   "source": [
    "model_name= \"Spoegler_conversionReaction\"\n",
    "\n",
    "\n",
    "# the yaml file includes all important links to other files\n",
    "yaml_config =\"petab/\"+param_scale+\"/\"+model_name+\".yaml\"\n",
    "# create a petab problem\n",
    "petab_problem = petab.Problem.from_yaml(yaml_config)\n",
    "\n",
    "# or create from folder (did not work)\n",
    "# petab_problem = petab.Problem.from_folder(\"petab/\"+param_scale)\n",
    "\n",
    "# import to amici\n",
    "importer = pypesto.petab.PetabImporter(petab_problem)\n",
    "importer.compile_model()\n",
    "\n",
    "model = importer.create_model()"
   ]
  },
  {
   "cell_type": "code",
   "execution_count": 74,
   "metadata": {},
   "outputs": [],
   "source": [
    "# initialize solver and options\n",
    "solver = importer.create_solver(model)\n",
    "\n",
    "# enable sensitivities\n",
    "solver.setSensitivityOrder(amici.SensitivityOrder_first)       \n",
    "solver.setSensitivityMethod(amici.SensitivityMethod_forward)  \n",
    "model.requireSensitivitiesForAllParameters()     "
   ]
  },
  {
   "cell_type": "code",
   "execution_count": 75,
   "metadata": {},
   "outputs": [
    {
     "name": "stderr",
     "output_type": "stream",
     "text": [
      "Using existing amici model in folder /home/vinc777/python_projects/moses/spoegler_model_reduction/l1_regularization/amici_models/Sp_gler_ConversionReaction.\n"
     ]
    }
   ],
   "source": [
    "# objective function\n",
    "obj = importer.create_objective()"
   ]
  },
  {
   "cell_type": "code",
   "execution_count": 130,
   "metadata": {},
   "outputs": [
    {
     "name": "stdout",
     "output_type": "stream",
     "text": [
      "optimal x =  [0.2, 0.1, 0.0, 0.15]\n",
      "optimal lh value -1.0389690351046932\n"
     ]
    }
   ],
   "source": [
    "print('optimal x = ', petab_problem.x_nominal)\n",
    "print('optimal lh value', obj(petab_problem.x_nominal[0:3]))"
   ]
  },
  {
   "cell_type": "code",
   "execution_count": null,
   "metadata": {},
   "outputs": [],
   "source": [
    "# create optimizer object\n",
    "optimizer = optimize.ScipyOptimizer()\n",
    "\n",
    "# create problem object\n",
    "problem = importer.create_problem(obj)\n",
    "\n",
    "# do the optimization\n",
    "n_starts = 100\n",
    "\n",
    "result = optimize.minimize(problem=problem, optimizer=optimizer, n_starts=n_starts, filename=None)"
   ]
  },
  {
   "cell_type": "code",
   "execution_count": 80,
   "metadata": {},
   "outputs": [
    {
     "name": "stdout",
     "output_type": "stream",
     "text": [
      "best parameter:  [0.26581756 0.06621187 0.00162104 0.15      ]\n",
      "best likelihood value:  -2.2992910548081764\n"
     ]
    }
   ],
   "source": [
    "# print results\n",
    "best_result=result.optimize_result.as_list(\"x\")[0][\"x\"]\n",
    "print('best parameter: ', best_result)\n",
    "print('best likelihood value: ', problem.objective(best_result[0:3]))"
   ]
  },
  {
   "cell_type": "code",
   "execution_count": 81,
   "metadata": {},
   "outputs": [
    {
     "data": {
      "text/plain": [
       "<AxesSubplot:title={'center':'Waterfall plot'}, xlabel='Ordered optimizer run', ylabel='Function value'>"
      ]
     },
     "execution_count": 81,
     "metadata": {},
     "output_type": "execute_result"
    },
    {
     "data": {
      "image/png": "[encoded data removed]",
      "text/plain": [
       "<Figure size 1332x756 with 1 Axes>"
      ]
     },
     "metadata": {
      "needs_background": "light"
     },
     "output_type": "display_data"
    }
   ],
   "source": [
    "# waterfall plot\n",
    "fvals = result.optimize_result.get_for_key(\"fval\")\n",
    "fval = np.array(fvals)\n",
    "fval=fval[fval < 1e2]\n",
    "visualize.waterfall_lowlevel(fval, scale_y='lin')"
   ]
  },
  {
   "cell_type": "markdown",
   "metadata": {},
   "source": [
    "THis approach with specifying the prior using the parameter table is not realy feasible if we want to compute a regularization path for different values of the prior parameters, so for different regularization strengths. Because we would need a new parameter table every time. \n",
    "A better approach can be to get the normal objecitve function, which is the log-likelihood (negative?) and then add the regularization term, which was computed manually, by the `AggregatedObjective` function from pypesto."
   ]
  },
  {
   "cell_type": "markdown",
   "metadata": {},
   "source": [
    "Or another approach could be to create a prior dictionary using pypesto `get_parameter_prior_dict` and then `objective.NegLogParameterPriors`. --> This is the same I guess"
   ]
  },
  {
   "cell_type": "code",
   "execution_count": 124,
   "metadata": {},
   "outputs": [],
   "source": [
    "def make_prior(model, strength, scale='lin'): \n",
    "  prior_list = []\n",
    "\n",
    "  for i in range(len(model.getParameters())-1):\n",
    "    priorType = 'laplace'\n",
    "    priorParameters = [0, 1/strength]\n",
    "    priorScale = scale\n",
    "    prior = pypesto.objective.get_parameter_prior_dict(i, priorType, priorParameters, priorScale)\n",
    "    prior_list.append(prior)\n",
    "\n",
    "  return pypesto.objective.NegLogParameterPriors(prior_list)"
   ]
  },
  {
   "cell_type": "code",
   "execution_count": null,
   "metadata": {},
   "outputs": [],
   "source": [
    "model_name= \"Spoegler_conversionReaction\"\n",
    "param_scale= 'lin'\n",
    "\n",
    "# the yaml file includes all important links to other files\n",
    "yaml_config =\"petab/\"+'lin2'+\"/\"+model_name+\".yaml\"\n",
    "# create a petab problem\n",
    "petab_problem2 = petab.Problem.from_yaml(yaml_config)\n",
    "\n",
    "# or create from folder (did not work)\n",
    "# petab_problem = petab.Problem.from_folder(\"petab/\"+param_scale)\n",
    "\n",
    "# import to amici\n",
    "importer = pypesto.petab.PetabImporter(petab_problem)\n",
    "#importer.compile_model()\n",
    "\n",
    "model2 = importer.create_model()"
   ]
  },
  {
   "cell_type": "code",
   "execution_count": 126,
   "metadata": {},
   "outputs": [],
   "source": [
    "# initialize solver and options\n",
    "solver = importer.create_solver(model2)\n",
    "\n",
    "# enable sensitivities\n",
    "solver.setSensitivityOrder(amici.SensitivityOrder_first)       \n",
    "solver.setSensitivityMethod(amici.SensitivityMethod_forward)  \n",
    "model2.requireSensitivitiesForAllParameters()  "
   ]
  },
  {
   "cell_type": "code",
   "execution_count": 127,
   "metadata": {},
   "outputs": [
    {
     "name": "stderr",
     "output_type": "stream",
     "text": [
      "Using existing amici model in folder /home/vinc777/python_projects/moses/spoegler_model_reduction/l1_regularization/amici_models/Sp_gler_ConversionReaction.\n"
     ]
    }
   ],
   "source": [
    "# objective function\n",
    "obj2 = importer.create_objective()\n",
    "\n",
    "neg_log_likelihood = obj2"
   ]
  },
  {
   "cell_type": "code",
   "execution_count": 138,
   "metadata": {},
   "outputs": [
    {
     "data": {
      "text/plain": [
       "['k1', 'k2', 'k3', 'sd_observed_B']"
      ]
     },
     "execution_count": 138,
     "metadata": {},
     "output_type": "execute_result"
    }
   ],
   "source": [
    "obj.x_names"
   ]
  },
  {
   "cell_type": "code",
   "execution_count": 128,
   "metadata": {},
   "outputs": [
    {
     "name": "stdout",
     "output_type": "stream",
     "text": [
      "optimal x =  [0.2, 0.1, 0.0, 0.15]\n",
      "optimal lh value -1.0389690351046932\n"
     ]
    }
   ],
   "source": [
    "strength = 1\n",
    "\n",
    "neg_log_prior = make_prior(model, strength)\n",
    "\n",
    "neg_log_posterior = pypesto.objective.AggregatedObjective([neg_log_likelihood, neg_log_prior])\n",
    "\n",
    "print('optimal x = ', petab_problem2.x_nominal)\n",
    "print('optimal lh value', neg_log_posterior(petab_problem2.x_nominal))"
   ]
  },
  {
   "cell_type": "code",
   "execution_count": 153,
   "metadata": {},
   "outputs": [],
   "source": [
    "problem3 = importer.create_problem(neg_log_posterior)"
   ]
  },
  {
   "cell_type": "code",
   "execution_count": 156,
   "metadata": {},
   "outputs": [
    {
     "data": {
      "text/plain": [
       "1995.026015307652"
      ]
     },
     "execution_count": 156,
     "metadata": {},
     "output_type": "execute_result"
    }
   ],
   "source": [
    "problem3.objective([0.1]*3)"
   ]
  },
  {
   "cell_type": "code",
   "execution_count": 157,
   "metadata": {},
   "outputs": [
    {
     "name": "stderr",
     "output_type": "stream",
     "text": [
      " 43%|████▎     | 43/100 [04:20<03:52,  4.07s/it][Warning] AMICI:CVODES:CVode:TOO_MUCH_WORK: AMICI ERROR: in module CVODES in function CVode : At t = 59.2548, mxstep steps taken before reaching tout. \n",
      "[Warning] AMICI:simulation: AMICI forward simulation failed at t = 59.254778:\n",
      "AMICI failed to integrate the forward problem\n",
      "\n",
      "[Warning] AMICI:CVODES:CVode:TOO_MUCH_WORK: AMICI ERROR: in module CVODES in function CVode : At t = 59.2548, mxstep steps taken before reaching tout. \n",
      "[Warning] AMICI:simulation: AMICI forward simulation failed at t = 59.254778:\n",
      "AMICI failed to integrate the forward problem\n",
      "\n",
      " 54%|█████▍    | 54/100 [05:25<05:16,  6.88s/it][Warning] AMICI:CVODES:CVode:TOO_MUCH_WORK: AMICI ERROR: in module CVODES in function CVode : At t = 45.0345, mxstep steps taken before reaching tout. \n",
      "[Warning] AMICI:simulation: AMICI forward simulation failed at t = 45.034543:\n",
      "AMICI failed to integrate the forward problem\n",
      "\n",
      "[Warning] AMICI:CVODES:CVode:TOO_MUCH_WORK: AMICI ERROR: in module CVODES in function CVode : At t = 45.0345, mxstep steps taken before reaching tout. \n",
      "[Warning] AMICI:simulation: AMICI forward simulation failed at t = 45.034543:\n",
      "AMICI failed to integrate the forward problem\n",
      "\n",
      " 71%|███████   | 71/100 [07:00<02:38,  5.45s/it][Warning] AMICI:CVODES:CVode:TOO_MUCH_WORK: AMICI ERROR: in module CVODES in function CVode : At t = 40.2577, mxstep steps taken before reaching tout. \n",
      "[Warning] AMICI:simulation: AMICI forward simulation failed at t = 40.257737:\n",
      "AMICI failed to integrate the forward problem\n",
      "\n",
      " 94%|█████████▍| 94/100 [09:03<00:37,  6.20s/it][Warning] AMICI:CVODES:CVode:TOO_MUCH_WORK: AMICI ERROR: in module CVODES in function CVode : At t = 15.4885, mxstep steps taken before reaching tout. \n",
      "[Warning] AMICI:simulation: AMICI forward simulation failed at t = 15.488456:\n",
      "AMICI failed to integrate the forward problem\n",
      "\n",
      "100%|██████████| 100/100 [09:19<00:00,  5.59s/it]\n"
     ]
    }
   ],
   "source": [
    "lb = np.array(petab_problem2.parameter_df['lowerBound'][0:3])\n",
    "ub = np.array(petab_problem2.parameter_df['upperBound'][0:3])\n",
    "\n",
    "# create optimizer object\n",
    "optimizer = optimize.ScipyOptimizer()\n",
    "\n",
    "# create problem object\n",
    "problem2 = pypesto.Problem(objective=neg_log_posterior, lb=lb, ub=ub)\n",
    "\n",
    "# do the optimization\n",
    "n_starts = 100\n",
    "\n",
    "result3 = optimize.minimize(problem=problem3, optimizer=optimizer, n_starts=n_starts, filename=None)"
   ]
  },
  {
   "cell_type": "code",
   "execution_count": 160,
   "metadata": {},
   "outputs": [
    {
     "name": "stdout",
     "output_type": "stream",
     "text": [
      "result <pypesto.objective.amici.AmiciObjective object at 0x7f257677f4f0> = <pypesto.result.result.Result object at 0x7f259ae137f0>\n",
      "best result =  [0.25322131 0.07136649 0.00151638 0.15      ]\n",
      "best parameter:  [0.25322131 0.07136649 0.00151638 0.15      ]\n",
      "best likelihood value:  0.10960767962968099\n"
     ]
    }
   ],
   "source": [
    "print('result', obj, '=', result3)\n",
    "print('best result = ', result3.optimize_result.as_list('x')[0]['x'])\n",
    "\n",
    "# print results\n",
    "best_result3=result3.optimize_result.as_list(\"x\")[0][\"x\"]\n",
    "print('best parameter: ', best_result3)\n",
    "print('best likelihood value: ', problem3.objective(best_result3[0:3]))"
   ]
  },
  {
   "cell_type": "code",
   "execution_count": 135,
   "metadata": {},
   "outputs": [
    {
     "name": "stdout",
     "output_type": "stream",
     "text": [
      "[0, 1, 2, 3]\n"
     ]
    }
   ],
   "source": [
    "print(problem2.x_free_indices)"
   ]
  },
  {
   "cell_type": "code",
   "execution_count": null,
   "metadata": {},
   "outputs": [
    {
     "data": {
      "text/plain": [
       "<AxesSubplot:title={'center':'Waterfall plot'}, xlabel='Ordered optimizer run', ylabel='Function value'>"
      ]
     },
     "execution_count": 47,
     "metadata": {},
     "output_type": "execute_result"
    },
    {
     "data": {
      "image/png": "[encoded data removed]",
      "text/plain": [
       "<Figure size 1332x756 with 1 Axes>"
      ]
     },
     "metadata": {
      "needs_background": "light"
     },
     "output_type": "display_data"
    }
   ],
   "source": [
    "# waterfall plot\n",
    "fvals = result2.optimize_result.get_for_key(\"fval\")\n",
    "fval = np.array(fvals)\n",
    "fval=fval[fval < 1e2]\n",
    "visualize.waterfall_lowlevel(fval, scale_y='lin')"
   ]
  },
  {
   "cell_type": "code",
   "execution_count": 113,
   "metadata": {},
   "outputs": [
    {
     "data": {
      "text/plain": [
       "pypesto.objective.aggregated.AggregatedObjective"
      ]
     },
     "execution_count": 113,
     "metadata": {},
     "output_type": "execute_result"
    }
   ],
   "source": [
    "type(problem.objective)"
   ]
  },
  {
   "cell_type": "code",
   "execution_count": 111,
   "metadata": {},
   "outputs": [
    {
     "data": {
      "text/plain": [
       "pypesto.objective.aggregated.AggregatedObjective"
      ]
     },
     "execution_count": 111,
     "metadata": {},
     "output_type": "execute_result"
    }
   ],
   "source": [
    "type(neg_log_posterior)"
   ]
  },
  {
   "cell_type": "code",
   "execution_count": 114,
   "metadata": {},
   "outputs": [],
   "source": [
    "o0 = problem.objective\n",
    "o1 = neg_log_posterior\n"
   ]
  },
  {
   "cell_type": "code",
   "execution_count": 115,
   "metadata": {},
   "outputs": [
    {
     "data": {
      "text/plain": [
       "['__abstractmethods__',\n",
       " '__call__',\n",
       " '__class__',\n",
       " '__deepcopy__',\n",
       " '__delattr__',\n",
       " '__dict__',\n",
       " '__dir__',\n",
       " '__doc__',\n",
       " '__eq__',\n",
       " '__format__',\n",
       " '__ge__',\n",
       " '__getattribute__',\n",
       " '__gt__',\n",
       " '__hash__',\n",
       " '__init__',\n",
       " '__init_subclass__',\n",
       " '__le__',\n",
       " '__lt__',\n",
       " '__module__',\n",
       " '__ne__',\n",
       " '__new__',\n",
       " '__reduce__',\n",
       " '__reduce_ex__',\n",
       " '__repr__',\n",
       " '__setattr__',\n",
       " '__sizeof__',\n",
       " '__slots__',\n",
       " '__str__',\n",
       " '__subclasshook__',\n",
       " '__weakref__',\n",
       " '_abc_impl',\n",
       " '_objectives',\n",
       " '_x_names',\n",
       " 'call_unprocessed',\n",
       " 'check_grad',\n",
       " 'check_grad_multi_eps',\n",
       " 'check_gradients_match_finite_differences',\n",
       " 'check_mode',\n",
       " 'check_sensi_orders',\n",
       " 'get_config',\n",
       " 'get_fval',\n",
       " 'get_grad',\n",
       " 'get_hess',\n",
       " 'get_res',\n",
       " 'get_sres',\n",
       " 'has_fun',\n",
       " 'has_grad',\n",
       " 'has_hess',\n",
       " 'has_hessp',\n",
       " 'has_res',\n",
       " 'has_sres',\n",
       " 'history',\n",
       " 'initialize',\n",
       " 'output_to_tuple',\n",
       " 'pre_post_processor',\n",
       " 'update_from_problem',\n",
       " 'x_names']"
      ]
     },
     "execution_count": 115,
     "metadata": {},
     "output_type": "execute_result"
    }
   ],
   "source": [
    "dir(o0)"
   ]
  },
  {
   "cell_type": "code",
   "execution_count": 117,
   "metadata": {},
   "outputs": [],
   "source": [
    "p0 = o0._objectives[1]"
   ]
  },
  {
   "cell_type": "code",
   "execution_count": 118,
   "metadata": {},
   "outputs": [],
   "source": [
    "p1 = o1._objectives[1]"
   ]
  },
  {
   "cell_type": "code",
   "execution_count": 121,
   "metadata": {},
   "outputs": [
    {
     "data": {
      "text/plain": [
       "['__abstractmethods__',\n",
       " '__call__',\n",
       " '__class__',\n",
       " '__deepcopy__',\n",
       " '__delattr__',\n",
       " '__dict__',\n",
       " '__dir__',\n",
       " '__doc__',\n",
       " '__eq__',\n",
       " '__format__',\n",
       " '__ge__',\n",
       " '__getattribute__',\n",
       " '__gt__',\n",
       " '__hash__',\n",
       " '__init__',\n",
       " '__init_subclass__',\n",
       " '__le__',\n",
       " '__lt__',\n",
       " '__module__',\n",
       " '__ne__',\n",
       " '__new__',\n",
       " '__reduce__',\n",
       " '__reduce_ex__',\n",
       " '__repr__',\n",
       " '__setattr__',\n",
       " '__sizeof__',\n",
       " '__slots__',\n",
       " '__str__',\n",
       " '__subclasshook__',\n",
       " '__weakref__',\n",
       " '_abc_impl',\n",
       " '_x_names',\n",
       " 'call_unprocessed',\n",
       " 'check_grad',\n",
       " 'check_grad_multi_eps',\n",
       " 'check_gradients_match_finite_differences',\n",
       " 'check_mode',\n",
       " 'check_sensi_orders',\n",
       " 'get_config',\n",
       " 'get_fval',\n",
       " 'get_grad',\n",
       " 'get_hess',\n",
       " 'get_res',\n",
       " 'get_sres',\n",
       " 'gradient_neg_log_density',\n",
       " 'has_fun',\n",
       " 'has_grad',\n",
       " 'has_hess',\n",
       " 'has_hessp',\n",
       " 'has_res',\n",
       " 'has_sres',\n",
       " 'hessian_neg_log_density',\n",
       " 'hessian_vp_neg_log_density',\n",
       " 'history',\n",
       " 'initialize',\n",
       " 'neg_log_density',\n",
       " 'output_to_tuple',\n",
       " 'pre_post_processor',\n",
       " 'prior_list',\n",
       " 'residual',\n",
       " 'residual_jacobian',\n",
       " 'update_from_problem',\n",
       " 'x_names']"
      ]
     },
     "execution_count": 121,
     "metadata": {},
     "output_type": "execute_result"
    }
   ],
   "source": [
    "dir(p0)"
   ]
  },
  {
   "cell_type": "code",
   "execution_count": 122,
   "metadata": {},
   "outputs": [
    {
     "data": {
      "text/plain": [
       "[{'index': 0,\n",
       "  'density_fun': <function pypesto.objective.priors._prior_densities.<locals>.log_f(x)>,\n",
       "  'density_dx': <function pypesto.objective.priors._prior_densities.<locals>.d_log_f_dx(x)>,\n",
       "  'density_ddx': <function pypesto.objective.priors._get_constant_function.<locals>.function(x)>,\n",
       "  'residual': <function pypesto.objective.priors._prior_densities.<locals>.res(x)>,\n",
       "  'residual_dx': <function pypesto.objective.priors._prior_densities.<locals>.d_res_dx(x)>},\n",
       " {'index': 1,\n",
       "  'density_fun': <function pypesto.objective.priors._prior_densities.<locals>.log_f(x)>,\n",
       "  'density_dx': <function pypesto.objective.priors._prior_densities.<locals>.d_log_f_dx(x)>,\n",
       "  'density_ddx': <function pypesto.objective.priors._get_constant_function.<locals>.function(x)>,\n",
       "  'residual': <function pypesto.objective.priors._prior_densities.<locals>.res(x)>,\n",
       "  'residual_dx': <function pypesto.objective.priors._prior_densities.<locals>.d_res_dx(x)>},\n",
       " {'index': 2,\n",
       "  'density_fun': <function pypesto.objective.priors._prior_densities.<locals>.log_f(x)>,\n",
       "  'density_dx': <function pypesto.objective.priors._prior_densities.<locals>.d_log_f_dx(x)>,\n",
       "  'density_ddx': <function pypesto.objective.priors._get_constant_function.<locals>.function(x)>,\n",
       "  'residual': <function pypesto.objective.priors._prior_densities.<locals>.res(x)>,\n",
       "  'residual_dx': <function pypesto.objective.priors._prior_densities.<locals>.d_res_dx(x)>}]"
      ]
     },
     "execution_count": 122,
     "metadata": {},
     "output_type": "execute_result"
    }
   ],
   "source": [
    "p0.prior_list"
   ]
  },
  {
   "cell_type": "code",
   "execution_count": 123,
   "metadata": {},
   "outputs": [
    {
     "data": {
      "text/plain": [
       "[{'index': 0,\n",
       "  'density_fun': <function pypesto.objective.priors._prior_densities.<locals>.log_f(x)>,\n",
       "  'density_dx': <function pypesto.objective.priors._prior_densities.<locals>.d_log_f_dx(x)>,\n",
       "  'density_ddx': <function pypesto.objective.priors._get_constant_function.<locals>.function(x)>,\n",
       "  'residual': <function pypesto.objective.priors._prior_densities.<locals>.res(x)>,\n",
       "  'residual_dx': <function pypesto.objective.priors._prior_densities.<locals>.d_res_dx(x)>},\n",
       " {'index': 1,\n",
       "  'density_fun': <function pypesto.objective.priors._prior_densities.<locals>.log_f(x)>,\n",
       "  'density_dx': <function pypesto.objective.priors._prior_densities.<locals>.d_log_f_dx(x)>,\n",
       "  'density_ddx': <function pypesto.objective.priors._get_constant_function.<locals>.function(x)>,\n",
       "  'residual': <function pypesto.objective.priors._prior_densities.<locals>.res(x)>,\n",
       "  'residual_dx': <function pypesto.objective.priors._prior_densities.<locals>.d_res_dx(x)>},\n",
       " {'index': 2,\n",
       "  'density_fun': <function pypesto.objective.priors._prior_densities.<locals>.log_f(x)>,\n",
       "  'density_dx': <function pypesto.objective.priors._prior_densities.<locals>.d_log_f_dx(x)>,\n",
       "  'density_ddx': <function pypesto.objective.priors._get_constant_function.<locals>.function(x)>,\n",
       "  'residual': <function pypesto.objective.priors._prior_densities.<locals>.res(x)>,\n",
       "  'residual_dx': <function pypesto.objective.priors._prior_densities.<locals>.d_res_dx(x)>},\n",
       " {'index': 3,\n",
       "  'density_fun': <function pypesto.objective.priors._prior_densities.<locals>.log_f(x)>,\n",
       "  'density_dx': <function pypesto.objective.priors._prior_densities.<locals>.d_log_f_dx(x)>,\n",
       "  'density_ddx': <function pypesto.objective.priors._get_constant_function.<locals>.function(x)>,\n",
       "  'residual': <function pypesto.objective.priors._prior_densities.<locals>.res(x)>,\n",
       "  'residual_dx': <function pypesto.objective.priors._prior_densities.<locals>.d_res_dx(x)>}]"
      ]
     },
     "execution_count": 123,
     "metadata": {},
     "output_type": "execute_result"
    }
   ],
   "source": [
    "p1.prior_list"
   ]
  },
  {
   "cell_type": "code",
   "execution_count": null,
   "metadata": {},
   "outputs": [],
   "source": []
  }
 ],
 "metadata": {
  "interpreter": {
   "hash": "916dbcbb3f70747c44a77c7bcd40155683ae19c65e1c03b4aa3499c5328201f1"
  },
  "kernelspec": {
   "display_name": "Python 3.8.10 64-bit",
   "language": "python",
   "name": "python3"
  },
  "language_info": {
   "codemirror_mode": {
    "name": "ipython",
    "version": 3
   },
   "file_extension": ".py",
   "mimetype": "text/x-python",
   "name": "python",
   "nbconvert_exporter": "python",
   "pygments_lexer": "ipython3",
   "version": "3.8.10"
  },
  "orig_nbformat": 4
 },
 "nbformat": 4,
 "nbformat_minor": 2
}
