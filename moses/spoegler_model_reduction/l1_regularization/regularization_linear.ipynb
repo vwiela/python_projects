{
 "cells": [
  {
   "cell_type": "markdown",
   "metadata": {},
   "source": [
    "## L1 regularization on linear scale"
   ]
  },
  {
   "cell_type": "markdown",
   "metadata": {},
   "source": [
    "For the linear scale it should be enough to just specify the priors in the parameters table of the petab problem. For the `log10` scale this should also suffice, but we need to think whether we want to have priors on the linear scale or on the original parameter scale (`log10`).\n",
    "\n",
    "For the `log10_shift` and the `logicle` scale this is a little bit more involved, since we cannot specify those scales in the parameters table."
   ]
  },
  {
   "cell_type": "code",
   "execution_count": 1,
   "metadata": {},
   "outputs": [],
   "source": [
    "import libsbml\n",
    "import importlib\n",
    "import os\n",
    "import sys\n",
    "import shutil\n",
    "import pandas as pd\n",
    "\n",
    "\n",
    "\n",
    "import amici\n",
    "import matplotlib.pyplot as plt\n",
    "import numpy as np \n",
    "import petab \n",
    "from petab.C import *\n",
    "\n",
    "import pypesto\n",
    "import pypesto.optimize as optimize\n",
    "import pypesto.petab\n",
    "import pypesto.visualize as visualize\n",
    "import pypesto.objective"
   ]
  },
  {
   "cell_type": "code",
   "execution_count": 3,
   "metadata": {},
   "outputs": [],
   "source": [
    "# create parameter table with priors\n",
    "\n",
    "param_scale = 'lin'\n",
    "\n",
    "parameter_df = pd.DataFrame(\n",
    "    data={\n",
    "        PARAMETER_ID: ['k1', 'k2', 'k3', 'sd_observed_B'],\n",
    "        PARAMETER_SCALE: [param_scale] * 4,\n",
    "        LOWER_BOUND: [0] * 4,\n",
    "        UPPER_BOUND: [1000] * 4,\n",
    "        NOMINAL_VALUE: [0.2, 0.1, 0.0, 0.15],\n",
    "        ESTIMATE: [1, 1, 1, 0],\n",
    "        'initializationPriorType': ['laplace', 'laplace', 'laplace', None],\n",
    "        'initializationPriorParameters': ['0; 1', '0; 1', '0; 1', None],\n",
    "        'objectivePriorType': ['laplace', 'laplace', 'laplace', None],\n",
    "        'objectivePriorParameters': ['0; 1', '0; 1', '0; 1', None]\n",
    "\n",
    "    }\n",
    ").set_index(PARAMETER_ID)\n",
    "\n",
    "petab.write_parameter_df(parameter_df, \"petab/\"+param_scale+\"/parameters.tsv\")"
   ]
  },
  {
   "cell_type": "markdown",
   "metadata": {},
   "source": [
    "Maybe modifications by hand are needed afterwards to get the `PriorParameters` of the form `location;scale`."
   ]
  },
  {
   "cell_type": "code",
   "execution_count": null,
   "metadata": {},
   "outputs": [],
   "source": [
    "model_name= \"Spoegler_conversionReaction\"\n",
    "\n",
    "\n",
    "# the yaml file includes all important links to other files\n",
    "yaml_config =\"petab/\"+param_scale+\"/\"+model_name+\".yaml\"\n",
    "# create a petab problem\n",
    "petab_problem = petab.Problem.from_yaml(yaml_config)\n",
    "\n",
    "# or create from folder (did not work)\n",
    "# petab_problem = petab.Problem.from_folder(\"petab/\"+param_scale)\n",
    "\n",
    "# import to amici\n",
    "importer = pypesto.petab.PetabImporter(petab_problem)\n",
    "importer.compile_model()\n",
    "\n",
    "model = importer.create_model()"
   ]
  },
  {
   "cell_type": "code",
   "execution_count": 5,
   "metadata": {},
   "outputs": [],
   "source": [
    "# initialize solver and options\n",
    "solver = importer.create_solver(model)\n",
    "\n",
    "# enable sensitivities\n",
    "solver.setSensitivityOrder(amici.SensitivityOrder_first)       \n",
    "solver.setSensitivityMethod(amici.SensitivityMethod_forward)  \n",
    "model.requireSensitivitiesForAllParameters()     "
   ]
  },
  {
   "cell_type": "code",
   "execution_count": 6,
   "metadata": {},
   "outputs": [
    {
     "name": "stderr",
     "output_type": "stream",
     "text": [
      "Using existing amici model in folder /home/vinc777/python_projects/moses/spoegler_model_reduction/l1_regularization/amici_models/Sp_gler_ConversionReaction.\n"
     ]
    }
   ],
   "source": [
    "# objective function\n",
    "obj = importer.create_objective()"
   ]
  },
  {
   "cell_type": "code",
   "execution_count": 42,
   "metadata": {},
   "outputs": [
    {
     "name": "stdout",
     "output_type": "stream",
     "text": [
      "optimal x =  [0.2, 0.1, 0.0, 0.15]\n",
      "optimal lh value -3.418410576784529\n"
     ]
    }
   ],
   "source": [
    "print('optimal x = ', petab_problem.x_nominal)\n",
    "print('optimal lh value', obj(petab_problem.x_nominal[0:3]))"
   ]
  },
  {
   "cell_type": "code",
   "execution_count": 9,
   "metadata": {},
   "outputs": [
    {
     "name": "stderr",
     "output_type": "stream",
     "text": [
      "  7%|▋         | 7/100 [00:09<02:01,  1.31s/it][Warning] AMICI:CVODES:CVode:TOO_MUCH_WORK: AMICI ERROR: in module CVODES in function CVode : At t = 37.2362, mxstep steps taken before reaching tout. \n",
      "[Warning] AMICI:simulation: AMICI forward simulation failed at t = 37.236188:\n",
      "AMICI failed to integrate the forward problem\n",
      "\n",
      "[Warning] AMICI:CVODES:CVode:TOO_MUCH_WORK: AMICI ERROR: in module CVODES in function CVode : At t = 37.2362, mxstep steps taken before reaching tout. \n",
      "[Warning] AMICI:simulation: AMICI forward simulation failed at t = 37.236188:\n",
      "AMICI failed to integrate the forward problem\n",
      "\n",
      " 31%|███       | 31/100 [00:36<01:30,  1.31s/it][Warning] AMICI:CVODES:CVode:TOO_MUCH_WORK: AMICI ERROR: in module CVODES in function CVode : At t = 45.2671, mxstep steps taken before reaching tout. \n",
      "[Warning] AMICI:simulation: AMICI forward simulation failed at t = 45.267120:\n",
      "AMICI failed to integrate the forward problem\n",
      "\n",
      "[Warning] AMICI:CVODES:CVode:TOO_MUCH_WORK: AMICI ERROR: in module CVODES in function CVode : At t = 45.2671, mxstep steps taken before reaching tout. \n",
      "[Warning] AMICI:simulation: AMICI forward simulation failed at t = 45.267120:\n",
      "AMICI failed to integrate the forward problem\n",
      "\n",
      " 51%|█████     | 51/100 [01:01<01:05,  1.33s/it][Warning] AMICI:CVODES:CVode:TOO_MUCH_WORK: AMICI ERROR: in module CVODES in function CVode : At t = 41.927, mxstep steps taken before reaching tout. \n",
      "[Warning] AMICI:simulation: AMICI forward simulation failed at t = 41.927034:\n",
      "AMICI failed to integrate the forward problem\n",
      "\n",
      "[Warning] AMICI:CVODES:CVode:TOO_MUCH_WORK: AMICI ERROR: in module CVODES in function CVode : At t = 41.927, mxstep steps taken before reaching tout. \n",
      "[Warning] AMICI:simulation: AMICI forward simulation failed at t = 41.927034:\n",
      "AMICI failed to integrate the forward problem\n",
      "\n",
      " 55%|█████▌    | 55/100 [01:06<01:00,  1.35s/it][Warning] AMICI:CVODES:CVode:TOO_MUCH_WORK: AMICI ERROR: in module CVODES in function CVode : At t = 37.6074, mxstep steps taken before reaching tout. \n",
      "[Warning] AMICI:simulation: AMICI forward simulation failed at t = 37.607439:\n",
      "AMICI failed to integrate the forward problem\n",
      "\n",
      "[Warning] AMICI:CVODES:CVode:TOO_MUCH_WORK: AMICI ERROR: in module CVODES in function CVode : At t = 37.6074, mxstep steps taken before reaching tout. \n",
      "[Warning] AMICI:simulation: AMICI forward simulation failed at t = 37.607439:\n",
      "AMICI failed to integrate the forward problem\n",
      "\n",
      " 68%|██████▊   | 68/100 [01:25<00:49,  1.53s/it][Warning] AMICI:CVODES:CVode:TOO_MUCH_WORK: AMICI ERROR: in module CVODES in function CVode : At t = 47.9432, mxstep steps taken before reaching tout. \n",
      "[Warning] AMICI:simulation: AMICI forward simulation failed at t = 47.943245:\n",
      "AMICI failed to integrate the forward problem\n",
      "\n",
      " 72%|███████▏  | 72/100 [01:30<00:40,  1.46s/it][Warning] AMICI:CVODES:CVode:TOO_MUCH_WORK: AMICI ERROR: in module CVODES in function CVode : At t = 27.2144, mxstep steps taken before reaching tout. \n",
      "[Warning] AMICI:simulation: AMICI forward simulation failed at t = 27.214417:\n",
      "AMICI failed to integrate the forward problem\n",
      "\n",
      " 78%|███████▊  | 78/100 [01:38<00:31,  1.44s/it][Warning] AMICI:CVODES:CVode:TOO_MUCH_WORK: AMICI ERROR: in module CVODES in function CVode : At t = 53.7397, mxstep steps taken before reaching tout. \n",
      "[Warning] AMICI:simulation: AMICI forward simulation failed at t = 53.739653:\n",
      "AMICI failed to integrate the forward problem\n",
      "\n",
      "[Warning] AMICI:CVODES:CVode:TOO_MUCH_WORK: AMICI ERROR: in module CVODES in function CVode : At t = 55.3959, mxstep steps taken before reaching tout. \n",
      "[Warning] AMICI:simulation: AMICI forward simulation failed at t = 55.395937:\n",
      "AMICI failed to integrate the forward problem\n",
      "\n",
      "[Warning] AMICI:CVODES:CVode:TOO_MUCH_WORK: AMICI ERROR: in module CVODES in function CVode : At t = 55.3959, mxstep steps taken before reaching tout. \n",
      "[Warning] AMICI:simulation: AMICI forward simulation failed at t = 55.395937:\n",
      "AMICI failed to integrate the forward problem\n",
      "\n",
      " 96%|█████████▌| 96/100 [01:59<00:03,  1.02it/s][Warning] AMICI:CVODES:CVode:TOO_MUCH_WORK: AMICI ERROR: in module CVODES in function CVode : At t = 40.4705, mxstep steps taken before reaching tout. \n",
      "[Warning] AMICI:simulation: AMICI forward simulation failed at t = 40.470514:\n",
      "AMICI failed to integrate the forward problem\n",
      "\n",
      "100%|██████████| 100/100 [02:04<00:00,  1.24s/it]\n"
     ]
    }
   ],
   "source": [
    "# create optimizer object\n",
    "optimizer = optimize.ScipyOptimizer()\n",
    "\n",
    "# create problem object\n",
    "problem = importer.create_problem(obj)\n",
    "\n",
    "# do the optimization\n",
    "n_starts = 100\n",
    "\n",
    "result = optimize.minimize(problem=problem, optimizer=optimizer, n_starts=n_starts, filename=None)"
   ]
  },
  {
   "cell_type": "code",
   "execution_count": 12,
   "metadata": {},
   "outputs": [
    {
     "name": "stdout",
     "output_type": "stream",
     "text": [
      "best parameter:  [0.26581879 0.06621133 0.00162104 0.15      ]\n",
      "best likelihood value:  -2.2992910974502045\n"
     ]
    }
   ],
   "source": [
    "# print results\n",
    "best_result=result.optimize_result.as_list(\"x\")[0][\"x\"]\n",
    "print('best parameter: ', best_result)\n",
    "print('best likelihood value: ', problem.objective(best_result[0:3]))"
   ]
  },
  {
   "cell_type": "code",
   "execution_count": 15,
   "metadata": {},
   "outputs": [
    {
     "data": {
      "text/plain": [
       "<AxesSubplot:title={'center':'Waterfall plot'}, xlabel='Ordered optimizer run', ylabel='Function value'>"
      ]
     },
     "execution_count": 15,
     "metadata": {},
     "output_type": "execute_result"
    },
    {
     "data": {
      "image/png": "[encoded data removed]",
      "text/plain": [
       "<Figure size 1332x756 with 1 Axes>"
      ]
     },
     "metadata": {
      "needs_background": "light"
     },
     "output_type": "display_data"
    }
   ],
   "source": [
    "# waterfall plot\n",
    "fvals = result.optimize_result.get_for_key(\"fval\")\n",
    "fval = np.array(fvals)\n",
    "fval=fval[fval < 1e2]\n",
    "visualize.waterfall_lowlevel(fval, scale_y='lin')"
   ]
  },
  {
   "cell_type": "markdown",
   "metadata": {},
   "source": [
    "THis approach with specifying the prior using the parameter table is not realy feasible if we want to compute a regularization path for different values of the prior parameters, so for different regularization strengths. Because we would need a new parameter table every time. \n",
    "A better approach can be to get the normal objecitve function, which is the log-likelihood (negative?) and then add the regularization term, which was computed manually, by the `AggregatedObjective` function from pypesto."
   ]
  },
  {
   "cell_type": "markdown",
   "metadata": {},
   "source": [
    "Or another approach could be to create a prior dictionary using pypesto `get_parameter_prior_dict` and then `objective.NegLogParameterPriors`. --> This is the same I guess"
   ]
  },
  {
   "cell_type": "code",
   "execution_count": 94,
   "metadata": {},
   "outputs": [],
   "source": [
    "def make_prior(petab_problem, strength, scale='lin'): \n",
    "  prior_list = []\n",
    "\n",
    "  for i in range(len(petab_problem.get_model_parameters())):\n",
    "    priorType = 'laplace'\n",
    "    priorParameters = [0, 1/strength]\n",
    "    priorScale = scale\n",
    "    prior = pypesto.objective.get_parameter_prior_dict(i, priorType, priorParameters, priorScale)\n",
    "    prior_list.append(prior)\n",
    "\n",
    "  return pypesto.objective.NegLogParameterPriors(prior_list)"
   ]
  },
  {
   "cell_type": "code",
   "execution_count": 95,
   "metadata": {},
   "outputs": [
    {
     "name": "stderr",
     "output_type": "stream",
     "text": [
      "Using existing amici model in folder /home/vinc777/python_projects/moses/spoegler_model_reduction/l1_regularization/amici_models/Sp_gler_ConversionReaction.\n"
     ]
    }
   ],
   "source": [
    "model_name= \"Spoegler_conversionReaction\"\n",
    "param_scale= 'lin'\n",
    "\n",
    "# the yaml file includes all important links to other files\n",
    "yaml_config =\"petab/\"+'lin2'+\"/\"+model_name+\".yaml\"\n",
    "# create a petab problem\n",
    "petab_problem2 = petab.Problem.from_yaml(yaml_config)\n",
    "\n",
    "\n",
    "# import to amici\n",
    "importer2 = pypesto.petab.PetabImporter(petab_problem2)\n",
    "#importer.compile_model()\n",
    "\n",
    "model2 = importer2.create_model()"
   ]
  },
  {
   "cell_type": "code",
   "execution_count": 92,
   "metadata": {},
   "outputs": [
    {
     "data": {
      "text/plain": [
       "3"
      ]
     },
     "execution_count": 92,
     "metadata": {},
     "output_type": "execute_result"
    }
   ],
   "source": [
    "len(petab_problem2.get_model_parameters())"
   ]
  },
  {
   "cell_type": "code",
   "execution_count": 96,
   "metadata": {},
   "outputs": [],
   "source": [
    "# initialize solver and options\n",
    "solver = importer.create_solver(model2)\n",
    "\n",
    "# enable sensitivities\n",
    "solver.setSensitivityOrder(amici.SensitivityOrder_first)       \n",
    "solver.setSensitivityMethod(amici.SensitivityMethod_forward)  \n",
    "model2.requireSensitivitiesForAllParameters()  "
   ]
  },
  {
   "cell_type": "code",
   "execution_count": 97,
   "metadata": {},
   "outputs": [
    {
     "name": "stderr",
     "output_type": "stream",
     "text": [
      "Using existing amici model in folder /home/vinc777/python_projects/moses/spoegler_model_reduction/l1_regularization/amici_models/Sp_gler_ConversionReaction.\n"
     ]
    }
   ],
   "source": [
    "# objective function\n",
    "obj2 = importer.create_objective()\n",
    "\n",
    "neg_log_likelihood = obj2"
   ]
  },
  {
   "cell_type": "code",
   "execution_count": 99,
   "metadata": {},
   "outputs": [
    {
     "name": "stdout",
     "output_type": "stream",
     "text": [
      "optimal x =  [0.2, 0.1, 0.0, 0.15]\n",
      "optimal lh value -1.0389690351046932\n"
     ]
    }
   ],
   "source": [
    "strength = 1\n",
    "\n",
    "neg_log_prior = make_prior(petab_problem2, strength)\n",
    "\n",
    "neg_log_posterior = pypesto.objective.AggregatedObjective([neg_log_likelihood, neg_log_prior])\n",
    "\n",
    "print('optimal x = ', petab_problem2.x_nominal)\n",
    "print('optimal lh value', neg_log_posterior(petab_problem2.x_nominal))"
   ]
  },
  {
   "cell_type": "markdown",
   "metadata": {},
   "source": [
    "This gives the same value as the `problem.objective` from the first appraoch."
   ]
  },
  {
   "cell_type": "markdown",
   "metadata": {},
   "source": [
    "`problem2.objective()' also gives the same value as before and as the neg_log_posterior."
   ]
  },
  {
   "cell_type": "code",
   "execution_count": null,
   "metadata": {},
   "outputs": [],
   "source": [
    "# lb = np.array(petab_problem2.parameter_df['lowerBound'][0:3])\n",
    "# ub = np.array(petab_problem2.parameter_df['upperBound'][0:3])\n",
    "\n",
    "# create optimizer object\n",
    "optimizer = optimize.ScipyOptimizer()\n",
    "\n",
    "# create problem object\n",
    "problem2 = importer2.create_problem(objective=neg_log_posterior)\n",
    "\n",
    "# do the optimization\n",
    "n_starts = 100\n",
    "\n",
    "result2 = optimize.minimize(problem=problem2, optimizer=optimizer, n_starts=n_starts, filename=None)"
   ]
  },
  {
   "cell_type": "markdown",
   "metadata": {},
   "source": [
    "## Question\n",
    "If I just use `pypesto.Problem(obj, lb, ub)` then the optimization fails due to some broadcasting error. (cannot broadcast together shape (4,) and (3,)) But I don't get where this comes from since th eobjective just needs 3 arguments and in the petab file the forth pameter is fixed and should not be estimated.\n",
    "It works with the above and still does what I want but interesting though."
   ]
  },
  {
   "cell_type": "code",
   "execution_count": 72,
   "metadata": {},
   "outputs": [
    {
     "name": "stdout",
     "output_type": "stream",
     "text": [
      "result <pypesto.objective.amici.AmiciObjective object at 0x7f6ad147feb0> = <pypesto.result.result.Result object at 0x7f6ade6a7070>\n",
      "best result =  [0.26581895 0.06621138 0.00162107 0.15      ]\n",
      "best parameter:  [0.26581895 0.06621138 0.00162107 0.15      ]\n",
      "best likelihood value:  -2.299291061952246\n"
     ]
    }
   ],
   "source": [
    "print('result', obj, '=', result2)\n",
    "print('best result = ', result2.optimize_result.as_list('x')[0]['x'])\n",
    "\n",
    "# print results\n",
    "best_result2=result2.optimize_result.as_list(\"x\")[0][\"x\"]\n",
    "print('best parameter: ', best_result2)\n",
    "print('best likelihood value: ', problem2.objective(best_result2[0:3]))"
   ]
  },
  {
   "cell_type": "code",
   "execution_count": 75,
   "metadata": {},
   "outputs": [
    {
     "data": {
      "text/plain": [
       "<AxesSubplot:title={'center':'Waterfall plot'}, xlabel='Ordered optimizer run', ylabel='Function value'>"
      ]
     },
     "execution_count": 75,
     "metadata": {},
     "output_type": "execute_result"
    },
    {
     "data": {
      "image/png": "[encoded data removed]",
      "text/plain": [
       "<Figure size 1332x756 with 1 Axes>"
      ]
     },
     "metadata": {
      "needs_background": "light"
     },
     "output_type": "display_data"
    }
   ],
   "source": [
    "# waterfall plot\n",
    "fvals = result2.optimize_result.get_for_key(\"fval\")\n",
    "fval = np.array(fvals)\n",
    "fval=fval[fval < 1e2]\n",
    "visualize.waterfall_lowlevel(fval, scale_y='lin')"
   ]
  }
 ],
 "metadata": {
  "interpreter": {
   "hash": "916dbcbb3f70747c44a77c7bcd40155683ae19c65e1c03b4aa3499c5328201f1"
  },
  "kernelspec": {
   "display_name": "Python 3.8.10 64-bit",
   "language": "python",
   "name": "python3"
  },
  "language_info": {
   "codemirror_mode": {
    "name": "ipython",
    "version": 3
   },
   "file_extension": ".py",
   "mimetype": "text/x-python",
   "name": "python",
   "nbconvert_exporter": "python",
   "pygments_lexer": "ipython3",
   "version": "3.8.10"
  },
  "orig_nbformat": 4
 },
 "nbformat": 4,
 "nbformat_minor": 2
}
