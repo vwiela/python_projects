{
 "cells": [
  {
   "cell_type": "markdown",
   "metadata": {},
   "source": [
    "In this notebook we perform l1-regularization with different regularization strengths and compare it.\n",
    "L1-regularization assumes a laplacian prior on the parameter with location $\\mu=0$ and scale $b=1/\\lambda$, where $\\lambda$ is called the penalization strenght. objective function takes then the form\n",
    "$$\n",
    "J_{l_1}(\\theta, \\lambda)=-\\log(\\mathcal{p}(\\mathcal{D}|\\theta))+\\lambda\\sum_{i=1}^{n_{\\theta}}|\\theta_i|,\n",
    "$$\n",
    "where the first part is the negative log-likelihood (the normal objective function) and the second part the penality term. \n",
    "We perform the regularization in a way that we use the optimal parameters from the optimization of the regularized objective function with strength $\\lambda_{k-1}$ as starting points for the optimzation with strength $\\lambda_k$."
   ]
  },
  {
   "cell_type": "code",
   "execution_count": 1,
   "metadata": {},
   "outputs": [],
   "source": [
    "import numpy as np\n",
    "import matplotlib.pyplot as plt\n",
    "import pandas as pd\n",
    "import petab\n",
    "import pypesto\n",
    "import pypesto.petab\n",
    "\n",
    "import l1_regularization\n",
    "import l1_regularization_visualization\n"
   ]
  },
  {
   "cell_type": "code",
   "execution_count": null,
   "metadata": {},
   "outputs": [],
   "source": [
    "model_name= \"Spoegler_conversionReaction\"\n",
    "param_scale= \"lin\"\n",
    "n_sigma = 1\n",
    "\n",
    "\n",
    "# the yaml file includes all important links to other files\n",
    "yaml_config =\"petab/\"+param_scale+\"/\"+model_name+\".yaml\"\n",
    "# create a petab problem\n",
    "petab_problem = petab.Problem.from_yaml(yaml_config)\n",
    "\n",
    "# or create from folder (did not work)\n",
    "# petab_problem = petab.Problem.from_folder(\"petab/\"+param_scale)\n",
    "\n",
    "# import to amici\n",
    "importer = pypesto.petab.PetabImporter(petab_problem)\n",
    "importer.compile_model()\n",
    "\n",
    "model = importer.create_model()\n",
    "\n",
    "lin_objective = importer.create_objective()"
   ]
  },
  {
   "cell_type": "code",
   "execution_count": 3,
   "metadata": {},
   "outputs": [],
   "source": [
    "# initialize l1-regularization\n",
    "\n",
    "lambda_range = [0,100]\n",
    "n_lambda = 100\n",
    "\n",
    "regularization = l1_regularization.l1_regularization(model = model,\n",
    "                                                    petab_problem = petab_problem,\n",
    "                                                    linear_objective = lin_objective,\n",
    "                                                    param_scale = param_scale,\n",
    "                                                    lambda_range = lambda_range,\n",
    "                                                    n_lambda = n_lambda\n",
    "                                                    )"
   ]
  },
  {
   "cell_type": "code",
   "execution_count": null,
   "metadata": {},
   "outputs": [],
   "source": [
    "# perform regularized estimation \n",
    "n_starts = 100 \n",
    "\n",
    "regularized_results = regularization(n_starts) "
   ]
  },
  {
   "cell_type": "code",
   "execution_count": null,
   "metadata": {},
   "outputs": [],
   "source": [
    "reg_path = l1_regularization.compute_regularization_path(result_list = regularized_results,\n",
    "                                       lambda_range = lambda_range,\n",
    "                                       n_lambda = n_lambda, \n",
    "                                       n_sigma = n_sigma)"
   ]
  },
  {
   "cell_type": "code",
   "execution_count": null,
   "metadata": {},
   "outputs": [],
   "source": [
    "lambda_range_log = [np.log10(lambda_range[0]), np.log10(lambda_range[1])]\n",
    "lambdas = -np.linspace(lambda_range_log[0], lambda_range_log[1], n_lambda)\n",
    "\n",
    "par_names = ['$\\\\theta_1$', '$\\\\theta_2$', '$\\\\theta_3$']"
   ]
  },
  {
   "cell_type": "code",
   "execution_count": null,
   "metadata": {},
   "outputs": [],
   "source": [
    "# plot regularization path\n",
    "l1_regularization_visualization.plot_regularization_path(reg_path=reg_path,\n",
    "                                                     lambdas=lambdas,\n",
    "                                                     parameter_names=par_names,\n",
    "                                                     n_sigma=n_sigma)"
   ]
  },
  {
   "cell_type": "code",
   "execution_count": null,
   "metadata": {},
   "outputs": [],
   "source": [
    "# plot bars\n",
    "\n",
    "# define threshold which parameters are set to 0\n",
    "threshold_linear = 1e-8\n",
    "\n",
    "fig = plt.figure()\n",
    "ax = fig.add_subplot(111)\n",
    "\n",
    "l1_regularization_visualization.plot_regularization_bars(reg_path=reg_path,\n",
    "                                                     lambdas=lambdas,\n",
    "                                                     threshold=threshold_linear,\n",
    "                                                     par_names=par_names,\n",
    "                                                     ax=ax,\n",
    "                                                     opt_lambda=None,\n",
    "                                                     v_min=0,\n",
    "                                                     v_max=1,\n",
    "                                                     cb_ticks=None)\n",
    "\n",
    "plt.show()"
   ]
  },
  {
   "cell_type": "code",
   "execution_count": null,
   "metadata": {},
   "outputs": [],
   "source": [
    "# plot number of parameters\n",
    "\n",
    "fig = plt.figure()\n",
    "ax = fig.add_subplot(111)\n",
    "l1_regularization_visualization.plot_number_of_parameters(reg_path=reg_path,\n",
    "                                                      lambdas=lambdas,\n",
    "                                                      threshold=threshold_linear,\n",
    "                                                      ax=ax,\n",
    "                                                      opt_lambda=None)\n",
    "plt.show()"
   ]
  }
 ],
 "metadata": {
  "interpreter": {
   "hash": "916dbcbb3f70747c44a77c7bcd40155683ae19c65e1c03b4aa3499c5328201f1"
  },
  "kernelspec": {
   "display_name": "Python 3.8.10 64-bit",
   "language": "python",
   "name": "python3"
  },
  "language_info": {
   "codemirror_mode": {
    "name": "ipython",
    "version": 3
   },
   "file_extension": ".py",
   "mimetype": "text/x-python",
   "name": "python",
   "nbconvert_exporter": "python",
   "pygments_lexer": "ipython3",
   "version": "3.8.10"
  },
  "orig_nbformat": 4
 },
 "nbformat": 4,
 "nbformat_minor": 2
}
