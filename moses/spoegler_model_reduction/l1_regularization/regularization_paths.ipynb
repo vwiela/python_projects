{
 "cells": [
  {
   "cell_type": "markdown",
   "metadata": {},
   "source": [
    "In this notebook we perform l1-regularization with different regularization strengths and compare it.\n",
    "L1-regularization assumes a laplacian prior on the parameter with location $\\mu=0$ and scale $b=1/\\lambda$, where $\\lambda$ is called the penalization strenght. objective function takes then the form\n",
    "$$\n",
    "J_{l_1}(\\theta, \\lambda)=-\\log(\\mathcal{p}(\\mathcal{D}|\\theta))+\\lambda\\sum_{i=1}^{n_{\\theta}}|\\theta_i|,\n",
    "$$\n",
    "where the first part is the negative log-likelihood (the normal objective function) and the second part the penality term. \n",
    "We perform the regularization in a way that we use the optimal parameters from the optimization of the regularized objective function with strength $\\lambda_{k-1}$ as starting points for the optimzation with strength $\\lambda_k$."
   ]
  },
  {
   "cell_type": "code",
   "execution_count": null,
   "metadata": {},
   "outputs": [],
   "source": []
  }
 ],
 "metadata": {
  "interpreter": {
   "hash": "916dbcbb3f70747c44a77c7bcd40155683ae19c65e1c03b4aa3499c5328201f1"
  },
  "kernelspec": {
   "display_name": "Python 3.8.10 64-bit",
   "language": "python",
   "name": "python3"
  },
  "language_info": {
   "name": "python",
   "version": "3.8.10"
  },
  "orig_nbformat": 4
 },
 "nbformat": 4,
 "nbformat_minor": 2
}
