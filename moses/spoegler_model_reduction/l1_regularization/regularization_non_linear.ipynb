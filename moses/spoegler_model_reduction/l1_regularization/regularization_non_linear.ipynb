{
 "cells": [
  {
   "cell_type": "markdown",
   "metadata": {},
   "source": [
    "## Priors after inverting\n",
    "I will do the same as in the second approach for the linear scal. This means creating an aggregated objective consisting of the neg-log-likelihood and the neg-log-prior (laplacian). Both take parameters on linear scale as an input, so I concatenate it again with the inverse function of the different scaling functions, because parameters and bounds in the petab problem are on some other scale. \n",
    "This should be the same as if I would take different priors on the scaled parameters (scaled laplacian).\n",
    "A second approach I might consider later is to implement the regularization not via prios but via adding the penalty term to the objective and then concatenate with the inverse scaling functions. We will see what works better and whether results are different. "
   ]
  },
  {
   "cell_type": "code",
   "execution_count": 1,
   "metadata": {},
   "outputs": [],
   "source": [
    "import libsbml\n",
    "import importlib\n",
    "import os\n",
    "import sys\n",
    "import shutil\n",
    "import pandas as pd\n",
    "\n",
    "\n",
    "\n",
    "import amici\n",
    "import matplotlib.pyplot as plt\n",
    "import numpy as np \n",
    "import petab \n",
    "from petab.C import *\n",
    "\n",
    "import pypesto\n",
    "import pypesto.optimize as optimize\n",
    "import pypesto.petab\n",
    "import pypesto.visualize as visualize\n",
    "import pypesto.objective"
   ]
  },
  {
   "cell_type": "code",
   "execution_count": 2,
   "metadata": {},
   "outputs": [],
   "source": [
    "def make_prior(petab_problem, strength, scale='lin'): \n",
    "  prior_list = []\n",
    "\n",
    "  for i in range(len(petab_problem.get_model_parameters())):\n",
    "    priorType = 'laplace'\n",
    "    priorParameters = [0, 1/strength]\n",
    "    priorScale = scale\n",
    "    prior = pypesto.objective.get_parameter_prior_dict(i, priorType, priorParameters, priorScale)\n",
    "    prior_list.append(prior)\n",
    "\n",
    "  return pypesto.objective.NegLogParameterPriors(prior_list)"
   ]
  },
  {
   "cell_type": "markdown",
   "metadata": {},
   "source": [
    "## Log-shift scale\n",
    "First for the $\\log_{10}(1+x)$  scaling function."
   ]
  },
  {
   "cell_type": "code",
   "execution_count": null,
   "metadata": {},
   "outputs": [],
   "source": [
    "model_name= \"Spoegler_conversionReaction\"\n",
    "param_scale= \"log10_shift\"\n",
    "\n",
    "\n",
    "# the yaml file includes all important links to other files\n",
    "yaml_config =\"petab/\"+param_scale+\"/\"+model_name+\".yaml\"\n",
    "# create a petab problem\n",
    "petab_problem = petab.Problem.from_yaml(yaml_config)\n",
    "\n",
    "# or create from folder (did not work)\n",
    "# petab_problem = petab.Problem.from_folder(\"petab/\"+param_scale)\n",
    "\n",
    "# import to amici\n",
    "importer = pypesto.petab.PetabImporter(petab_problem)\n",
    "importer.compile_model()\n",
    "\n",
    "model = importer.create_model()"
   ]
  },
  {
   "cell_type": "code",
   "execution_count": 4,
   "metadata": {},
   "outputs": [],
   "source": [
    "# initialize solver and options\n",
    "solver = importer.create_solver(model)\n",
    "\n",
    "# enable sensitivities\n",
    "solver.setSensitivityOrder(amici.SensitivityOrder_first)       \n",
    "solver.setSensitivityMethod(amici.SensitivityMethod_forward)  \n",
    "model.requireSensitivitiesForAllParameters()                   "
   ]
  },
  {
   "cell_type": "code",
   "execution_count": 5,
   "metadata": {},
   "outputs": [
    {
     "name": "stderr",
     "output_type": "stream",
     "text": [
      "Using existing amici model in folder /home/vinc777/python_projects/moses/spoegler_model_reduction/l1_regularization/amici_models/Sp_gler_ConversionReaction.\n"
     ]
    }
   ],
   "source": [
    "# linear objective function\n",
    "lin_log_likelihood = importer.create_objective()\n",
    "\n",
    "# create priors on linear scale\n",
    "strength = 1\n",
    "lin_log_prior = make_prior(petab_problem, strength)\n",
    "\n",
    "# aggregate objective function\n",
    "lin_log_posterior = pypesto.objective.AggregatedObjective([lin_log_likelihood, lin_log_prior])\n",
    "\n",
    "\n",
    "\n",
    "# shifted parameter\n",
    "eps = 1\n",
    "def fun(x):\n",
    "    return lin_log_posterior.get_fval(10**np.array(x)-eps)\n",
    "\n",
    "def grad(x):\n",
    "    return lin_log_posterior.get_grad(10**np.array(x)-eps) * 10**np.array(x) * np.log(10)\n",
    "\n",
    "\n",
    "# new objective function\n",
    "neg_log_posterior = pypesto.Objective(fun=fun, grad=grad)"
   ]
  },
  {
   "cell_type": "code",
   "execution_count": 9,
   "metadata": {},
   "outputs": [
    {
     "name": "stdout",
     "output_type": "stream",
     "text": [
      "optimal x =  [0.07918125, 0.04139269, 0.0, 0.17609126]\n",
      "optimal lh value -0.7491889568305559\n"
     ]
    }
   ],
   "source": [
    "print('optimal x = ', petab_problem.x_nominal)\n",
    "print('optimal lh value', neg_log_posterior(petab_problem.x_nominal))"
   ]
  },
  {
   "cell_type": "code",
   "execution_count": null,
   "metadata": {},
   "outputs": [],
   "source": [
    "# create optimizer object\n",
    "optimizer = optimize.ScipyOptimizer()\n",
    "\n",
    "# create problem object\n",
    "problem = importer.create_problem(objective=neg_log_posterior)\n",
    "\n",
    "# do the optimization\n",
    "n_starts = 100\n",
    "\n",
    "result = optimize.minimize(problem=problem, optimizer=optimizer, n_starts=n_starts, filename=None)"
   ]
  },
  {
   "cell_type": "code",
   "execution_count": 14,
   "metadata": {},
   "outputs": [
    {
     "name": "stdout",
     "output_type": "stream",
     "text": [
      "best parameter:  [0.10042984 0.0287449  0.00068498 0.17609126]\n",
      "best likelihood value:  -1.6549686229069285\n"
     ]
    }
   ],
   "source": [
    "# print results\n",
    "best_result=result.optimize_result.as_list(\"x\")[0][\"x\"]\n",
    "print('best parameter: ', best_result)\n",
    "print('best likelihood value: ', problem.objective(best_result[0:3]))"
   ]
  },
  {
   "cell_type": "code",
   "execution_count": 12,
   "metadata": {},
   "outputs": [
    {
     "data": {
      "text/plain": [
       "<AxesSubplot:title={'center':'Waterfall plot'}, xlabel='Ordered optimizer run', ylabel='Function value'>"
      ]
     },
     "execution_count": 12,
     "metadata": {},
     "output_type": "execute_result"
    },
    {
     "data": {
      "image/png": "[encoded data removed]",
      "text/plain": [
       "<Figure size 1332x756 with 1 Axes>"
      ]
     },
     "metadata": {
      "needs_background": "light"
     },
     "output_type": "display_data"
    }
   ],
   "source": [
    "# waterfall plot\n",
    "fvals = result.optimize_result.get_for_key(\"fval\")\n",
    "fval = np.array(fvals)\n",
    "fval=fval[fval < 1e2]\n",
    "visualize.waterfall_lowlevel(fval, scale_y='lin')"
   ]
  },
  {
   "cell_type": "code",
   "execution_count": 15,
   "metadata": {},
   "outputs": [
    {
     "name": "stdout",
     "output_type": "stream",
     "text": [
      "Number of converged runs:  99\n"
     ]
    }
   ],
   "source": [
    "# converged means close to the best result up to a threshold\n",
    "\n",
    "threshold = 1e-2\n",
    "n_compares = len(result.optimize_result.as_list(\"x\"))\n",
    "n_converged = 0\n",
    "for i in range(0, n_compares):\n",
    "    compare_result = result.optimize_result.as_list(\"x\")[i][\"x\"]\n",
    "    converged = (np.abs((compare_result - best_result)) < (threshold * len(compare_result))).all()\n",
    "    if converged:\n",
    "        n_converged += 1\n",
    "\n",
    "print(\"Number of converged runs: \", n_converged) "
   ]
  },
  {
   "cell_type": "code",
   "execution_count": 16,
   "metadata": {},
   "outputs": [
    {
     "data": {
      "text/plain": [
       "<AxesSubplot:title={'center':'Estimated parameters'}, xlabel='Parameter value', ylabel='Parameter'>"
      ]
     },
     "execution_count": 16,
     "metadata": {},
     "output_type": "execute_result"
    },
    {
     "data": {
      "image/png": "[encoded data removed]",
      "text/plain": [
       "<Figure size 1332x108 with 1 Axes>"
      ]
     },
     "metadata": {
      "needs_background": "light"
     },
     "output_type": "display_data"
    }
   ],
   "source": [
    "visualize.parameters(result)"
   ]
  },
  {
   "cell_type": "markdown",
   "metadata": {},
   "source": [
    "## Logicle Scale \n",
    "Now the same for parameters on the logicle scale."
   ]
  },
  {
   "cell_type": "code",
   "execution_count": 18,
   "metadata": {},
   "outputs": [],
   "source": [
    "from LogicleScale import    logicleTransform, \\\n",
    "                            logicleInverseTransform, \\\n",
    "                            function_parameters, \\\n",
    "                            logicleGradient, \\\n",
    "                            logicleInverseGradient"
   ]
  },
  {
   "cell_type": "code",
   "execution_count": null,
   "metadata": {},
   "outputs": [],
   "source": [
    "model_name= \"Spoegler_conversionReaction\"\n",
    "param_scale= \"logicle\"\n",
    "\n",
    "\n",
    "# the yaml file includes all important links to other files\n",
    "yaml_config =\"petab/\"+param_scale+\"/\"+model_name+\".yaml\"\n",
    "# create a petab problem\n",
    "petab_problem = petab.Problem.from_yaml(yaml_config)\n",
    "\n",
    "# or create from folder (did not work)\n",
    "# petab_problem = petab.Problem.from_folder(\"petab/\"+param_scale)\n",
    "\n",
    "# import to amici\n",
    "importer = pypesto.petab.PetabImporter(petab_problem)\n",
    "importer.compile_model()\n",
    "\n",
    "model = importer.create_model()"
   ]
  },
  {
   "cell_type": "code",
   "execution_count": 20,
   "metadata": {},
   "outputs": [],
   "source": [
    "# initialize solver and options\n",
    "solver = importer.create_solver(model)\n",
    "\n",
    "# enable sensitivities\n",
    "solver.setSensitivityOrder(amici.SensitivityOrder_first)       \n",
    "solver.setSensitivityMethod(amici.SensitivityMethod_forward)  \n",
    "model.requireSensitivitiesForAllParameters()    "
   ]
  },
  {
   "cell_type": "code",
   "execution_count": 21,
   "metadata": {},
   "outputs": [
    {
     "name": "stderr",
     "output_type": "stream",
     "text": [
      "Using existing amici model in folder /home/vinc777/python_projects/moses/spoegler_model_reduction/l1_regularization/amici_models/Sp_gler_ConversionReaction.\n"
     ]
    }
   ],
   "source": [
    "# linear objective function\n",
    "lin_log_likelihood = importer.create_objective()\n",
    "\n",
    "# create priors on linear scale\n",
    "strength = 1\n",
    "lin_log_prior = make_prior(petab_problem, strength)\n",
    "\n",
    "# aggregate objective function\n",
    "lin_log_posterior = pypesto.objective.AggregatedObjective([lin_log_likelihood, lin_log_prior])\n",
    "\n",
    "\n",
    "\n",
    "# shifted parameter\n",
    "T= 1000\n",
    "trans = 1e-5\n",
    "\n",
    "def fun(x):\n",
    "    return lin_log_posterior.get_fval(logicleInverseTransform(scaled=x, T=T, trans=trans))\n",
    "\n",
    "def grad(x):\n",
    "    return lin_log_posterior.get_grad(logicleInverseTransform(scaled=x, T=T, trans=trans)) * logicleInverseGradient(scaled=x, T=T, trans=trans)\n",
    "\n",
    "\n",
    "# new objective function\n",
    "neg_log_posterior = pypesto.Objective(fun=fun, grad=grad)"
   ]
  },
  {
   "cell_type": "code",
   "execution_count": 22,
   "metadata": {},
   "outputs": [
    {
     "name": "stdout",
     "output_type": "stream",
     "text": [
      "optimal x =  [0.18031863, 0.15425572, 0.0, 0.15425572]\n",
      "optimal lh value 20.396244029948406\n"
     ]
    }
   ],
   "source": [
    "print('optimal x = ', petab_problem.x_nominal)\n",
    "print('optimal lh value', neg_log_posterior(petab_problem.x_nominal))"
   ]
  },
  {
   "cell_type": "code",
   "execution_count": null,
   "metadata": {},
   "outputs": [],
   "source": [
    "# create optimizer object\n",
    "optimizer = optimize.ScipyOptimizer()\n",
    "\n",
    "# create problem object\n",
    "problem = importer.create_problem(objective=neg_log_posterior)\n",
    "\n",
    "# do the optimization\n",
    "n_starts = 100\n",
    "\n",
    "result = optimize.minimize(problem=problem, optimizer=optimizer, n_starts=n_starts, filename=None)"
   ]
  },
  {
   "cell_type": "code",
   "execution_count": 24,
   "metadata": {},
   "outputs": [
    {
     "name": "stdout",
     "output_type": "stream",
     "text": [
      "best parameter:  [0.20644956 0.08859305 0.00246253 0.15425572]\n",
      "best likelihood value:  -2.194392390817063\n"
     ]
    }
   ],
   "source": [
    "# print results\n",
    "best_result=result.optimize_result.as_list(\"x\")[0][\"x\"]\n",
    "print('best parameter: ', best_result)\n",
    "print('best likelihood value: ', problem.objective(best_result[0:3]))"
   ]
  },
  {
   "cell_type": "code",
   "execution_count": 25,
   "metadata": {},
   "outputs": [
    {
     "data": {
      "text/plain": [
       "<AxesSubplot:title={'center':'Waterfall plot'}, xlabel='Ordered optimizer run', ylabel='Function value'>"
      ]
     },
     "execution_count": 25,
     "metadata": {},
     "output_type": "execute_result"
    },
    {
     "data": {
      "image/png": "[encoded data removed]",
      "text/plain": [
       "<Figure size 1332x756 with 1 Axes>"
      ]
     },
     "metadata": {
      "needs_background": "light"
     },
     "output_type": "display_data"
    }
   ],
   "source": [
    "# waterfall plot\n",
    "fvals = result.optimize_result.get_for_key(\"fval\")\n",
    "fval = np.array(fvals)\n",
    "fval=fval[fval < 1e2]\n",
    "visualize.waterfall_lowlevel(fval, scale_y='lin')"
   ]
  },
  {
   "cell_type": "code",
   "execution_count": 26,
   "metadata": {},
   "outputs": [
    {
     "name": "stdout",
     "output_type": "stream",
     "text": [
      "Number of converged runs:  98\n"
     ]
    }
   ],
   "source": [
    "# converged means close to the best result up to a threshold\n",
    "\n",
    "threshold = 1e-2\n",
    "n_compares = len(result.optimize_result.as_list(\"x\"))\n",
    "n_converged = 0\n",
    "for i in range(0, n_compares):\n",
    "    compare_result = result.optimize_result.as_list(\"x\")[i][\"x\"]\n",
    "    converged = (np.abs((compare_result - best_result)) < (threshold * len(compare_result))).all()\n",
    "    if converged:\n",
    "        n_converged += 1\n",
    "\n",
    "print(\"Number of converged runs: \", n_converged) "
   ]
  },
  {
   "cell_type": "code",
   "execution_count": 27,
   "metadata": {},
   "outputs": [
    {
     "data": {
      "text/plain": [
       "<AxesSubplot:title={'center':'Estimated parameters'}, xlabel='Parameter value', ylabel='Parameter'>"
      ]
     },
     "execution_count": 27,
     "metadata": {},
     "output_type": "execute_result"
    },
    {
     "data": {
      "image/png": "[encoded data removed]",
      "text/plain": [
       "<Figure size 1332x108 with 1 Axes>"
      ]
     },
     "metadata": {
      "needs_background": "light"
     },
     "output_type": "display_data"
    }
   ],
   "source": [
    "visualize.parameters(result)"
   ]
  }
 ],
 "metadata": {
  "interpreter": {
   "hash": "916dbcbb3f70747c44a77c7bcd40155683ae19c65e1c03b4aa3499c5328201f1"
  },
  "kernelspec": {
   "display_name": "Python 3.8.10 64-bit",
   "language": "python",
   "name": "python3"
  },
  "language_info": {
   "codemirror_mode": {
    "name": "ipython",
    "version": 3
   },
   "file_extension": ".py",
   "mimetype": "text/x-python",
   "name": "python",
   "nbconvert_exporter": "python",
   "pygments_lexer": "ipython3",
   "version": "3.8.10"
  },
  "orig_nbformat": 4
 },
 "nbformat": 4,
 "nbformat_minor": 2
}
