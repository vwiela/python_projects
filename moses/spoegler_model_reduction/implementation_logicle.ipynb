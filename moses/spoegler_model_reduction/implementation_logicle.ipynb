{
 "cells": [
  {
   "cell_type": "markdown",
   "metadata": {},
   "source": [
    "## Logicle Scale\n",
    "The implementation of the Logicle scale is based on the paper [[1]](#1) and its update from 2012.\n",
    "Before we do the estimation, we first implement the logicle transformation and its gradient as functions. And also their inverse functions.\n",
    "\n",
    "From the paper [[1]](#1) we get the following representation of the scaleing function\n",
    "$$ S(X;W)=\\begin{cases}\n",
    "T*10^{-(M-W-A)}\\left(10^{X-W-A}-p^2*10^{-(X-W-A)/p}+p^2-1\\right), & X\\geq W+A\\\\\n",
    "-T*10^{-(M-W-A)}\\left(10^{X-W-A}-p^2*10^{-(X-W-A)/p}+p^2-1\\right), & X<W+A\n",
    "\\end{cases} $$ \n",
    "with $ W=2p\\log(p)/(p+1) $ and all parameters are in log10 units. \n",
    "The standard values are $A=0, W=0.5, M=4.5, T=1000$.\n",
    "\n",
    "The interpretation of the parameter is the following:\n",
    "T: Top of the scale\n",
    "W: Linearization width (range of linearization around zero) \n",
    "A: Number of decades in the negative range\n",
    "M: Width of the display in decades \n",
    "\n",
    "The practical implementation follows the updated version of the original paper [[2]](#2) and is to a scale range of $[0,1]$.\n",
    "It takes the biexponential function \n",
    "$$ B(x; a,b,c,d,f)=ae^{bx}-ce^{-dx}+f $$\n",
    "with the condition for the data zero position $x_1$\n",
    "$$ \\frac{d^2B(x)}{dx^2}|_{x=x_1}=0\\quad\\text{ and }\\quad B(x_1)=0.\n",
    "$$ \n"
   ]
  },
  {
   "cell_type": "markdown",
   "metadata": {},
   "source": [
    "### Parameters\n",
    "In a first part we compute the actual parameters $b$ and $w$ from the formal parameters $W, M$ and $A$"
   ]
  },
  {
   "cell_type": "code",
   "execution_count": 1,
   "metadata": {},
   "outputs": [],
   "source": [
    "import numpy as np\n",
    "import sys\n",
    "import scipy\n",
    "from scipy.optimize import fsolve\n",
    "import matplotlib.pyplot as plt"
   ]
  },
  {
   "cell_type": "code",
   "execution_count": 2,
   "metadata": {},
   "outputs": [],
   "source": [
    "# set formal parameters\n",
    "W = 0.5\n",
    "A = -W # for data zero point to be zero use A=-W as rcommended in the paper (standard logicle would be A=0)\n",
    "M = 9.12647141\n",
    "# M = 5.126\n",
    "T = 1000\n",
    "\n",
    "# check parameter conditions\n",
    "if T <= 0:\n",
    "\tsys.exit(\"T is not positive\")\n",
    "\n",
    "if W < 0:\n",
    "\tsys.exit(\"W is negative\")\n",
    "\n",
    "if M <= 0:\n",
    "\tsys.exit(\"M is not positive\")\n",
    "\n",
    "if 2 * W > M:\n",
    "\tsys.exit(\"W is too large\")\n",
    "\n",
    "if -A > W or A + W > M - W:\n",
    "\tsys.exit(\"A is too large\")\n",
    "\n",
    "\n",
    "# compute b and w from paper\n",
    "b = (M+A)*np.log(10)\n",
    "w = W/(M+A)"
   ]
  },
  {
   "cell_type": "markdown",
   "metadata": {},
   "source": [
    "$w$ controls the range of data values in the quasilinear region. Next step is to compute the points marking the lower end, midpoint  and upper end of the quasilinear region."
   ]
  },
  {
   "cell_type": "code",
   "execution_count": 3,
   "metadata": {},
   "outputs": [],
   "source": [
    "x2 = A/(M+A)\n",
    "x1 = x2 + w\n",
    "x0 = x1 + w"
   ]
  },
  {
   "cell_type": "markdown",
   "metadata": {},
   "source": [
    "The parameter $d$ can be obtained by solving $w=2\\frac{ln(b)-ln(d)}{b+d}$. Since there is no closed form, this is solved numerically by finding the root of the function $g(d;b,w)=w(b+d)+2(ln(d)-ln(b))$."
   ]
  },
  {
   "cell_type": "code",
   "execution_count": 4,
   "metadata": {},
   "outputs": [],
   "source": [
    "\n",
    "\n",
    "\n",
    "def solve_d (w,b):\n",
    "    if w==0:\n",
    "        return b\n",
    "    def g(x):\n",
    "        g = w*(b+x)+2*(np.log(x)-np.log(b))\n",
    "        return g\n",
    "    d = fsolve(g, b)\n",
    "    return d\n",
    "    \n",
    "\n",
    "d = solve_d(w,b)"
   ]
  },
  {
   "cell_type": "markdown",
   "metadata": {},
   "source": [
    "Now we can compute the still missing parameters with the formulas from the paper [[2]](#2)."
   ]
  },
  {
   "cell_type": "code",
   "execution_count": 5,
   "metadata": {},
   "outputs": [],
   "source": [
    "c_a = np.exp(x0*(b+d))\n",
    "mf_a = np.exp(b*x1)- (c_a/np.exp(d*x1))\n",
    "\n",
    "a = T / ((np.exp(b) - mf_a) - (c_a / np.exp(d)))\n",
    "c = c_a * a \n",
    "f = -mf_a * a \n"
   ]
  },
  {
   "cell_type": "markdown",
   "metadata": {},
   "source": [
    "Before starting to implement the function, we comment a bit on the mathematics and the following implementation.\n",
    "Note that we gave a biexponential function above, but the title is logicle scale. This is, because the logicle function will be the inverse of the above biexponential function. \n",
    "So in order to scale a parameter to the logicle scale, we need to implement the inverse of the above function. The inverse cannot be given in a closed form, so we need to solve it numerically.\n",
    "\n",
    "\n",
    "The Logicle function as implemented below and proposed by the paper [[2]](#2) will scale a parameter space to the interval $[0,1]$, where the $0$ of the original scale will be mapped onto the reference value $x_1$ in the logicle scale, which corresponds to the condition $B(x_1)=0$.\n",
    "In a neighborhood of this $x_1$, we cannot evaluate the biexponential function straightforward, since this would lose significance by subtracting terms that are nearly equal. So we will use a Taylor series approximation.\n",
    "\n",
    "To compute the inverse numerically, we first give a good guess as follows. Given an arbitrary data value $y$, we guess that it is in the approximately logarithmic part if $y\\geq f$. Hence, we can use $x=\\ln(y)$ as a good approximation.\n",
    "For $y<f$ it is in the linear part and we use the linear approximation $x=x_1+\\frac{y}{B'(x_1)}$ as an initial estimate (This includes negative values sicne we use symmetry around $x_1$ to change a negative $y$ to a positive one and reflect the resulting x later at $x_1$).\n",
    "\n",
    "With this guess we use Halley's method to get the root of the function $f(x)=B(x)-y$. The $x$ solving $f(x)=0$ is then the parameter value on the logicle scale. \n",
    "\n",
    "Halley's method uses as an iteration step \n",
    "$$ x_{n+1}=x_n-\\Delta, \\quad\\text{with}\\quad \\Delta=\\frac{f(x)}{f'(x)-\\frac{f(x)}{f'(x)}\\frac{f''(x)}{2}} $$\n",
    "\n",
    "The linear part is then symmetrically around that value $x_1$ and for higher values it evolves a logarithmic behaviour. "
   ]
  },
  {
   "cell_type": "code",
   "execution_count": 6,
   "metadata": {},
   "outputs": [],
   "source": [
    "# Taylor series around x1 for value on logicle scale [0,1]\n",
    "# We start the series with thefirst derivative, since the function value at x1 is 0 (logicle condition)\n",
    "\n",
    "def biexponentialTaylorSeries(scaled):\n",
    "    order = 16 # order of taylor series is 16\n",
    "\n",
    "    posCoef = a*np.exp(b*x1)\n",
    "    negCoef = -c*np.exp(-d*x1)\n",
    "    taylorCoef = np.zeros(order)\n",
    "\n",
    "    for i in range(order):\n",
    "        posCoef = posCoef*(b/(i+1))\n",
    "        negCoef = negCoef*(-d/(i+1))\n",
    "        taylorCoef[i] = posCoef + negCoef\n",
    "    taylorCoef[1]=0 # ensuring that the second derivative is 0 (logicle condition)    \n",
    "\n",
    "    x = scaled - x1\n",
    "    sum = 0\n",
    "\n",
    "    for i in range(order): \n",
    "        sum = (sum + taylorCoef[order-1-i])*x \n",
    "        \n",
    "    return sum\n"
   ]
  },
  {
   "cell_type": "code",
   "execution_count": 7,
   "metadata": {},
   "outputs": [],
   "source": [
    "# implement the logicle transformation function\n",
    "\n",
    "def logicleTransform1d(value):\n",
    "    if value==0: # exclude exact zero value\n",
    "        return x1\n",
    "\n",
    "    negative = value<0\n",
    "    if negative:\n",
    "        value = -value\n",
    "    \n",
    "    if value < f:\n",
    "        x = x1+(value/(a*b*np.exp(b*x1)+c*d*np.exp(-d*x1))) # later use taylorCoef[0] if functions are inside each other or a class\n",
    "    \n",
    "    if value >= f:\n",
    "        x = np.log(value/a)/b # in original implementation other condition, why?\n",
    "    \n",
    "    tolerance = 1e-15 # set tolerance for convergence\n",
    "    n_steps = 50 # set maximal number of steps for Halley's method\n",
    "    taylor_treshold = x1 + w/4 # threshold for neighbourhood of x1 in which we apply taylor series (include in logicle object?)\n",
    "\n",
    "    for i in range(n_steps):\n",
    "        step = i\n",
    "        first_term = a*np.exp(b*x)\n",
    "        second_term = c*np.exp(-d*x)\n",
    "\n",
    "        if x < taylor_treshold:\n",
    "            y = biexponentialTaylorSeries(x) - value\n",
    "        else:\n",
    "            y = first_term-second_term+f - value\n",
    "        dy = b*first_term + d*second_term\n",
    "        ddy = b*b*first_term - d*d*second_term\n",
    "\n",
    "        delta = y/(dy-((y*ddy)/(2*dy)))\n",
    "        x = x - delta\n",
    "\n",
    "        if np.absolute(delta) < tolerance:\n",
    "            if negative:\n",
    "                return 2*x1-x\n",
    "            else:\n",
    "                return x\n",
    "                \n",
    "    sys.exit(\"Scale did not converge!\")\n",
    "   \n",
    "def logicleTransform(par):\n",
    "    if np.ndim(par)==0:\n",
    "        logicle_par = logicleTransform1d(par)\n",
    "    else:\n",
    "        length = len(par)\n",
    "        logicle_par = np.zeros(length)\n",
    "\n",
    "        for i in range(length):\n",
    "            logicle_par[i] = logicleTransform1d(par[i])\n",
    "    \n",
    "    return logicle_par\n",
    "    \n",
    "\n",
    "    "
   ]
  },
  {
   "cell_type": "code",
   "execution_count": 8,
   "metadata": {},
   "outputs": [],
   "source": [
    "# plotting the logicle function\n",
    "\n",
    "par = np.linspace(0,1e3,10**5)\n",
    "\n",
    "logicle_par = logicleTransform(par) \n"
   ]
  },
  {
   "cell_type": "code",
   "execution_count": 9,
   "metadata": {},
   "outputs": [
    {
     "data": {
      "text/plain": [
       "array([0.42033999])"
      ]
     },
     "execution_count": 9,
     "metadata": {},
     "output_type": "execute_result"
    }
   ],
   "source": [
    "logicleTransform1d(0.01)"
   ]
  },
  {
   "cell_type": "code",
   "execution_count": 10,
   "metadata": {},
   "outputs": [
    {
     "data": {
      "image/png": "[encoded data removed]",
      "text/plain": [
       "<Figure size 432x288 with 1 Axes>"
      ]
     },
     "metadata": {
      "needs_background": "light"
     },
     "output_type": "display_data"
    }
   ],
   "source": [
    "\n",
    "plt.plot(par, logicle_par)\n",
    "plt.xlabel(\"parameter\")\n",
    "plt.ylabel(\"logicle parameter\")\n",
    "plt.xscale('log')\n",
    "plt.xlim(1e-9,1e3)\n",
    "plt.show()"
   ]
  },
  {
   "cell_type": "markdown",
   "metadata": {},
   "source": [
    "Now we define the inverse transformation which is jsut the biexponential function from above. Again for values around $x_1$ we evaluate it using Taylor series."
   ]
  },
  {
   "cell_type": "code",
   "execution_count": 11,
   "metadata": {},
   "outputs": [],
   "source": [
    "def logicleInverseTransform(scaled):\n",
    "    negative = scaled < x1\n",
    "\n",
    "    if negative:\n",
    "        scaled = 2*x1-scaled   # reflect negative region\n",
    "    \n",
    "    taylor_treshold = x1 + w/4 # threshold for neighbourhood of x1 in which we apply taylor series (include in logicle object?)\n",
    "\n",
    "    if scaled < taylor_treshold:\n",
    "        inverse = biexponentialTaylorSeries(scaled)\n",
    "    else:\n",
    "        inverse = a*np.exp(b*scaled)-c*np.exp(-d*scaled)+f\n",
    "\n",
    "    if negative:\n",
    "        return - inverse\n",
    "    else:\n",
    "        return inverse\n",
    "    "
   ]
  },
  {
   "cell_type": "code",
   "execution_count": 12,
   "metadata": {},
   "outputs": [
    {
     "data": {
      "text/plain": [
       "array([0.65223274])"
      ]
     },
     "execution_count": 12,
     "metadata": {},
     "output_type": "execute_result"
    }
   ],
   "source": [
    "# testing function and inverse\n",
    "\n",
    "logicleTransform(1)\n",
    "# logicleTransform(logicleInverseTransform((0.1)))"
   ]
  },
  {
   "cell_type": "code",
   "execution_count": 13,
   "metadata": {},
   "outputs": [
    {
     "name": "stdout",
     "output_type": "stream",
     "text": [
      "[1.00000085e-05]\n"
     ]
    }
   ],
   "source": [
    "# plotting logicle function with transition point \n",
    "par = np.linspace(0,1e3,10**5)\n",
    "\n",
    "logicle_par = logicleTransform(par) \n",
    "\n",
    "# getting the transition point\n",
    "\n",
    "transition_point = x0\n",
    "transition = logicleInverseTransform(transition_point)\n",
    "\n",
    "print(transition)\n",
    "\n"
   ]
  },
  {
   "cell_type": "code",
   "execution_count": 14,
   "metadata": {},
   "outputs": [
    {
     "data": {
      "image/png": "[encoded data removed]",
      "text/plain": [
       "<Figure size 432x288 with 1 Axes>"
      ]
     },
     "metadata": {
      "needs_background": "light"
     },
     "output_type": "display_data"
    }
   ],
   "source": [
    "plt.plot(par, logicle_par)\n",
    "plt.vlines(x0, 0, 1, color='red', label='transition')\n",
    "plt.xlabel(\"parameter\")\n",
    "plt.ylabel(\"logicle parameter\")\n",
    "plt.xscale('log')\n",
    "plt.xlim(1e-9,1e3)\n",
    "plt.legend()\n",
    "plt.show()"
   ]
  },
  {
   "cell_type": "markdown",
   "metadata": {},
   "source": [
    "### References\n",
    "<a id=\"1\">[1]</a>\n",
    "Parks, David; Roederer, Mario; Moore, Wayne (2006).\n",
    "A new Logicle Display Method Avoids Deceptice Effects of Logarithmic Scaling for Low Signals and Compensated Data.\n",
    "Article.\n",
    "International Society for Analytical Cytology.\n",
    "\n",
    "<a id=\"1\">[2]</a>\n",
    "Moore, Wayne (2012).\n",
    "Update for the Logicle Data Scale Including Operational Code Implementations.\n",
    "Article.\n",
    "International Society for Advancement of Cytometry.\n",
    "\n"
   ]
  },
  {
   "cell_type": "markdown",
   "metadata": {},
   "source": [
    "My first attempt to implement the logicle function, was to use \\textit{fsolve} for the root finding in the inverting process. This gives nearly the same values for high values and still similar ones for low values. \n",
    "Since it does not give exactly 1 for 1000 as an input, as it should by our specified parameters, I used an implementation of Halley's method as proposed in [[2]](#2)."
   ]
  }
 ],
 "metadata": {
  "interpreter": {
   "hash": "916dbcbb3f70747c44a77c7bcd40155683ae19c65e1c03b4aa3499c5328201f1"
  },
  "kernelspec": {
   "display_name": "Python 3.8.10 64-bit",
   "language": "python",
   "name": "python3"
  },
  "language_info": {
   "codemirror_mode": {
    "name": "ipython",
    "version": 3
   },
   "file_extension": ".py",
   "mimetype": "text/x-python",
   "name": "python",
   "nbconvert_exporter": "python",
   "pygments_lexer": "ipython3",
   "version": "3.8.10"
  },
  "orig_nbformat": 4
 },
 "nbformat": 4,
 "nbformat_minor": 2
}
