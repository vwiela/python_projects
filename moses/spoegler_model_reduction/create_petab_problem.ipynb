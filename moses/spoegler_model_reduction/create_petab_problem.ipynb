{
 "cells": [
  {
   "cell_type": "markdown",
   "metadata": {},
   "source": [
    "# Create petab problem from SBML file\n",
    "In this notebook we create the necessary files for a petab problem from a SBML file using the conversion reaction model as an example."
   ]
  },
  {
   "cell_type": "code",
   "execution_count": 1,
   "metadata": {},
   "outputs": [],
   "source": [
    "import libsbml\n",
    "import importlib\n",
    "import os\n",
    "import sys\n",
    "import shutil\n",
    "\n",
    "import amici\n",
    "import amici.plotting\n",
    "\n",
    "import pandas as pd\n",
    "import numpy as np\n",
    "\n",
    "import petab\n",
    "from petab.C import *\n"
   ]
  },
  {
   "cell_type": "markdown",
   "metadata": {},
   "source": [
    "### Load and compile the model"
   ]
  },
  {
   "cell_type": "code",
   "execution_count": 2,
   "metadata": {},
   "outputs": [
    {
     "name": "stdout",
     "output_type": "stream",
     "text": [
      "Model name: Spoegler_conversionReaction\n",
      "Model parameters: ('k1', 'k2', 'k3')\n",
      "Model outputs:    ('yA', 'yB', 'yCell')\n",
      "Model states:     ('A', 'B')\n"
     ]
    }
   ],
   "source": [
    "# model name\n",
    "model_name = \"Spoegler_conversionReaction\"\n",
    "\n",
    "#sbml file we want to use\n",
    "sbml_file = \"Spoegler_conversionReaction.xml\"\n",
    "\n",
    "#output directory, to which generated model code is written\n",
    "model_output_dir = \"tmp/\"+model_name\n",
    "\n",
    "# model compilation\n",
    "sbml_importer = amici.SbmlImporter(sbml_file)\n",
    "sbml_importer.sbml2amici(model_name, model_output_dir, verbose=False)\n",
    "\n",
    "# loading the model module\n",
    "model_module = amici.import_model_module(model_name, model_output_dir)\n",
    "model = model_module.getModel()\n",
    "solver = model.getSolver()\n",
    "\n",
    "# Have a look on the model\n",
    "print(\"Model name:\", model.getName())\n",
    "print(\"Model parameters:\", model.getParameterIds())\n",
    "print(\"Model outputs:   \", model.getObservableIds())\n",
    "print(\"Model states:    \", model.getStateIds())"
   ]
  },
  {
   "cell_type": "code",
   "execution_count": 3,
   "metadata": {},
   "outputs": [
    {
     "data": {
      "image/png": "[encoded data removed]",
      "text/plain": [
       "<Figure size 432x288 with 1 Axes>"
      ]
     },
     "metadata": {
      "needs_background": "light"
     },
     "output_type": "display_data"
    }
   ],
   "source": [
    "model.setTimepoints([0,1,5,10,30,60])\n",
    "\n",
    "model.setParameterByName(\"k1\", 0.2)\n",
    "model.setParameterByName(\"k2\", 0.1)\n",
    "model.setParameterByName(\"k3\", 0)\n",
    "\n",
    "# Run simulation using default model parameters and solver options\n",
    "rdata = amici.runAmiciSimulation(model, solver)\n",
    "\n",
    "# get simulated data\n",
    "simulations = rdata.x\n",
    "\n",
    "# plot simulated trajectories\n",
    "amici.plotting.plotStateTrajectories(rdata)\n",
    "\n",
    "\n"
   ]
  },
  {
   "cell_type": "markdown",
   "metadata": {},
   "source": [
    "### Adding noise\n",
    "To get some artifical noisy measuremtn data, we add normal noise to the simulation of the observable of interest, which is the second species."
   ]
  },
  {
   "cell_type": "code",
   "execution_count": 4,
   "metadata": {},
   "outputs": [
    {
     "name": "stdout",
     "output_type": "stream",
     "text": [
      "[0.00000000e+00 9.67483589e-03 2.13061321e-01 7.35758887e-01\n",
      " 4.09957414e+00 1.00049575e+01]\n",
      "[ 0.05157086 -0.16298155  0.20600331  0.71333279  4.37924788  9.92666106]\n"
     ]
    }
   ],
   "source": [
    "times = [0,1,5,10,30,60]\n",
    "nt = len(times)\n",
    "sigma = 0.15\n",
    "simulationsB = simulations.T[1]\n",
    "measurementsB = simulationsB + sigma * np.random.randn(nt)\n",
    "print(simulationsB)\n",
    "print(measurementsB)"
   ]
  },
  {
   "cell_type": "markdown",
   "metadata": {},
   "source": [
    "### Create PEtab files\n",
    "Now we can create the PEtab files, where we specify the observable, add the noise as an extra parameter and specify the parameter scale."
   ]
  },
  {
   "cell_type": "code",
   "execution_count": 5,
   "metadata": {},
   "outputs": [],
   "source": [
    "# specify parameter scale\n",
    "param_scale=\"lin\"\n",
    "\n",
    "condition_df = pd.DataFrame(\n",
    "    data={\n",
    "        CONDITION_ID: ['condition1'],\n",
    "    }\n",
    ").set_index([CONDITION_ID])\n",
    "\n",
    "measurement_df = pd.DataFrame(\n",
    "    data={\n",
    "        OBSERVABLE_ID: ['observed_B'] * nt,\n",
    "        SIMULATION_CONDITION_ID: ['condition1'] * nt,\n",
    "        MEASUREMENT: measurementsB,\n",
    "        TIME: times,\n",
    "        NOISE_PARAMETERS: ['sd_observed_B'] * nt,\n",
    "    }\n",
    ")\n",
    "\n",
    "observable_df = pd.DataFrame(\n",
    "    data={\n",
    "        OBSERVABLE_ID: ['observed_B'],\n",
    "        OBSERVABLE_FORMULA: ['B'],\n",
    "        NOISE_FORMULA: ['noiseParameter1_observed_B'],\n",
    "        NOISE_DISTRIBUTION: ['normal'],\n",
    "    }\n",
    ").set_index([OBSERVABLE_ID])\n",
    "\n",
    "parameter_df = pd.DataFrame(\n",
    "    data={\n",
    "        PARAMETER_ID: ['k1', 'k2', 'k3', 'sd_observed_B'],\n",
    "        PARAMETER_SCALE: [param_scale] * 4,\n",
    "        LOWER_BOUND: [-5] * 4,\n",
    "        UPPER_BOUND: [3] * 4,\n",
    "        NOMINAL_VALUE: [0.07918125, 0.04139269, 0, 0.17609126],\n",
    "        ESTIMATE: [1] * 4,\n",
    "    }\n",
    ").set_index(PARAMETER_ID)\n",
    "\n",
    "yaml_config = {\n",
    "    FORMAT_VERSION: 1,\n",
    "    PARAMETER_FILE: \"parameters.tsv\",\n",
    "    PROBLEMS: [\n",
    "        {\n",
    "            SBML_FILES: [\"Spoegler_conversionReaction.xml\"],\n",
    "            CONDITION_FILES: [\"conditions.tsv\"],\n",
    "            MEASUREMENT_FILES: [\"measurements.tsv\"],\n",
    "            OBSERVABLE_FILES: [\"observables.tsv\"],\n",
    "        }\n",
    "    ],\n",
    "}\n",
    "\n",
    "param_scale='log10_shift2'\n",
    "# create folders for the scale and store the files\n",
    "os.makedirs(\"petab/\"+param_scale)\n",
    "petab.write_condition_df(condition_df, \"petab/\"+param_scale+\"/conditions.tsv\")\n",
    "petab.write_measurement_df(measurement_df, \"petab/\"+param_scale+\"/measurements.tsv\")\n",
    "petab.write_observable_df(observable_df, \"petab/\"+param_scale+\"/observables.tsv\")\n",
    "petab.write_parameter_df(parameter_df, \"petab/\"+param_scale+\"/parameters.tsv\")\n",
    "petab.write_yaml(yaml_config, \"petab/\"+param_scale+\"/Spoegler_conversionReaction.yaml\")\n",
    "\n"
   ]
  },
  {
   "cell_type": "code",
   "execution_count": 6,
   "metadata": {},
   "outputs": [
    {
     "data": {
      "text/plain": [
       "'petab/log10_shift2/Spoegler_conversionReaction.xml'"
      ]
     },
     "execution_count": 6,
     "metadata": {},
     "output_type": "execute_result"
    }
   ],
   "source": [
    "# copy sbml file to same petab-folder\n",
    "shutil.copy(\"Spoegler_conversionReaction.xml\", \"petab/\"+param_scale+\"/Spoegler_conversionReaction.xml\")"
   ]
  },
  {
   "cell_type": "code",
   "execution_count": 7,
   "metadata": {},
   "outputs": [
    {
     "data": {
      "text/plain": [
       "False"
      ]
     },
     "execution_count": 7,
     "metadata": {},
     "output_type": "execute_result"
    }
   ],
   "source": [
    "# validate written PEtab files\n",
    "problem = petab.Problem.from_yaml(\"petab/\"+param_scale+\"/Spoegler_conversionReaction.yaml\")\n",
    "petab.lint_problem(problem)"
   ]
  }
 ],
 "metadata": {
  "interpreter": {
   "hash": "916dbcbb3f70747c44a77c7bcd40155683ae19c65e1c03b4aa3499c5328201f1"
  },
  "kernelspec": {
   "display_name": "Python 3.8.10 64-bit",
   "language": "python",
   "name": "python3"
  },
  "language_info": {
   "codemirror_mode": {
    "name": "ipython",
    "version": 3
   },
   "file_extension": ".py",
   "mimetype": "text/x-python",
   "name": "python",
   "nbconvert_exporter": "python",
   "pygments_lexer": "ipython3",
   "version": "3.8.10"
  },
  "orig_nbformat": 4
 },
 "nbformat": 4,
 "nbformat_minor": 2
}
