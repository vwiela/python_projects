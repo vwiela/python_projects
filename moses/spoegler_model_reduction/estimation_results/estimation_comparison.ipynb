{
 "cells": [
  {
   "cell_type": "markdown",
   "metadata": {},
   "source": [
    "First I read the best parameter values and likelihoods from the estimation (by hand since performing them again takes time). And we compare them to the nominal values and to each other"
   ]
  },
  {
   "cell_type": "code",
   "execution_count": 2,
   "metadata": {},
   "outputs": [],
   "source": [
    "import pandas as pd"
   ]
  },
  {
   "cell_type": "code",
   "execution_count": 5,
   "metadata": {},
   "outputs": [],
   "source": [
    "# create one csv\n",
    "\n",
    "lin = pd.DataFrame(pd.read_csv(\"lin.csv\"))\n",
    "log10 = pd.DataFrame(pd.read_csv(\"log10.csv\"))\n",
    "log10_shift = pd.DataFrame(pd.read_csv(\"log10_shift.csv\"))\n",
    "logicle = pd.DataFrame(pd.read_csv(\"logicle.csv\"))\n",
    "\n",
    "lin.to_csv(\"comparison.csv\", index=False)\n",
    "log10.to_csv(\"comparison.csv\", index=False, mode=\"a\")\n",
    "log10_shift.to_csv(\"comparison.csv\", index=False, mode=\"a\")\n",
    "logicle.to_csv(\"comparison.csv\", index=False, mode=\"a\")\n"
   ]
  }
 ],
 "metadata": {
  "interpreter": {
   "hash": "916dbcbb3f70747c44a77c7bcd40155683ae19c65e1c03b4aa3499c5328201f1"
  },
  "kernelspec": {
   "display_name": "Python 3.8.10 64-bit",
   "language": "python",
   "name": "python3"
  },
  "language_info": {
   "codemirror_mode": {
    "name": "ipython",
    "version": 3
   },
   "file_extension": ".py",
   "mimetype": "text/x-python",
   "name": "python",
   "nbconvert_exporter": "python",
   "pygments_lexer": "ipython3",
   "version": "3.8.10"
  },
  "orig_nbformat": 4
 },
 "nbformat": 4,
 "nbformat_minor": 2
}
